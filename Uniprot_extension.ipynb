{
 "cells": [
  {
   "cell_type": "code",
   "execution_count": 18,
   "id": "22de2f79",
   "metadata": {},
   "outputs": [
    {
     "name": "stdout",
     "output_type": "stream",
     "text": [
      "Collecting bioservices\n",
      "  Downloading bioservices-1.9.0.tar.gz (199 kB)\n",
      "Collecting grequests\n",
      "  Downloading grequests-0.6.0-py3-none-any.whl (5.2 kB)\n",
      "Requirement already satisfied: requests in c:\\users\\reagon.karki\\anaconda3\\envs\\bycovid_new\\lib\\site-packages (from bioservices) (2.27.1)\n",
      "Requirement already satisfied: requests_cache in c:\\users\\reagon.karki\\anaconda3\\envs\\bycovid_new\\lib\\site-packages (from bioservices) (0.7.5)\n",
      "Collecting easydev>=0.9.36\n",
      "  Downloading easydev-0.12.0.tar.gz (47 kB)\n",
      "Requirement already satisfied: beautifulsoup4 in c:\\users\\reagon.karki\\anaconda3\\envs\\bycovid_new\\lib\\site-packages (from bioservices) (4.11.1)\n",
      "Collecting xmltodict\n",
      "  Downloading xmltodict-0.13.0-py2.py3-none-any.whl (10.0 kB)\n",
      "Collecting lxml\n",
      "  Downloading lxml-4.8.0-cp310-cp310-win_amd64.whl (3.6 MB)\n",
      "Collecting suds-community\n",
      "  Downloading suds_community-1.1.1-py3-none-any.whl (144 kB)\n",
      "Collecting appdirs\n",
      "  Downloading appdirs-1.4.4-py2.py3-none-any.whl (9.6 kB)\n",
      "Collecting wrapt\n",
      "  Downloading wrapt-1.14.1-cp310-cp310-win_amd64.whl (35 kB)\n",
      "Requirement already satisfied: pandas in c:\\users\\reagon.karki\\anaconda3\\envs\\bycovid_new\\lib\\site-packages (from bioservices) (1.4.2)\n",
      "Collecting colorlog\n",
      "  Downloading colorlog-6.6.0-py2.py3-none-any.whl (11 kB)\n",
      "Requirement already satisfied: colorama in c:\\users\\reagon.karki\\anaconda3\\envs\\bycovid_new\\lib\\site-packages (from easydev>=0.9.36->bioservices) (0.4.4)\n",
      "Collecting pexpect\n",
      "  Downloading pexpect-4.8.0-py2.py3-none-any.whl (59 kB)\n",
      "Requirement already satisfied: soupsieve>1.2 in c:\\users\\reagon.karki\\anaconda3\\envs\\bycovid_new\\lib\\site-packages (from beautifulsoup4->bioservices) (2.3.1)\n",
      "Collecting gevent\n",
      "  Downloading gevent-21.12.0-cp310-cp310-win_amd64.whl (1.6 MB)\n",
      "Requirement already satisfied: cffi>=1.12.2 in c:\\users\\reagon.karki\\anaconda3\\envs\\bycovid_new\\lib\\site-packages (from gevent->grequests->bioservices) (1.15.0)\n",
      "Collecting zope.event\n",
      "  Downloading zope.event-4.5.0-py2.py3-none-any.whl (6.8 kB)\n",
      "Collecting zope.interface\n",
      "  Downloading zope.interface-5.4.0.tar.gz (249 kB)\n",
      "Requirement already satisfied: greenlet<2.0,>=1.1.0 in c:\\users\\reagon.karki\\anaconda3\\envs\\bycovid_new\\lib\\site-packages (from gevent->grequests->bioservices) (1.1.2)\n",
      "Requirement already satisfied: setuptools in c:\\users\\reagon.karki\\anaconda3\\envs\\bycovid_new\\lib\\site-packages (from gevent->grequests->bioservices) (61.2.0)\n",
      "Requirement already satisfied: pycparser in c:\\users\\reagon.karki\\anaconda3\\envs\\bycovid_new\\lib\\site-packages (from cffi>=1.12.2->gevent->grequests->bioservices) (2.21)\n",
      "Requirement already satisfied: numpy>=1.21.0 in c:\\users\\reagon.karki\\anaconda3\\envs\\bycovid_new\\lib\\site-packages (from pandas->bioservices) (1.22.3)\n",
      "Requirement already satisfied: pytz>=2020.1 in c:\\users\\reagon.karki\\anaconda3\\envs\\bycovid_new\\lib\\site-packages (from pandas->bioservices) (2022.1)\n",
      "Requirement already satisfied: python-dateutil>=2.8.1 in c:\\users\\reagon.karki\\anaconda3\\envs\\bycovid_new\\lib\\site-packages (from pandas->bioservices) (2.8.2)\n",
      "Requirement already satisfied: six>=1.5 in c:\\users\\reagon.karki\\anaconda3\\envs\\bycovid_new\\lib\\site-packages (from python-dateutil>=2.8.1->pandas->bioservices) (1.16.0)\n",
      "Collecting ptyprocess>=0.5\n",
      "  Downloading ptyprocess-0.7.0-py2.py3-none-any.whl (13 kB)\n",
      "Requirement already satisfied: certifi>=2017.4.17 in c:\\users\\reagon.karki\\anaconda3\\envs\\bycovid_new\\lib\\site-packages (from requests->bioservices) (2020.6.20)\n",
      "Requirement already satisfied: charset-normalizer~=2.0.0 in c:\\users\\reagon.karki\\anaconda3\\envs\\bycovid_new\\lib\\site-packages (from requests->bioservices) (2.0.12)\n",
      "Requirement already satisfied: idna<4,>=2.5 in c:\\users\\reagon.karki\\anaconda3\\envs\\bycovid_new\\lib\\site-packages (from requests->bioservices) (3.3)\n",
      "Requirement already satisfied: urllib3<1.27,>=1.21.1 in c:\\users\\reagon.karki\\anaconda3\\envs\\bycovid_new\\lib\\site-packages (from requests->bioservices) (1.26.9)\n",
      "Requirement already satisfied: pyyaml>=5.4 in c:\\users\\reagon.karki\\anaconda3\\envs\\bycovid_new\\lib\\site-packages (from requests_cache->bioservices) (6.0)\n",
      "Requirement already satisfied: itsdangerous>=2.0.1 in c:\\users\\reagon.karki\\anaconda3\\envs\\bycovid_new\\lib\\site-packages (from requests_cache->bioservices) (2.1.2)\n",
      "Requirement already satisfied: url-normalize<2.0,>=1.4 in c:\\users\\reagon.karki\\anaconda3\\envs\\bycovid_new\\lib\\site-packages (from requests_cache->bioservices) (1.4.3)\n",
      "Requirement already satisfied: attrs<22.0,>=21.2 in c:\\users\\reagon.karki\\anaconda3\\envs\\bycovid_new\\lib\\site-packages (from requests_cache->bioservices) (21.4.0)\n",
      "Building wheels for collected packages: bioservices, easydev, zope.interface\n",
      "  Building wheel for bioservices (setup.py): started\n",
      "  Building wheel for bioservices (setup.py): finished with status 'done'\n",
      "  Created wheel for bioservices: filename=bioservices-1.9.0-py3-none-any.whl size=230231 sha256=d3e7449d81c9acb4b645949055e6ab7a165eb7f41acb5a92db04892ff5c33dc3\n",
      "  Stored in directory: c:\\users\\reagon.karki\\appdata\\local\\pip\\cache\\wheels\\9b\\68\\e9\\b768a42d74673aa595957798191f0baec83d456f7e18a5a350\n",
      "  Building wheel for easydev (setup.py): started\n",
      "  Building wheel for easydev (setup.py): finished with status 'done'\n",
      "  Created wheel for easydev: filename=easydev-0.12.0-py3-none-any.whl size=64231 sha256=f0b543c09bd63ca04ebc402c7cc2c6c48f428a047f93bc44120ee9081acb9fd5\n",
      "  Stored in directory: c:\\users\\reagon.karki\\appdata\\local\\pip\\cache\\wheels\\b6\\ce\\17\\2e5a20cb830fe7f5f86da83fc81f7b68dd6e798fae7423cce9\n",
      "  Building wheel for zope.interface (setup.py): started\n",
      "  Building wheel for zope.interface (setup.py): finished with status 'done'\n",
      "  Created wheel for zope.interface: filename=zope.interface-5.4.0-cp310-cp310-win_amd64.whl size=197622 sha256=cfdf0b0445e467d8e16e59da7d61ff821fd9beadf0aed2e9abc2b20492c85685\n",
      "  Stored in directory: c:\\users\\reagon.karki\\appdata\\local\\pip\\cache\\wheels\\21\\a9\\8b\\0bfc5594d8e109d5b25d6b69e0cff14d09d93e3522dcb16d2b\n",
      "Successfully built bioservices easydev zope.interface\n",
      "Installing collected packages: zope.interface, zope.event, ptyprocess, pexpect, gevent, colorlog, xmltodict, wrapt, suds-community, lxml, grequests, easydev, appdirs, bioservices\n",
      "Successfully installed appdirs-1.4.4 bioservices-1.9.0 colorlog-6.6.0 easydev-0.12.0 gevent-21.12.0 grequests-0.6.0 lxml-4.8.0 pexpect-4.8.0 ptyprocess-0.7.0 suds-community-1.1.1 wrapt-1.14.1 xmltodict-0.13.0 zope.event-4.5.0 zope.interface-5.4.0\n",
      "Note: you may need to restart the kernel to use updated packages.\n"
     ]
    }
   ],
   "source": [
    "pip install bioservices"
   ]
  },
  {
   "cell_type": "code",
   "execution_count": 136,
   "id": "c9b94c29",
   "metadata": {},
   "outputs": [],
   "source": [
    "import uniprot\n",
    "import pprint\n",
    "import io\n",
    "import pandas as pd"
   ]
  },
  {
   "cell_type": "code",
   "execution_count": 137,
   "id": "7c7b8b28",
   "metadata": {},
   "outputs": [
    {
     "name": "stdout",
     "output_type": "stream",
     "text": [
      "Fetching 2 (P_REFSEQ_AC->ACC) mappings from http://uniprot.org...\n",
      "[]\n"
     ]
    }
   ],
   "source": [
    "seqids = \"NP_000508.1  NP_001018081.3\".split()\n",
    "\n",
    "pairs = uniprot.batch_uniprot_id_mapping_pairs(\n",
    "  'P_REFSEQ_AC', 'ACC', seqids)\n",
    "\n",
    "pprint.pprint(pairs, indent=2)"
   ]
  },
  {
   "cell_type": "code",
   "execution_count": 138,
   "id": "aec59b5b",
   "metadata": {},
   "outputs": [
    {
     "data": {
      "text/plain": [
       "'P37840'"
      ]
     },
     "execution_count": 138,
     "metadata": {},
     "output_type": "execute_result"
    }
   ],
   "source": [
    "ids = ['P37840','P01375']\n",
    "ids[0]\n"
   ]
  },
  {
   "cell_type": "code",
   "execution_count": 15,
   "id": "37c7313f",
   "metadata": {},
   "outputs": [
    {
     "data": {
      "text/plain": [
       "['A0QSU3', 'D9QCH6', 'A0QL36', 'P01375']"
      ]
     },
     "execution_count": 15,
     "metadata": {},
     "output_type": "execute_result"
    }
   ],
   "source": [
    "uniprot_seqids = 'A0QSU3 D9QCH6 A0QL36 P01375'.split()\n",
    "uniprot_seqids"
   ]
  },
  {
   "cell_type": "code",
   "execution_count": 16,
   "id": "bfac58e7",
   "metadata": {},
   "outputs": [
    {
     "name": "stdout",
     "output_type": "stream",
     "text": [
      "Fetching metadata for 6 Uniprot IDs from http://uniprot.org ...\n",
      "Error in fetching metadata\n"
     ]
    }
   ],
   "source": [
    "uniprot_data = uniprot.batch_uniprot_metadata(uniprot_seqids[0],'cache')\n",
    "#pprint.pprint(mapping, indent=2)"
   ]
  },
  {
   "cell_type": "code",
   "execution_count": 6,
   "id": "15378439",
   "metadata": {},
   "outputs": [
    {
     "data": {
      "text/plain": [
       "{}"
      ]
     },
     "execution_count": 6,
     "metadata": {},
     "output_type": "execute_result"
    }
   ],
   "source": [
    "uniprot_data"
   ]
  },
  {
   "cell_type": "code",
   "execution_count": 9,
   "id": "4f6cb426",
   "metadata": {},
   "outputs": [
    {
     "name": "stdout",
     "output_type": "stream",
     "text": [
      "<!DOCTYPE html SYSTEM \"about:legacy-compat\">\n",
      "\n",
      "<html xmlns=\"http://www.w3.org/1999/xhtml\" lang=\"en\" xml:lang=\"en\"><head><title>Retrieve/ID mapping</title><meta content=\"IE=edge\" http-equiv=\"X-UA-Compatible\"/><meta content=\"text/html; charset=UTF-8\" http-equiv=\"Content-Type\"/><meta content=\"width=device-width, initial-scale=1\" name=\"viewport\"/><link href=\"/\" rel=\"home\"/><link href=\"https://creativecommons.org/licenses/by/4.0/\" rel=\"license\"/><link type=\"image/vnd.microsoft.icon\" href=\"/favicon.ico\" rel=\"shortcut icon\"/><link href=\"/uniprot.min.css2022_02\" type=\"text/css\" rel=\"stylesheet\"/><link href=\"/tippy.css\" type=\"text/css\" rel=\"stylesheet\"/><script type=\"text/javascript\">\n",
      "\n",
      "\t\t\tvar BASE = '/';\n",
      "\n",
      "\t\t</script><script src=\"/js-compr.js2022_02\" type=\"text/javascript\"></script><script type=\"text/javascript\">\n",
      "\n",
      "\t\t\t\tuniprot.isInternal = false;\n",
      "\n",
      "\t\t\t\tuniprot.namespace = 'uniprot';\n",
      "\n",
      "\t\t\t\tuniprot.releasedate = '2022_02';\n",
      "\n",
      "\t\t\t</script><script type=\"text/javascript\">\n",
      "\n",
      "\t\t\t;\n",
      "\n",
      "\t\t</script><meta content=\"nositelinkssearchbox\" name=\"google\"/></head><body class=\"namespace-uploadlists\" typeof=\"WebPage\" prefix=\"up: http://purl.uniprot.org/core/\" vocab=\"http://schema.org/\"><span id=\"evidenceToolTip\" style=\"display:none\">&#xd;\n",
      "\n",
      "                                    &lt;p>An evidence describes the source of an annotation, e.g. an experiment that has been published in the scientific literature, an orthologous protein, a record from another database, etc.&lt;/p>&#xd;\n",
      "\n",
      "&#xd;\n",
      "\n",
      "&lt;p>&lt;a href=\"/manual/evidences\">More...&lt;/a>&lt;/p>&#xd;\n",
      "\n",
      "                                </span><p style=\"display:none\"><a accesskey=\"2\" href=\"#content\">Skip Header</a></p><div id=\"masthead-container\"><div class=\"masthead\" id=\"local-masthead\"><div id=\"local-title\"><a id=\"logo\" accesskey=\"1\" href=\"/\"><img alt=\"\" src=\"/images/logos/Logo_medium.png\" title=\"UniProt home\"/></a></div><div class=\"namespace-uniprot\" id=\"local-search\"><form method=\"get\" action=\"/uniprot\" id=\"search-form\"><div id=\"namespace-background\"><div class=\"searchBoxIndicator\" style=\"display:none\" id=\"searchBoxIndicator1\"> </div><div onclick=\"location.href=&apos;/help/text-search&apos;;\" class=\"searchBoxIndicator\" style=\"display:none\" id=\"searchBoxIndicator2\"> </div><div onclick=\"location.href=&apos;/help/advanced_search &apos;;\" class=\"searchBoxIndicator\" style=\"display:none\" id=\"searchBoxIndicator3\"> </div><a class=\"namespace-select\" id=\"select-namespace\" onclick=\"return false;\" href=\"\"><span class=\"caret_white\" id=\"selected-namespace\">UniProtKB</span></a><ul style=\"display:none\" class=\"select-namespace-options\"><a href=\"#\" class=\"closeBox\" id=\"closeNamespaceOptions\">x</a><li><ul><li class=\"fixedHeight_namespaces\"><h3 class=\"namespace_uniprot\"><a class=\"namespace-option uniprot\" href=\"#\" id=\"uniprot\">UniProtKB</a></h3><p>Protein knowledgebase</p></li><li class=\"fixedHeight_namespaces\"><h3 class=\"namespace_uniparc\"><a class=\"namespace-option uniparc\" href=\"#\" id=\"uniparc\">UniParc</a></h3><p>Sequence archive</p></li><li class=\"fixedHeight_namespaces\"><h3 class=\"namespace_help\"><a class=\"namespace-option help\" href=\"#\" id=\"help\">Help</a></h3><p>Help pages, FAQs, UniProtKB manual, documents, news archive and Biocuration projects.</p></li></ul></li><li><ul><li class=\"fixedHeight_namespaces\"><h3 class=\"namespace_uniref\"><a class=\"namespace-option uniref\" href=\"#\" id=\"uniref\">UniRef</a></h3><p>Sequence clusters</p></li><li class=\"fixedHeight_namespaces\"><h3 class=\"namespace_proteomes\"><a class=\"namespace-option proteomes\" href=\"#\" id=\"proteomes\">Proteomes</a></h3><p>Protein sets from fully sequenced genomes</p></li><li class=\"fixedHeight_namespaces\"><h3 class=\"namespace_unirule\">Annotation systems</h3><p class=\"supportingLeadingText\">Systems used to automatically annotate proteins with high accuracy:</p><ul class=\"supportingDataOptions\"><li><a class=\"namespace-option supporting\" href=\"#\" id=\"unirule\">UniRule (Expertly curated rules)</a></li><li><a class=\"namespace-option supporting\" href=\"#\" id=\"arba\">ARBA (System generated rules)</a></li></ul></li></ul></li><li><ul><li class=\"fixedHeight_namespaces\"><h3 class=\"supporting\"><span>Supporting data</span></h3><p class=\"supportingLeadingText\">Select one of the options below to target your search:</p><ul class=\"supportingDataOptions\"><li><a class=\"namespace-option supporting\" href=\"#\" id=\"citations\">Literature citations</a></li><li><a class=\"namespace-option supporting\" href=\"#\" id=\"taxonomy\">Taxonomy</a></li><li><a class=\"namespace-option supporting\" href=\"#\" id=\"keywords\">Keywords</a></li><li><a class=\"namespace-option supporting\" href=\"#\" id=\"locations\">Subcellular locations</a></li><li><a class=\"namespace-option supporting\" href=\"#\" id=\"database\">Cross-referenced databases</a></li><li><a class=\"namespace-option supporting\" href=\"#\" id=\"diseases\">Human diseases</a></li></ul></li></ul></li></ul><input value=\"\" id=\"topQuery\" type=\"hidden\"/><div id=\"queryContainer\"><input autocomplete=\"off\" autofocus=\"autofocus\" id=\"query\" value=\"\" accesskey=\"4\" name=\"query\" type=\"search\"/></div><a class=\"caret_grey\" href=\"#\" id=\"advanced-search-toggle\">Advanced</a><input value=\"score\" name=\"sort\" type=\"hidden\"/><a id=\"search-button\" title=\"Search\" data-icon=\"1\" class=\"icon icon-functional button\">Search</a><div style=\"display:none\" class=\"advSearch\" id=\"query-builder-container\"><a href=\"#\" class=\"closeBox\" id=\"closeAdvanceSearch\">x</a><div id=\"advanced-search\"></div></div></div></form></div><div id=\"nav\"><ul id=\"local-nav\"><li class=\"mobileHomeLink\"><a href=\"/\">Home</a></li><li class=\"first\"><a class=\"tooltipped\" title=\"Find regions of local similarity between sequences\" href=\"/blast\" id=\"top-blast-link\">BLAST</a></li><li><a class=\"tooltipped\" title=\"Align two or more protein sequences with the Clustal Omega program\" href=\"/align\" accesskey=\"9\" id=\"top-align-link\">Align</a></li><li class=\"last\"><a class=\"tooltipped\" title=\"Submit a list of identifiers to retrieve the corresponding UniProt entries, or to map them from or to an external database\" rel=\"help\" href=\"/uploadlists\" id=\"upload-lists-nav\">Retrieve/ID mapping</a></li><li class=\"last\"><a class=\"tooltipped\" title=\"Submit a list of peptides to find UniProt sequences containing them\" rel=\"help\" href=\"/peptidesearch\" id=\"peptidesearch-lists-nav\">Peptide search</a></li><li id=\"sparql-list\" class=\"last\"><a class=\"tooltipped\" title=\"Query the UniProt Knowledge Graph with SPARQL\" href=\"https://sparql.uniprot.org/sparql\" id=\"sparql-lists-nav\">SPARQL</a></li><li class=\"functional last\"><a accesskey=\"9\" href=\"/contact\" id=\"contact\">Contact</a></li><li class=\"functional\"><a rel=\"help\" href=\"/help/\" id=\"help\">Help</a></li></ul></div></div></div><div class=\"warn\" id=\"browserwarning\">You are using a version of browser that may not display all the features of this website. Please consider upgrading <a href=\"/help/browser_support\">your browser</a>.</div><main class=\"uploadlists\" property=\"schema:mainEntity\" resource=\"\" typeof=\"\" id=\"content\"><section id=\"page-header\"><div style=\"position:relative;\"><h2 class=\"page-title\">Retrieve/ID mapping</h2><div style=\"display:none\" class=\"helpcontent\" id=\"help-uploadlists\"><button class=\"closeBox\" id=\"closeHelp\">x</button><div class=\"helpBoxContainer\"><div class=\"helpBoxPanel subheading\"><h5>How to use Retrieve/ID mapping tool</h5></div><div class=\"helpBoxPanel\">\n",
      "\n",
      "\t\t\t\t\tEnter or upload a list of identifiers to do one of the following:\n",
      "\n",
      "\t\t\t\t\t<ul><li>Retrieve the corresponding UniProt entries to download them or work with them on this website.</li><li>Convert identifiers which are of a different type to UniProt identifiers or vice versa and download the identifier lists.</li></ul></div></div><div class=\"helpBoxContainer\"><div class=\"helpBoxPanel\"><ol><li>Enter identifiers, separated by spaces or new lines, into the form field, for example:\n",
      "\n",
      "\t\t\t\t        <div class=\"indent\">\n",
      "\n",
      "\t\t\t\t            P31946 P62258<br/>\n",
      "\n",
      "\t\t\t\t            ALBU_HUMAN<br/>\n",
      "\n",
      "\t\t\t\t            EFTU_ECOLI<br/></div></li><li>If you need to convert to another identifier type, select the source and target type from the dropdown menus.</li><li>Click the <i>Submit</i> button.</li></ol></div><div class=\"helpLinks\"><a data-icon=\"?\" class=\"icon icon-generic namespaceIcons\" href=\"/help/mapping\">Help</a><a data-icon=\"V\" class=\"icon icon-generic namespaceIcons\" target=\"_blank\" href=\"https://www.youtube.com/watch?v=kLdgjqWoMZc\">Help video</a><a data-icon=\"V\" class=\"icon icon-generic namespaceIcons\" target=\"_blank\" href=\"https://www.youtube.com/channel/UCkCR5RJZCZZoVTQzTYY92aw\">Other tutorials and videos</a><a data-icon=\"=\" class=\"icon icon-functional namespaceIcons\" href=\"/downloads\">Downloads</a></div></div></div><div id=\"top-right-actions\"><a data-icon=\"?\" class=\"icon icon-generic\" id=\"showHelp\">About Upload lists</a><div style=\"display:none\" id=\"basket\"><a href=\"#\" data-icon=\"b\" class=\"closed basket-empty icon icon-static caret_white button\" id=\"basket-list\">Basket <span style=\"display:none\" id=\"basket-count\">0</span></a></div><div style=\"z-index: 3;display:none\" id=\"basket-contents\"><div id=\"closeBasket\"><span class=\"basketText\">(max 400 entries)</span><button class=\"closeBox\">x</button></div><div id=\"emptyBasketContent\"><h3><span class=\"context-help tooltipped-click\">\n",
      "\n",
      "\t\t\t\t\tYour basket is currently empty. <sup> i</sup><span style=\"display:none\"><span class=\"tooltipped\">\n",
      "\n",
      "                                    &lt;p>When browsing through different UniProt proteins, you can use the 'basket' to save them, so that you can back to find or analyse them later.&lt;p>&lt;a href='/help/basket' target='_top'>More...&lt;/a>&lt;/p></span></span></span></h3><p>Select item(s) and click on \"Add to basket\" to create your own collection here<br/> (400 entries max)<br/></p><div id=\"emptyBasketContentHelp\"></div></div><div style=\"display:none\" id=\"loadingBasketContent\"></div><div id=\"filledBasketContents\"><ul id=\"basketTabs\" class=\"tabs\"><li><a id=\"uniprotBasketTab\" class=\"uniprot tab basketTab\">UniProtKB (<span class=\"uniprot-basket-count\">0</span>)</a></li><li><a id=\"unirefBasketTab\" class=\"uniref tab basketTab\">UniRef (<span class=\"uniref-basket-count\">0</span>)</a></li><li><a id=\"uniparcBasketTab\" class=\"uniparc tab basketTab\">UniParc (<span class=\"uniparc-basket-count\">0</span>)</a></li></ul><div class=\"tabsContent\" style=\"display: none\" id=\"basket-uniprot\"></div><div class=\"tabsContent\" style=\"display: none\" id=\"basket-uniref\"></div><div class=\"tabsContent\" style=\"display: none\" id=\"basket-uniparc\"></div></div><div id=\"basket-actions\"><div class=\"action-buttons-grouped\"><button title=\"Select two or more entries and click here to align them\" data-icon=\"i\" class=\"button icon icon-functional align disabled\" id=\"basket-align-button\">Align</button><button data-icon=\"t\" title=\"Select an entry and click here to run a BLAST search on it\" class=\"button icon-functional icon blast disabled\" id=\"basket-blast-button\">BLAST</button><button title=\"Map ids to other databases\" class=\"button icon-functional disabled\" id=\"basket-map-button\">Map Ids</button><button data-icon=\"=\" title=\"Download results\" class=\"button icon icon-functional download disabled\" id=\"basket-download-button\">Download</button><span class=\"icon-right\"><button title=\"Full View\" class=\"button fullView disabled\" id=\"basket-view-button\">Full View</button><button title=\"Remove Selected entries\" class=\"button remove disabled\" id=\"basket-remove-button\">Remove</button><button title=\"Clear basket\" class=\"button clear disabled\" id=\"basket-clear-button\">Clear</button></span></div></div></div><form action=\"/align/\" method=\"post\" id=\"basket-alignForm\"><input value=\"no\" name=\"landingPage\" type=\"hidden\"/><input value=\"clustalo\" name=\"program\" type=\"hidden\"/><input value=\"yes\" name=\"redirect\" type=\"hidden\"/><input value=\"\" name=\"alignQuery\" id=\"basket-alignQuery\" type=\"hidden\"/></form><form action=\"/blast/\" method=\"post\" id=\"basket-blastForm\"><input value=\"yes\" name=\"redirect\" type=\"hidden\"/><input value=\"no\" name=\"landingPage\" type=\"hidden\"/><input value=\"uniprotkb_refprotswissprot\" name=\"dataset\" type=\"hidden\"/><input value=\"10\" name=\"threshold\" type=\"hidden\"/><input value=\"\" name=\"matrix\" type=\"hidden\"/><input value=\"false\" name=\"filter\" type=\"hidden\"/><input value=\"true\" name=\"gapped\" type=\"hidden\"/><input value=\"250\" name=\"numal\" type=\"hidden\"/><input value=\"\" id=\"basket-blastQuery\" name=\"blastQuery\" type=\"hidden\"/></form><form action=\"\" method=\"post\" id=\"basket-downloadForm\"><input value=\"\" name=\"query\" type=\"hidden\"/></form></div></div></section> <div class=\"main\"><form enctype=\"multipart/form-data\" method=\"post\" url=\"/uploadlists/\" action=\"/uploadlists/\" id=\"mapping-form\"><input type=\"hidden\" value=\"false\" name=\"landingPage\"/><div><h3>1. Provide your identifiers</h3><div><div class=\"uploadListsInputboxx\"><input value=\"\" name=\"jobId\" type=\"hidden\"/><textarea placeholder=\"e.g. P31946 P62258 ALBU_HUMAN EFTU_ECOLI\" id=\"uploadQuery\" name=\"uploadQuery\" class=\"queryInput uploadListsTextarea sequence-textarea\"></textarea><input type=\"text\" name=\"day\" style=\"display:none\" value=\"151\" /><div class=\"uploadFilex\"><strong>OR</strong> upload your own file: \n",
      "\n",
      "\t\t\t\t\t\t\t<input id=\"uploadfile\" name=\"file\" class=\"uploadList\" type=\"file\"/><span style=\"display:none\" id=\"fileNamePlaceHolder\"><span data-icon=\"x\" class=\"icon icon-functional tooltipped\" title=\"Clear file uploading\" id=\"fileUploadCross\">  </span></span></div><input id=\"newTabCheckbox\" name=\"newTabCheckbox\" type=\"checkbox\"/><label for=\"newTabCheckbox\">Run in a new window.</label></div></div></div><div><h3>2. Select options</h3><div class=\"uploadDatabaseSelect\"><div id=\"fromDatabase\" class=\"advanced-search-inputs\"> </div><div id=\"toDatabase\" class=\"advanced-search-inputs\"> </div><div id=\"organismAutoComplete\" style=\"display:none\" class=\"advanced-search-inputs\"><label>Organism <input name=\"taxon\" id=\"taxon\"></input></label><div id=\"taxsuggestiontree\" class=\"tree-select-menu\"><div class=\"tree-select\"><ul/></div></div></div></div></div><button title=\"\" class=\"button\" href=\"#\" id=\"upload-clear\" type=\"clear\">Clear</button><button title=\"Upload your list and view results\" class=\"button go tooltipped\" href=\"\" id=\"upload-submit\" type=\"submit\">Submit</button></form></div></main><footer id=\"page-footer\"><section><h5>Tools</h5><ul><li><a href=\"/blast\">BLAST</a></li><li><a href=\"/align\">Align</a></li><li><a href=\"/uploadlists\">Retrieve/ID mapping</a></li><li><a href=\"/peptidesearch\">Peptide search</a></li></ul></section><section><h5>Core data</h5><ul><li><a href=\"/uniprot\">Protein knowledgebase (UniProtKB)</a></li><li><a href=\"/uniref\">Sequence clusters (UniRef)</a></li><li><a href=\"/uniparc\">Sequence archive (UniParc)</a></li><li><a href=\"/proteomes\">Proteomes</a></li></ul></section><section><h5>Supporting data</h5><ul><li><a href=\"/citations\">Literature citations</a></li><li><a href=\"/taxonomy\">Taxonomy</a></li><li><a href=\"/keywords\">Keywords</a></li><li><a href=\"/locations\">Subcellular locations</a></li><li><a href=\"/database\">Cross-referenced databases</a></li><li><a href=\"/diseases\">Diseases</a></li></ul></section><section><h5>Information</h5><ul><li><a href=\"/help/about\">About UniProt</a></li><li><a href=\"/help\">Help</a></li><li><a href=\"/help/?fil=section:faq\">FAQ</a></li><li><a href=\"/help/?fil=section:manual\">UniProtKB manual</a></li><li><a href=\"/help/technical\">Technical corner</a></li><li><a href=\"/help/?query=*&amp;fil=section:biocuration\">Expert biocuration</a></li></ul></section><section><div class=\"uniprotlogo\"><img src=\"/images/logos/uniprot-rgb-optimized.svg\"/></div><span>&copy; 2002 &ndash;\n",
      "\n",
      "\t\t\t<span property=\"copyrightYear\">2022</span>\n",
      "\n",
      "\t\t\t<a accesskey=\"9\" href=\"/help/about\">UniProt Consortium</a> | <a href=\"/help/license\">License &amp; Disclaimer</a> | <a href=\"/help/privacy\">Privacy Notice</a></span><div resource=\"/help/about#UniProt\" id=\"logos\" typeof=\"NGO\" property=\"creator\"><span hidden=\"hidden\" property=\"name\">UniProt Consortium</span><span resource=\"/help/about#EBI\" typeof=\"Organization\" class=\"ebi\" property=\"member\"><span class=\"hidden\" property=\"name\">European Bioinformatics Institute</span><a href=\"https://www.ebi.ac.uk/\" property=\"url\"></a></span><span resource=\"/help/about#PIR\" typeof=\"Organization\" class=\"pir\" property=\"member\"><span class=\"hidden\" property=\"name\">Protein Information Resource</span><a href=\"https://pir.georgetown.edu/\" property=\"url\"></a></span><span resource=\"/help/about#SIB\" typeof=\"Organization\" class=\"sib\" property=\"member\"><span class=\"hidden\" property=\"name\">SIB Swiss Institute of Bioinformatics</span><a href=\"https://www.sib.swiss/\" property=\"url\"></a></span></div></section></footer><div id=\"elixir-coretrust-ribbon\"><a typeof=\"Organization\" href=\"https://www.coretrustseal.org/\" property=\"reviewedBy\"><img alt=\"UniProt is an CoreTrustSeal certified data repository\" id=\"coretrustseal-logo\" src=\"/images/logos/CoreTrustSeal-logo-transparent.png\"/></a><a typeof=\"Organization\" href=\"https://www.elixir-europe.org/platforms/data/core-data-resources\" property=\"reviewedBy\"><img height=\"64px\" width=\"64px\" id=\"elixir-cdr-logo\" src=\"/images/elixir-cdr.gif\"/><h5><span class=\"elixir-banner-name\">UniProt is an ELIXIR core data resource</span></h5></a></div><div id=\"UniProt-Funding\"><span>\n",
      "\n",
      "\t\t\tMain <a href=\"https://www.uniprot.org/help/about\">funding</a> by:\n",
      "\n",
      "\t\t</span><a property=\"funder\" typeof=\"Organization\" href=\"https://www.nih.gov/\" id=\"nihFundingLink\" class=\"funder\"><span property=\"name\">National Institutes of Health</span></a><a property=\"funder\" typeof=\"Organization\" href=\"https://www.embl.org/\" id=\"ebiFundingLink\" class=\"funder\"><img src=\"/images/embl-logo.png\" style=\"width:auto;height:45px;\"/><span hidden=\"hidden\" property=\"name\">The European Molecular Biology Laboratory</span></a><a property=\"funder\" typeof=\"GovernmentOrganization\" href=\"https://www.sbfi.admin.ch/sbfi/en/home.html\" id=\"seriFundingLink\" class=\"funder\"><img src=\"/images/seri-logo.png\"/><span hidden=\"hidden\" property=\"name\">State Secretariat for Education, Research and Innovation</span><span hidden=\"hidden\" property=\"alternateName\">SERI</span></a></div><script src=\"https://www.google-analytics.com/analytics.js\" async=\"async\"></script><script>\n",
      "\n",
      "\t\t\t\t\t\twindow.ga=window.ga||function(){(ga.q=ga.q||[]).push(arguments)};ga.l=+new Date;\n",
      "\n",
      "\t\t\t\t\t\tga('create', 'UA-6228219-1', 'auto');\n",
      "\n",
      "\t\t\t\t\t\tga('set', 'anonymizeIp', true);\n",
      "\n",
      "\t\t\t\t\t\tga('set', 'forceSSL', true);\n",
      "\n",
      "\t\t\t\t\t\tga('send', 'pageview');\n",
      "\n",
      "\t\t\t\t\t</script><div class=\"privacy-panel\" id=\"privacy-panel\"><p class=\"privacy-panel__text\">We'd like to inform you that we have updated our <a href=\"/help/privacy\">Privacy Notice</a> to comply\n",
      "\n",
      "with Europe’s new General Data Protection Regulation (GDPR) that applies since 25 May 2018.</p><a id=\"privacy-panel-accept\" class=\"privacy-panel__button\">Do not show this banner again</a></div><script src=\"/scripts/node-bundle.js\" type=\"text/javascript\"></script><script src=\"/scripts/common-bundle.js\" type=\"text/javascript\"></script><script src=\"/scripts/upload-bundle.js\" type=\"text/javascript\"></script></body></html>\n"
     ]
    }
   ],
   "source": [
    "for l in open('cache/metadata.0.txt'):\n",
    "  print(l)"
   ]
  },
  {
   "cell_type": "code",
   "execution_count": 139,
   "id": "079ab550",
   "metadata": {},
   "outputs": [],
   "source": [
    "from bioservices import UniProt"
   ]
  },
  {
   "cell_type": "code",
   "execution_count": 142,
   "id": "66672eae",
   "metadata": {},
   "outputs": [
    {
     "name": "stderr",
     "output_type": "stream",
     "text": [
      "\u001b[32mINFO    [bioservices.UniProt:363]: \u001b[0m \u001b[32mInitialising UniProt service (REST)\u001b[0m\n"
     ]
    }
   ],
   "source": [
    "u = UniProt(verbose=True)\n",
    "res = u.mapping(\"P_REFSEQ_AC\", \"ACC\", query='XP_021413590')\n"
   ]
  },
  {
   "cell_type": "code",
   "execution_count": 143,
   "id": "ed965abf",
   "metadata": {},
   "outputs": [
    {
     "data": {
      "text/plain": [
       "'Entry\\tEntry name\\tGene names\\tLength\\nP01375\\tTNFA_HUMAN\\tTNF TNFA TNFSF2\\t233\\nQ9BXK5\\tB2L13_HUMAN\\tBCL2L13 MIL1 CD003\\t485\\nQ5JX71\\tF209A_HUMAN\\tFAM209A C20orf106\\t171\\n'"
      ]
     },
     "execution_count": 143,
     "metadata": {},
     "output_type": "execute_result"
    }
   ],
   "source": [
    "res = u.search('P01375', frmt=\"tab\", limit=3, columns=\"id, entry name, genes, length\", database='uniprot')\n",
    "res"
   ]
  },
  {
   "cell_type": "code",
   "execution_count": 277,
   "id": "55dfa578",
   "metadata": {},
   "outputs": [
    {
     "data": {
      "text/plain": [
       "<bioservices.xmltools.easyXML at 0x154c2f5e080>"
      ]
     },
     "execution_count": 277,
     "metadata": {},
     "output_type": "execute_result"
    }
   ],
   "source": [
    "res = u.retrieve('P01375', frmt='xml', database='uniprot')\n",
    "res"
   ]
  },
  {
   "cell_type": "code",
   "execution_count": 259,
   "id": "c9e959e0",
   "metadata": {},
   "outputs": [
    {
     "data": {
      "text/plain": [
       "bioservices.xmltools.easyXML"
      ]
     },
     "execution_count": 259,
     "metadata": {},
     "output_type": "execute_result"
    }
   ],
   "source": [
    "type(res)"
   ]
  },
  {
   "cell_type": "code",
   "execution_count": 74,
   "id": "88a49e6b",
   "metadata": {},
   "outputs": [
    {
     "data": {
      "text/plain": [
       "['P05067', 'P37840', 'Q9BYF1']"
      ]
     },
     "execution_count": 74,
     "metadata": {},
     "output_type": "execute_result"
    }
   ],
   "source": [
    "prtns = 'P05067 P37840 Q9BYF1'.split()\n",
    "prtns"
   ]
  },
  {
   "cell_type": "code",
   "execution_count": 223,
   "id": "0a7063fa",
   "metadata": {},
   "outputs": [],
   "source": [
    "import urllib\n",
    "from urllib.parse import urlparse\n",
    "\n",
    "def ExtractFromUniProt(uniprot_id):\n",
    "\n",
    "    Uniprot_Dict = []\n",
    "    # Make a link to the UniProt webservice\n",
    "    service = UniProt()\n",
    "    \n",
    "    for id in uniprot_id:\n",
    "\n",
    "        #create URL for each uniprot id\n",
    "        url = 'https://www.uniprot.org/uniprot/'+id+'.txt'   \n",
    "        print(url)\n",
    "\n",
    "        #Retrieve data for id in text format\n",
    "        ret_uprot = urllib.request.urlopen(url)\n",
    "\n",
    "        print(id)\n",
    "        id_copy = id\n",
    "        i=0\n",
    "        j=0\n",
    "        id = {}\n",
    "        id['Disease'] = {}\n",
    "        id['Reactome'] = {}\n",
    "        id['Function'] = {}\n",
    "        id['BioProcess'] = {}\n",
    "        #print(id)\n",
    "\n",
    "        #parse each line looking for info about disease, pathway, funcn, bp and so on\n",
    "        for line in ret_uprot:\n",
    "\n",
    "            line = line.decode('utf-8')\n",
    "\n",
    "            #parse lines with disease and extract disease names and omim ids\n",
    "            if '-!- DISEASE:' in line:\n",
    "                if ('[MIM:' in line):\n",
    "                    dis = line.split(':')\n",
    "                    #dis returns list of splitted text, [1] = name of dis, [2] = OMIM ID, extra chars need cleaning\n",
    "                    #print(dis[1][1:-5])\n",
    "                    #print(dis[2][:-1])\n",
    "                    id['Disease'].update({dis[1][1:-5]:dis[2][:-1]})\n",
    "\n",
    "            #extract reactome ids and names\n",
    "            if 'Reactome;' in line:\n",
    "                ract = line.split(';')\n",
    "                #ract returns list with reactome id and name, needs cleaning\n",
    "                id['Reactome'].update({ract[2][1:-2]:ract[1][1:]})\n",
    "                #print(ract[1][1:])\n",
    "                #print(ract[2][1:-2])\n",
    "\n",
    "            #look for functions    \n",
    "            if ' F:' in line:\n",
    "                if j<5:\n",
    "                #take only first 5 entries for now \n",
    "                    #print(j)\n",
    "                    fn = line.split(';')\n",
    "                    #fn returns list with GO ids and names \n",
    "                    id['Function'].update({fn[2][3:]:fn[1][1:]})\n",
    "                    #print(fn[1][1:])\n",
    "                    #print(fn[2][3:])\n",
    "                    j+=1\n",
    "\n",
    "            #look for biological processes\n",
    "            if ' P:' in line:\n",
    "                if i<5:\n",
    "                #take only first 5 entries for now    \n",
    "                    #print(i)\n",
    "                    bp = line.split(';')\n",
    "                    #bp returns list with GO ids and names \n",
    "                    id['BioProcess'].update({bp[2][3:]:bp[1][1:]})\n",
    "                    #print(bp[1][1:])\n",
    "                    #print(bp[2][3:])\n",
    "                    i+=1\n",
    "\n",
    "\n",
    "        #fetch info about gene, len, seq, mass from api directly\n",
    "        # Make a query string\n",
    "        query = \"accession:\" + str(id_copy)\n",
    "\n",
    "        # Define a list of columns we want to retrive\n",
    "        #columnlist = \"id,entry name,length,mass,go(biological process),go(molecular function), pathway,feature(TOPOLOGICAL DOMAIN),comment(DISEASE),pathway\"\n",
    "        columnlist = \"id,entry name,genes(PREFERRED),length,mass,sequence\"\n",
    "\n",
    "        # Run the remote search\n",
    "        result = service.search(query, frmt=\"tab\", columns=columnlist)\n",
    "\n",
    "        df_result = pd.read_table(io.StringIO(result))\n",
    "\n",
    "        geneName = {'Gene':df_result['Gene names  (primary )'][0]}\n",
    "        seqLen = {'Length':df_result['Length'][0]}\n",
    "        #remove comma from mass values\n",
    "        mass = {'Mass':int(df_result['Mass'][0].replace(\",\", \"\"))}\n",
    "        seq = {'Sequence':df_result['Sequence'][0]}\n",
    "\n",
    "        id.update(geneName)\n",
    "        id.update(seqLen)\n",
    "        id.update(mass)\n",
    "        id.update(seq)\n",
    "\n",
    "        Uniprot_Dict.append(id)\n",
    "\n",
    "    Uniprot_Dict = dict(zip(uniprot_id,Uniprot_Dict))\n",
    "    \n",
    "    return(Uniprot_Dict)"
   ]
  },
  {
   "cell_type": "code",
   "execution_count": 222,
   "id": "434feb8f",
   "metadata": {},
   "outputs": [
    {
     "name": "stdout",
     "output_type": "stream",
     "text": [
      "https://www.uniprot.org/uniprot/P05067.txt\n",
      "P05067\n",
      "https://www.uniprot.org/uniprot/P37840.txt\n",
      "P37840\n",
      "https://www.uniprot.org/uniprot/Q9BYF1.txt\n",
      "Q9BYF1\n"
     ]
    }
   ],
   "source": [
    "test = ExtractFromUniProt(prtns)"
   ]
  },
  {
   "cell_type": "code",
   "execution_count": 220,
   "id": "41fa94ea",
   "metadata": {},
   "outputs": [
    {
     "data": {
      "text/plain": [
       "{'P05067': {'Disease': {'Alzheimer disease 1 (AD1)': '104300'},\n",
       "  'Reactome': {'Platelet degranulation': 'R-HSA-114608',\n",
       "   'ECM proteoglycans': 'R-HSA-3000178',\n",
       "   'Regulation of Insulin-like Growth Factor (IGF) transport and uptake by Insulin-like Growth Factor Binding Proteins (IGFBPs)': 'R-HSA-381426',\n",
       "   'G alpha (q) signalling events': 'R-HSA-416476',\n",
       "   'G alpha (i) signalling events': 'R-HSA-418594',\n",
       "   'Lysosome Vesicle Biogenesis': 'R-HSA-432720',\n",
       "   'Formyl peptide receptors bind formyl peptides and many other ligands': 'R-HSA-444473',\n",
       "   'TAK1 activates NFkB by phosphorylation and activation of IKKs complex': 'R-HSA-445989',\n",
       "   'The NLRP3 inflammasome': 'R-HSA-844456',\n",
       "   'Advanced glycosylation endproduct receptor signaling': 'R-HSA-879415',\n",
       "   \"Deregulated CDK5 triggers multiple neurodegenerative pathways in Alzheimer's disease models\": 'R-HSA-8862803',\n",
       "   'Post-translational protein phosphorylation': 'R-HSA-8957275',\n",
       "   'TRAF6 mediated NF-kB activation': 'R-HSA-933542',\n",
       "   'Insertion of tail-anchored proteins into the endoplasmic reticulum membrane': 'R-HSA-9609523',\n",
       "   'Purinergic signaling in leishmaniasis infection': 'R-HSA-9660826',\n",
       "   'Amyloid fiber formation': 'R-HSA-977225'},\n",
       "  'Function': {'acetylcholine receptor activator activity': 'GO:0030549',\n",
       "   'acetylcholine receptor binding': 'GO:0033130',\n",
       "   'amylin binding': 'GO:0097645',\n",
       "   'apolipoprotein binding': 'GO:0034185',\n",
       "   'chaperone binding': 'GO:0051087'},\n",
       "  'BioProcess': {'adenylate cyclase-activating G protein-coupled receptor signaling pathway': 'GO:0007189',\n",
       "   'adenylate cyclase-inhibiting G protein-coupled receptor signaling pathway': 'GO:0007193',\n",
       "   'adult locomotory behavior': 'GO:0008344',\n",
       "   'amyloid fibril formation': 'GO:1990000',\n",
       "   'antibacterial humoral response': 'GO:0019731'},\n",
       "  'Gene': 'APP',\n",
       "  'Length': 770,\n",
       "  'Mass': 86943,\n",
       "  'Sequence': 'MLPGLALLLLAAWTARALEVPTDGNAGLLAEPQIAMFCGRLNMHMNVQNGKWDSDPSGTKTCIDTKEGILQYCQEVYPELQITNVVEANQPVTIQNWCKRGRKQCKTHPHFVIPYRCLVGEFVSDALLVPDKCKFLHQERMDVCETHLHWHTVAKETCSEKSTNLHDYGMLLPCGIDKFRGVEFVCCPLAEESDNVDSADAEEDDSDVWWGGADTDYADGSEDKVVEVAEEEEVAEVEEEEADDDEDDEDGDEVEEEAEEPYEEATERTTSIATTTTTTTESVEEVVREVCSEQAETGPCRAMISRWYFDVTEGKCAPFFYGGCGGNRNNFDTEEYCMAVCGSAMSQSLLKTTQEPLARDPVKLPTTAASTPDAVDKYLETPGDENEHAHFQKAKERLEAKHRERMSQVMREWEEAERQAKNLPKADKKAVIQHFQEKVESLEQEAANERQQLVETHMARVEAMLNDRRRLALENYITALQAVPPRPRHVFNMLKKYVRAEQKDRQHTLKHFEHVRMVDPKKAAQIRSQVMTHLRVIYERMNQSLSLLYNVPAVAEEIQDEVDELLQKEQNYSDDVLANMISEPRISYGNDALMPSLTETKTTVELLPVNGEFSLDDLQPWHSFGADSVPANTENEVEPVDARPAADRGLTTRPGSGLTNIKTEEISEVKMDAEFRHDSGYEVHHQKLVFFAEDVGSNKGAIIGLMVGGVVIATVIVITLVMLKKKQYTSIHHGVVEVDAAVTPEERHLSKMQQNGYENPTYKFFEQMQN'},\n",
       " 'P37840': {'Disease': {'Parkinson disease 1, autosomal dominant (PARK1)': '168601',\n",
       "   'Parkinson disease 4, autosomal dominant (PARK4)': '605543',\n",
       "   'Dementia, Lewy body (DLB)': '127750'},\n",
       "  'Reactome': {'Amyloid fiber formation': 'R-HSA-977225'},\n",
       "  'Function': {'actin binding': 'GO:0003779',\n",
       "   'alpha-tubulin binding': 'GO:0043014',\n",
       "   'calcium ion binding': 'GO:0005509',\n",
       "   'copper ion binding': 'GO:0005507',\n",
       "   'cuprous ion binding': 'GO:1903136'},\n",
       "  'BioProcess': {'activation of cysteine-type endopeptidase activity involved in apoptotic process': 'GO:0006919',\n",
       "   'adult locomotory behavior': 'GO:0008344',\n",
       "   'cellular response to copper ion': 'GO:0071280',\n",
       "   'cellular response to epinephrine stimulus': 'GO:0071872',\n",
       "   'cellular response to oxidative stress': 'GO:0034599'},\n",
       "  'Gene': 'SNCA',\n",
       "  'Length': 140,\n",
       "  'Mass': 14460,\n",
       "  'Sequence': 'MDVFMKGLSKAKEGVVAAAEKTKQGVAEAAGKTKEGVLYVGSKTKEGVVHGVATVAEKTKEQVTNVGGAVVTGVTAVAQKTVEGAGSIAAATGFVKKDQLGKNEEGAPQEGILEDMPVDPDNEAYEMPSEEGYQDYEPEA'},\n",
       " 'Q9BYF1': {'Disease': {},\n",
       "  'Reactome': {'Metabolism of Angiotensinogen to Angiotensins': 'R-HSA-2022377',\n",
       "   'Attachment and Entry': 'R-HSA-9694614',\n",
       "   'Potential therapeutics for SARS': 'R-HSA-9679191'},\n",
       "  'Function': {'carboxypeptidase activity': 'GO:0004180',\n",
       "   'endopeptidase activity': 'GO:0004175',\n",
       "   'identical protein binding': 'GO:0042802',\n",
       "   'metallocarboxypeptidase activity': 'GO:0004181',\n",
       "   'metallopeptidase activity': 'GO:0008237'},\n",
       "  'BioProcess': {'angiotensin maturation': 'GO:0002003',\n",
       "   'angiotensin-mediated drinking behavior': 'GO:0003051',\n",
       "   'blood vessel diameter maintenance': 'GO:0097746',\n",
       "   'maternal process involved in female pregnancy': 'GO:0060135',\n",
       "   'membrane fusion': 'GO:0061025'},\n",
       "  'Gene': 'ACE2',\n",
       "  'Length': 805,\n",
       "  'Mass': 92463,\n",
       "  'Sequence': 'MSSSSWLLLSLVAVTAAQSTIEEQAKTFLDKFNHEAEDLFYQSSLASWNYNTNITEENVQNMNNAGDKWSAFLKEQSTLAQMYPLQEIQNLTVKLQLQALQQNGSSVLSEDKSKRLNTILNTMSTIYSTGKVCNPDNPQECLLLEPGLNEIMANSLDYNERLWAWESWRSEVGKQLRPLYEEYVVLKNEMARANHYEDYGDYWRGDYEVNGVDGYDYSRGQLIEDVEHTFEEIKPLYEHLHAYVRAKLMNAYPSYISPIGCLPAHLLGDMWGRFWTNLYSLTVPFGQKPNIDVTDAMVDQAWDAQRIFKEAEKFFVSVGLPNMTQGFWENSMLTDPGNVQKAVCHPTAWDLGKGDFRILMCTKVTMDDFLTAHHEMGHIQYDMAYAAQPFLLRNGANEGFHEAVGEIMSLSAATPKHLKSIGLLSPDFQEDNETEINFLLKQALTIVGTLPFTYMLEKWRWMVFKGEIPKDQWMKKWWEMKREIVGVVEPVPHDETYCDPASLFHVSNDYSFIRYYTRTLYQFQFQEALCQAAKHEGPLHKCDISNSTEAGQKLFNMLRLGKSEPWTLALENVVGAKNMNVRPLLNYFEPLFTWLKDQNKNSFVGWSTDWSPYADQSIKVRISLKSALGDKAYEWNDNEMYLFRSSVAYAMRQYFLKVKNQMILFGEEDVRVANLKPRISFNFFVTAPKNVSDIIPRTEVEKAIRMSRSRINDAFRLNDNSLEFLGIQPTLGPPNQPPVSIWLIVFGVVMGVIVVGIVILIFTGIRDRKKKNKARSGENPYASIDISKGENNPGFQNTDDVQTSF'}}"
      ]
     },
     "execution_count": 220,
     "metadata": {},
     "output_type": "execute_result"
    }
   ],
   "source": [
    "test"
   ]
  },
  {
   "cell_type": "code",
   "execution_count": 209,
   "id": "f3287562",
   "metadata": {},
   "outputs": [],
   "source": [
    "Uniprot_Dict = dict(zip(prtns,Uniprot_Dict))\n",
    "#Uniprot_Dict = {k: v for k, v in Uniprot_Dict.items() if v}\n",
    "#named_drugIndList = {k: v for k, v in named_drugIndList.items() if v}"
   ]
  },
  {
   "cell_type": "code",
   "execution_count": 210,
   "id": "3c6c428b",
   "metadata": {},
   "outputs": [
    {
     "data": {
      "text/plain": [
       "{'P05067': {'Disease': {'Alzheimer disease 1 (AD1)': '104300'},\n",
       "  'Reactome': {'Platelet degranulation': 'R-HSA-114608',\n",
       "   'ECM proteoglycans': 'R-HSA-3000178',\n",
       "   'Regulation of Insulin-like Growth Factor (IGF) transport and uptake by Insulin-like Growth Factor Binding Proteins (IGFBPs)': 'R-HSA-381426',\n",
       "   'G alpha (q) signalling events': 'R-HSA-416476',\n",
       "   'G alpha (i) signalling events': 'R-HSA-418594',\n",
       "   'Lysosome Vesicle Biogenesis': 'R-HSA-432720',\n",
       "   'Formyl peptide receptors bind formyl peptides and many other ligands': 'R-HSA-444473',\n",
       "   'TAK1 activates NFkB by phosphorylation and activation of IKKs complex': 'R-HSA-445989',\n",
       "   'The NLRP3 inflammasome': 'R-HSA-844456',\n",
       "   'Advanced glycosylation endproduct receptor signaling': 'R-HSA-879415',\n",
       "   \"Deregulated CDK5 triggers multiple neurodegenerative pathways in Alzheimer's disease models\": 'R-HSA-8862803',\n",
       "   'Post-translational protein phosphorylation': 'R-HSA-8957275',\n",
       "   'TRAF6 mediated NF-kB activation': 'R-HSA-933542',\n",
       "   'Insertion of tail-anchored proteins into the endoplasmic reticulum membrane': 'R-HSA-9609523',\n",
       "   'Purinergic signaling in leishmaniasis infection': 'R-HSA-9660826',\n",
       "   'Amyloid fiber formation': 'R-HSA-977225'},\n",
       "  'Function': {'acetylcholine receptor activator activity': 'GO:0030549',\n",
       "   'acetylcholine receptor binding': 'GO:0033130',\n",
       "   'amylin binding': 'GO:0097645',\n",
       "   'apolipoprotein binding': 'GO:0034185',\n",
       "   'chaperone binding': 'GO:0051087'},\n",
       "  'BioProcess': {'adenylate cyclase-activating G protein-coupled receptor signaling pathway': 'GO:0007189',\n",
       "   'adenylate cyclase-inhibiting G protein-coupled receptor signaling pathway': 'GO:0007193',\n",
       "   'adult locomotory behavior': 'GO:0008344',\n",
       "   'amyloid fibril formation': 'GO:1990000',\n",
       "   'antibacterial humoral response': 'GO:0019731'},\n",
       "  'Gene': 'APP',\n",
       "  'Length': 770,\n",
       "  'Mass': 86943,\n",
       "  'Sequence': 'MLPGLALLLLAAWTARALEVPTDGNAGLLAEPQIAMFCGRLNMHMNVQNGKWDSDPSGTKTCIDTKEGILQYCQEVYPELQITNVVEANQPVTIQNWCKRGRKQCKTHPHFVIPYRCLVGEFVSDALLVPDKCKFLHQERMDVCETHLHWHTVAKETCSEKSTNLHDYGMLLPCGIDKFRGVEFVCCPLAEESDNVDSADAEEDDSDVWWGGADTDYADGSEDKVVEVAEEEEVAEVEEEEADDDEDDEDGDEVEEEAEEPYEEATERTTSIATTTTTTTESVEEVVREVCSEQAETGPCRAMISRWYFDVTEGKCAPFFYGGCGGNRNNFDTEEYCMAVCGSAMSQSLLKTTQEPLARDPVKLPTTAASTPDAVDKYLETPGDENEHAHFQKAKERLEAKHRERMSQVMREWEEAERQAKNLPKADKKAVIQHFQEKVESLEQEAANERQQLVETHMARVEAMLNDRRRLALENYITALQAVPPRPRHVFNMLKKYVRAEQKDRQHTLKHFEHVRMVDPKKAAQIRSQVMTHLRVIYERMNQSLSLLYNVPAVAEEIQDEVDELLQKEQNYSDDVLANMISEPRISYGNDALMPSLTETKTTVELLPVNGEFSLDDLQPWHSFGADSVPANTENEVEPVDARPAADRGLTTRPGSGLTNIKTEEISEVKMDAEFRHDSGYEVHHQKLVFFAEDVGSNKGAIIGLMVGGVVIATVIVITLVMLKKKQYTSIHHGVVEVDAAVTPEERHLSKMQQNGYENPTYKFFEQMQN'},\n",
       " 'P37840': {'Disease': {'Parkinson disease 1, autosomal dominant (PARK1)': '168601',\n",
       "   'Parkinson disease 4, autosomal dominant (PARK4)': '605543',\n",
       "   'Dementia, Lewy body (DLB)': '127750'},\n",
       "  'Reactome': {'Amyloid fiber formation': 'R-HSA-977225'},\n",
       "  'Function': {'actin binding': 'GO:0003779',\n",
       "   'alpha-tubulin binding': 'GO:0043014',\n",
       "   'calcium ion binding': 'GO:0005509',\n",
       "   'copper ion binding': 'GO:0005507',\n",
       "   'cuprous ion binding': 'GO:1903136'},\n",
       "  'BioProcess': {'activation of cysteine-type endopeptidase activity involved in apoptotic process': 'GO:0006919',\n",
       "   'adult locomotory behavior': 'GO:0008344',\n",
       "   'cellular response to copper ion': 'GO:0071280',\n",
       "   'cellular response to epinephrine stimulus': 'GO:0071872',\n",
       "   'cellular response to oxidative stress': 'GO:0034599'},\n",
       "  'Gene': 'SNCA',\n",
       "  'Length': 140,\n",
       "  'Mass': 14460,\n",
       "  'Sequence': 'MDVFMKGLSKAKEGVVAAAEKTKQGVAEAAGKTKEGVLYVGSKTKEGVVHGVATVAEKTKEQVTNVGGAVVTGVTAVAQKTVEGAGSIAAATGFVKKDQLGKNEEGAPQEGILEDMPVDPDNEAYEMPSEEGYQDYEPEA'},\n",
       " 'Q9BYF1': {'Disease': {},\n",
       "  'Reactome': {'Metabolism of Angiotensinogen to Angiotensins': 'R-HSA-2022377',\n",
       "   'Attachment and Entry': 'R-HSA-9694614',\n",
       "   'Potential therapeutics for SARS': 'R-HSA-9679191'},\n",
       "  'Function': {'carboxypeptidase activity': 'GO:0004180',\n",
       "   'endopeptidase activity': 'GO:0004175',\n",
       "   'identical protein binding': 'GO:0042802',\n",
       "   'metallocarboxypeptidase activity': 'GO:0004181',\n",
       "   'metallopeptidase activity': 'GO:0008237'},\n",
       "  'BioProcess': {'angiotensin maturation': 'GO:0002003',\n",
       "   'angiotensin-mediated drinking behavior': 'GO:0003051',\n",
       "   'blood vessel diameter maintenance': 'GO:0097746',\n",
       "   'maternal process involved in female pregnancy': 'GO:0060135',\n",
       "   'membrane fusion': 'GO:0061025'},\n",
       "  'Gene': 'ACE2',\n",
       "  'Length': 805,\n",
       "  'Mass': 92463,\n",
       "  'Sequence': 'MSSSSWLLLSLVAVTAAQSTIEEQAKTFLDKFNHEAEDLFYQSSLASWNYNTNITEENVQNMNNAGDKWSAFLKEQSTLAQMYPLQEIQNLTVKLQLQALQQNGSSVLSEDKSKRLNTILNTMSTIYSTGKVCNPDNPQECLLLEPGLNEIMANSLDYNERLWAWESWRSEVGKQLRPLYEEYVVLKNEMARANHYEDYGDYWRGDYEVNGVDGYDYSRGQLIEDVEHTFEEIKPLYEHLHAYVRAKLMNAYPSYISPIGCLPAHLLGDMWGRFWTNLYSLTVPFGQKPNIDVTDAMVDQAWDAQRIFKEAEKFFVSVGLPNMTQGFWENSMLTDPGNVQKAVCHPTAWDLGKGDFRILMCTKVTMDDFLTAHHEMGHIQYDMAYAAQPFLLRNGANEGFHEAVGEIMSLSAATPKHLKSIGLLSPDFQEDNETEINFLLKQALTIVGTLPFTYMLEKWRWMVFKGEIPKDQWMKKWWEMKREIVGVVEPVPHDETYCDPASLFHVSNDYSFIRYYTRTLYQFQFQEALCQAAKHEGPLHKCDISNSTEAGQKLFNMLRLGKSEPWTLALENVVGAKNMNVRPLLNYFEPLFTWLKDQNKNSFVGWSTDWSPYADQSIKVRISLKSALGDKAYEWNDNEMYLFRSSVAYAMRQYFLKVKNQMILFGEEDVRVANLKPRISFNFFVTAPKNVSDIIPRTEVEKAIRMSRSRINDAFRLNDNSLEFLGIQPTLGPPNQPPVSIWLIVFGVVMGVIVVGIVILIFTGIRDRKKKNKARSGENPYASIDISKGENNPGFQNTDDVQTSF'}}"
      ]
     },
     "execution_count": 210,
     "metadata": {},
     "output_type": "execute_result"
    }
   ],
   "source": [
    "Uniprot_Dict"
   ]
  },
  {
   "cell_type": "code",
   "execution_count": 131,
   "id": "353c8c62",
   "metadata": {},
   "outputs": [
    {
     "data": {
      "text/plain": [
       "'GO:0004180'"
      ]
     },
     "execution_count": 131,
     "metadata": {},
     "output_type": "execute_result"
    }
   ],
   "source": []
  },
  {
   "cell_type": "code",
   "execution_count": 62,
   "id": "1784a95d",
   "metadata": {},
   "outputs": [],
   "source": [
    "c =list(test['BioProcess'].keys())"
   ]
  },
  {
   "cell_type": "code",
   "execution_count": 69,
   "id": "7104077a",
   "metadata": {},
   "outputs": [
    {
     "data": {
      "text/plain": [
       "'GO:0008344'"
      ]
     },
     "execution_count": 69,
     "metadata": {},
     "output_type": "execute_result"
    }
   ],
   "source": [
    "test['BioProcess'][c[1]]"
   ]
  },
  {
   "cell_type": "code",
   "execution_count": 248,
   "id": "f03ecbc5",
   "metadata": {},
   "outputs": [
    {
     "ename": "TypeError",
     "evalue": "initial_value must be str or None, not easyXML",
     "output_type": "error",
     "traceback": [
      "\u001b[1;31m---------------------------------------------------------------------------\u001b[0m",
      "\u001b[1;31mTypeError\u001b[0m                                 Traceback (most recent call last)",
      "Input \u001b[1;32mIn [248]\u001b[0m, in \u001b[0;36m<cell line: 2>\u001b[1;34m()\u001b[0m\n\u001b[0;32m      1\u001b[0m \u001b[38;5;66;03m#pd.read_xml(res)\u001b[39;00m\n\u001b[1;32m----> 2\u001b[0m pd\u001b[38;5;241m.\u001b[39mread_xml(\u001b[43mio\u001b[49m\u001b[38;5;241;43m.\u001b[39;49m\u001b[43mStringIO\u001b[49m\u001b[43m(\u001b[49m\u001b[43mres\u001b[49m\u001b[43m)\u001b[49m)\n",
      "\u001b[1;31mTypeError\u001b[0m: initial_value must be str or None, not easyXML"
     ]
    }
   ],
   "source": [
    "#pd.read_xml(res)\n",
    "pd.read_xml(io.StringIO(res))"
   ]
  },
  {
   "cell_type": "code",
   "execution_count": 1,
   "id": "a8f57223",
   "metadata": {},
   "outputs": [
    {
     "ename": "NameError",
     "evalue": "name 'UniProt' is not defined",
     "output_type": "error",
     "traceback": [
      "\u001b[1;31m---------------------------------------------------------------------------\u001b[0m",
      "\u001b[1;31mNameError\u001b[0m                                 Traceback (most recent call last)",
      "Input \u001b[1;32mIn [1]\u001b[0m, in \u001b[0;36m<cell line: 2>\u001b[1;34m()\u001b[0m\n\u001b[0;32m      1\u001b[0m \u001b[38;5;66;03m# Make a link to the UniProt webservice\u001b[39;00m\n\u001b[1;32m----> 2\u001b[0m service \u001b[38;5;241m=\u001b[39m \u001b[43mUniProt\u001b[49m()\n\u001b[0;32m      4\u001b[0m \u001b[38;5;66;03m# Build a query string\u001b[39;00m\n\u001b[0;32m      5\u001b[0m query \u001b[38;5;241m=\u001b[39m \u001b[38;5;124m\"\u001b[39m\u001b[38;5;124mQ9AJE3\u001b[39m\u001b[38;5;124m\"\u001b[39m\n",
      "\u001b[1;31mNameError\u001b[0m: name 'UniProt' is not defined"
     ]
    }
   ],
   "source": [
    "\n",
    "\n",
    "# Make a link to the UniProt webservice\n",
    "service = UniProt()\n",
    "\n",
    "# Build a query string\n",
    "query = \"Q9AJE3\"\n",
    "\n",
    "# Send the query to UniProt, and catch the search result in a variable\n",
    "result = service.search(query)\n",
    "\n",
    "# Inspect the result\n",
    "print(result)\n",
    "\n"
   ]
  },
  {
   "cell_type": "code",
   "execution_count": 342,
   "id": "6926a7dc",
   "metadata": {},
   "outputs": [
    {
     "name": "stdout",
     "output_type": "stream",
     "text": [
      "Entry\tEntry name\tStatus\tProtein names\tGene names\tOrganism\tLength\n",
      "P37840\tSYUA_HUMAN\treviewed\tAlpha-synuclein (Non-A beta component of AD amyloid) (Non-A4 component of amyloid precursor) (NACP)\tSNCA NACP PARK1\tHomo sapiens (Human)\t140\n",
      "\n"
     ]
    }
   ],
   "source": [
    "\n",
    "\n",
    "# Make a new query string, and run a remote search at UniProt\n",
    "new_query = \"accession:P37840\"\n",
    "new_result = service.search(new_query)\n",
    "\n",
    "# Inspect the result\n",
    "print(new_result)\n",
    "\n"
   ]
  },
  {
   "cell_type": "code",
   "execution_count": 77,
   "id": "c091d44a",
   "metadata": {},
   "outputs": [],
   "source": [
    "_valid_columns = [\n",
    "    # Names & Taxonomy\n",
    "    'id', 'entry name', 'genes', 'genes(PREFERRED)', 'genes(ALTERNATIVE)',\n",
    "    'genes(OLN)', 'genes(ORF)', 'organism', 'organism-id', 'protein names',\n",
    "    'proteome', 'lineage(ALL)', 'lineage-id', 'virus hosts',\n",
    "    # Sequences\n",
    "    'fragement', 'sequence', 'length', 'mass', 'encodedon',\n",
    "    'comment(ALTERNATIVE PRODUCTS)', 'comment(ERRONEOUS GENE MODEL PREDICTION)',\n",
    "    'comment(ERRONEOUS INITIATION)', 'comment(ERRONEOUS TERMINATION)',\n",
    "    'comment(ERRONEOUS TRANSLATION)', 'comment(FRAMESHIFT)',\n",
    "    'comment(MASS SPECTROMETRY)', 'comment(POLYMORPHISM)',\n",
    "    'comment(RNA EDITING)', 'comment(SEQUENCE CAUTION)',\n",
    "    'feature(ALTERNATIVE SEQUENCE)', 'feature(NATURAL VARIANT)',\n",
    "    'feature(NON ADJACENT RESIDUES)',\n",
    "    'feature(NON STANDARD RESIDUE)', 'feature(NON TERMINAL RESIDUE)',\n",
    "    'feature(SEQUENCE CONFLICT)', 'feature(SEQUENCE UNCERTAINTY)',\n",
    "    'version(sequence)',\n",
    "    # Family and Domains\n",
    "    'domains', 'domain', 'comment(DOMAIN)', 'comment(SIMILARITY)',\n",
    "    'feature(COILED COIL)', 'feature(COMPOSITIONAL BIAS)',\n",
    "    'feature(DOMAIN EXTENT)', 'feature(MOTIF)', 'feature(REGION)',\n",
    "    'feature(REPEAT)', 'feature(ZINC FINGER)',\n",
    "    # Function\n",
    "    'ec', 'comment(ABSORPTION)', 'comment(CATALYTIC ACTIVITY)',\n",
    "    'comment(COFACTOR)', 'comment(ENZYME REGULATION)', 'comment(FUNCTION)',\n",
    "    'comment(KINETICS)', 'comment(PATHWAY)', 'comment(REDOX POTENTIAL)',\n",
    "    'comment(TEMPERATURE DEPENDENCE)', 'comment(PH DEPENDENCE)',\n",
    "    'feature(ACTIVE SITE)', 'feature(BINDING SITE)', 'feature(DNA BINDING)',\n",
    "    'feature(METAL BINDING)', 'feature(NP BIND)', 'feature(SITE)',\n",
    "    # Gene Ontologys\n",
    "    'go', 'go(biological process)', 'go(molecular function)',\n",
    "    'go(cellular component)', 'go-id',\n",
    "    # InterPro\n",
    "    'interpro',\n",
    "    # Interaction\n",
    "    'interactor', 'comment(SUBUNIT)',\n",
    "    # Publications\n",
    "    'citation', 'citationmapping',\n",
    "    # Date of\n",
    "    'created', 'last-modified', 'sequence-modified', 'version(entry)',\n",
    "    # Structure\n",
    "    '3d', 'feature(BETA STRAND)', 'feature(HELIX)', 'feature(TURN)',\n",
    "    # Subcellular location\n",
    "    'comment(SUBCELLULAR LOCATION)', 'feature(INTRAMEMBRANE)',\n",
    "    'feature(TOPOLOGICAL DOMAIN)',\n",
    "    'feature(TRANSMEMBRANE)',\n",
    "    # Miscellaneous\n",
    "    'annotation score', 'score', 'features', 'comment(CAUTION)',\n",
    "    'comment(TISSUE SPECIFICITY)',\n",
    "    'comment(GENERAL)', 'keywords', 'context', 'existence', 'tools',\n",
    "    'reviewed', 'feature', 'families', 'subcellular locations', 'taxonomy',\n",
    "    'version', 'clusters', 'comments', 'database', 'keyword-id', 'pathway',\n",
    "    'score',\n",
    "    # Pathology & Biotech\n",
    "    'comment(ALLERGEN)', 'comment(BIOTECHNOLOGY)', 'comment(DISRUPTION PHENOTYPE)',\n",
    "    'comment(DISEASE)', 'comment(PHARMACEUTICAL)', 'comment(TOXIC DOSE)',\n",
    "    # PTM / Processsing\n",
    "    'comment(PTM)', 'feature(CHAIN)', 'feature(CROSS LINK)', 'feature(DISULFIDE BOND)',\n",
    "    'feature(GLYCOSYLATION)', 'feature(INITIATOR METHIONINE)', 'feature(LIPIDATION)',\n",
    "    'feature(MODIFIED RESIDUE)', 'feature(PEPTIDE)', 'feature(PROPEPTIDE)',\n",
    "    'feature(SIGNAL)', 'feature(TRANSIT)',\n",
    "    # Taxonomic lineage\n",
    "    'lineage(all)', 'lineage(SUPERKINGDOM)', 'lineage(KINGDOM)', 'lineage(SUBKINGDOM)',\n",
    "    'lineage(SUPERPHYLUM)', 'lineage(PHYLUM)', 'lineage(SUBPHYLUM)', 'lineage(SUPERCLASS)',\n",
    "    'lineage(CLASS)', 'lineage(SUBCLASS)', 'lineage(INFRACLASS)', 'lineage(SUPERORDER)',\n",
    "    'lineage(ORDER)', 'lineage(SUBORDER)', 'lineage(INFRAORDER)', 'lineage(PARVORDER)',\n",
    "    'lineage(SUPERFAMILY)', 'lineage(FAMILY)', 'lineage(SUBFAMILY)', 'lineage(TRIBE)',\n",
    "    'lineage(SUBTRIBE)', 'lineage(GENUS)', 'lineage(SUBGENUS)', 'lineage(SPECIES GROUP)',\n",
    "    'lineage(SPECIES SUBGROUP)', 'lineage(SPECIES)', 'lineage(SUBSPECIES)', 'lineage(VARIETAS)',\n",
    "    'lineage(FORMA)',\n",
    "    # Taxonomic identifier\n",
    "    'lineage-id(all)', 'lineage-id(SUPERKINGDOM)', 'lineage-id(KINGDOM)', 'lineage-id(SUBKINGDOM)',\n",
    "    'lineage-id(SUPERPHYLUM)', 'lineage-id(PHYLUM)', 'lineage-id(SUBPHYLUM)', 'lineage-id(SUPERCLASS)',\n",
    "    'lineage-id(CLASS)', 'lineage-id(SUBCLASS)', 'lineage-id(INFRACLASS)', 'lineage-id(SUPERORDER)',\n",
    "    'lineage-id(ORDER)', 'lineage-id(SUBORDER)', 'lineage-id(INFRAORDER)', 'lineage-id(PARVORDER)',\n",
    "    'lineage-id(SUPERFAMILY)', 'lineage-id(FAMILY)', 'lineage-id(SUBFAMILY)', 'lineage-id(TRIBE)',\n",
    "    'lineage-id(SUBTRIBE)', 'lineage-id(GENUS)', 'lineage-id(SUBGENUS)', 'lineage-id(SPECIES GROUP)',\n",
    "    'lineage-id(SPECIES SUBGROUP)', 'lineage-id(SPECIES)', 'lineage-id(SUBSPECIES)', 'lineage-id(VARIETAS)',\n",
    "    'lineage-id(FORMA)',\n",
    "    # Cross-references\n",
    "    'database(db_abbrev)', 'database(EMBL)']"
   ]
  },
  {
   "cell_type": "code",
   "execution_count": 145,
   "id": "4290caf1",
   "metadata": {},
   "outputs": [
    {
     "ename": "AttributeError",
     "evalue": "'list' object has no attribute 'startswith'",
     "output_type": "error",
     "traceback": [
      "\u001b[1;31m---------------------------------------------------------------------------\u001b[0m",
      "\u001b[1;31mAttributeError\u001b[0m                            Traceback (most recent call last)",
      "Input \u001b[1;32mIn [145]\u001b[0m, in \u001b[0;36m<cell line: 4>\u001b[1;34m()\u001b[0m\n\u001b[0;32m      2\u001b[0m new_query \u001b[38;5;241m=\u001b[39m \u001b[38;5;124m\"\u001b[39m\u001b[38;5;124maccession:P01375\u001b[39m\u001b[38;5;124m\"\u001b[39m\n\u001b[0;32m      3\u001b[0m \u001b[38;5;66;03m# Run the remote search\u001b[39;00m\n\u001b[1;32m----> 4\u001b[0m result \u001b[38;5;241m=\u001b[39m \u001b[43mservice\u001b[49m\u001b[38;5;241;43m.\u001b[39;49m\u001b[43msearch\u001b[49m\u001b[43m(\u001b[49m\u001b[43mnew_query\u001b[49m\u001b[43m,\u001b[49m\u001b[43m \u001b[49m\u001b[43mfrmt\u001b[49m\u001b[38;5;241;43m=\u001b[39;49m\u001b[38;5;124;43m\"\u001b[39;49m\u001b[38;5;124;43mtab\u001b[39;49m\u001b[38;5;124;43m\"\u001b[39;49m\u001b[43m,\u001b[49m\u001b[43m \u001b[49m\u001b[43mcolumns\u001b[49m\u001b[38;5;241;43m=\u001b[39;49m\u001b[43mcol_list\u001b[49m\u001b[43m)\u001b[49m\n\u001b[0;32m      6\u001b[0m \u001b[38;5;66;03m# View the result\u001b[39;00m\n\u001b[0;32m      7\u001b[0m \u001b[38;5;28mprint\u001b[39m(result)\n",
      "File \u001b[1;32m~\\Anaconda3\\envs\\bycovid_new\\lib\\site-packages\\bioservices\\uniprot.py:657\u001b[0m, in \u001b[0;36mUniProt.search\u001b[1;34m(self, query, frmt, columns, include, sort, compress, limit, offset, maxTrials, database)\u001b[0m\n\u001b[0;32m    654\u001b[0m     columns \u001b[38;5;241m=\u001b[39m [columns]\n\u001b[0;32m    656\u001b[0m \u001b[38;5;28;01mfor\u001b[39;00m col \u001b[38;5;129;01min\u001b[39;00m columns:\n\u001b[1;32m--> 657\u001b[0m     \u001b[38;5;28;01mif\u001b[39;00m \u001b[43mcol\u001b[49m\u001b[38;5;241;43m.\u001b[39;49m\u001b[43mstartswith\u001b[49m(\u001b[38;5;124m\"\u001b[39m\u001b[38;5;124mdatabase(\u001b[39m\u001b[38;5;124m\"\u001b[39m) \u001b[38;5;129;01mis\u001b[39;00m \u001b[38;5;28;01mTrue\u001b[39;00m:\n\u001b[0;32m    658\u001b[0m         \u001b[38;5;28;01mpass\u001b[39;00m\n\u001b[0;32m    659\u001b[0m     \u001b[38;5;28;01melse\u001b[39;00m:\n",
      "\u001b[1;31mAttributeError\u001b[0m: 'list' object has no attribute 'startswith'"
     ]
    }
   ],
   "source": [
    "col_list = ['id','genes','sequence','pathway']\n",
    "new_query = \"accession:P01375\"\n",
    "# Run the remote search\n",
    "result = service.search(new_query, frmt=\"tab\", columns=col_list)\n",
    "\n",
    "# View the result\n",
    "print(result)"
   ]
  },
  {
   "cell_type": "code",
   "execution_count": 87,
   "id": "abd2ff57",
   "metadata": {},
   "outputs": [
    {
     "name": "stdout",
     "output_type": "stream",
     "text": [
      "['id', 'entry name', 'genes', 'genes(PREFERRED)', 'genes(ALTERNATIVE)', 'genes(OLN)', 'genes(ORF)', 'organism', 'organism-id', 'protein names', 'proteome', 'lineage(ALL)', 'lineage-id', 'virus hosts', 'fragment', 'sequence', 'length', 'mass', 'encodedon', 'comment(ALTERNATIVE PRODUCTS)', 'comment(ERRONEOUS GENE MODEL PREDICTION)', 'comment(ERRONEOUS INITIATION)', 'comment(ERRONEOUS TERMINATION)', 'comment(ERRONEOUS TRANSLATION)', 'comment(FRAMESHIFT)', 'comment(MASS SPECTROMETRY)', 'comment(POLYMORPHISM)', 'comment(RNA EDITING)', 'comment(SEQUENCE CAUTION)', 'feature(ALTERNATIVE SEQUENCE)', 'feature(NATURAL VARIANT)', 'feature(NON ADJACENT RESIDUES)', 'feature(NON STANDARD RESIDUE)', 'feature(NON TERMINAL RESIDUE)', 'feature(SEQUENCE CONFLICT)', 'feature(SEQUENCE UNCERTAINTY)', 'version(sequence)', 'domains', 'domain', 'comment(DOMAIN)', 'comment(SIMILARITY)', 'feature(COILED COIL)', 'feature(COMPOSITIONAL BIAS)', 'feature(DOMAIN EXTENT)', 'feature(MOTIF)', 'feature(REGION)', 'feature(REPEAT)', 'feature(ZINC FINGER)', 'ec', 'comment(ABSORPTION)', 'comment(CATALYTIC ACTIVITY)', 'comment(COFACTOR)', 'comment(ENZYME REGULATION)', 'comment(FUNCTION)', 'comment(KINETICS)', 'comment(PATHWAY)', 'comment(REDOX POTENTIAL)', 'comment(TEMPERATURE DEPENDENCE)', 'comment(PH DEPENDENCE)', 'feature(ACTIVE SITE)', 'feature(BINDING SITE)', 'feature(DNA BINDING)', 'feature(METAL BINDING)', 'feature(NP BIND)', 'feature(SITE)', 'go', 'go(biological process)', 'go(molecular function)', 'go(cellular component)', 'go-id', 'interpro', 'interactor', 'comment(SUBUNIT)', 'citation', 'citationmapping', 'created', 'last-modified', 'sequence-modified', 'version(entry)', '3d', 'feature(BETA STRAND)', 'feature(HELIX)', 'feature(TURN)', 'comment(SUBCELLULAR LOCATION)', 'feature(INTRAMEMBRANE)', 'feature(TOPOLOGICAL DOMAIN)', 'feature(TRANSMEMBRANE)', 'annotation score', 'score', 'features', 'comment(CAUTION)', 'comment(TISSUE SPECIFICITY)', 'comment(GENERAL)', 'keywords', 'context', 'existence', 'tools', 'reviewed', 'feature', 'families', 'subcellular locations', 'taxonomy', 'version', 'clusters', 'comments', 'database', 'keyword-id', 'pathway', 'score', 'comment(ALLERGEN)', 'comment(BIOTECHNOLOGY)', 'comment(DISRUPTION PHENOTYPE)', 'comment(DISEASE)', 'comment(PHARMACEUTICAL)', 'comment(TOXIC DOSE)', 'comment(PTM)', 'feature(CHAIN)', 'feature(CROSS LINK)', 'feature(DISULFIDE BOND)', 'feature(GLYCOSYLATION)', 'feature(INITIATOR METHIONINE)', 'feature(LIPIDATION)', 'feature(MODIFIED RESIDUE)', 'feature(PEPTIDE)', 'feature(PROPEPTIDE)', 'feature(SIGNAL)', 'feature(TRANSIT)', 'lineage(all)', 'lineage(SUPERKINGDOM)', 'lineage(KINGDOM)', 'lineage(SUBKINGDOM)', 'lineage(SUPERPHYLUM)', 'lineage(PHYLUM)', 'lineage(SUBPHYLUM)', 'lineage(SUPERCLASS)', 'lineage(CLASS)', 'lineage(SUBCLASS)', 'lineage(INFRACLASS)', 'lineage(SUPERORDER)', 'lineage(ORDER)', 'lineage(SUBORDER)', 'lineage(INFRAORDER)', 'lineage(PARVORDER)', 'lineage(SUPERFAMILY)', 'lineage(FAMILY)', 'lineage(SUBFAMILY)', 'lineage(TRIBE)', 'lineage(SUBTRIBE)', 'lineage(GENUS)', 'lineage(SUBGENUS)', 'lineage(SPECIES GROUP)', 'lineage(SPECIES SUBGROUP)', 'lineage(SPECIES)', 'lineage(SUBSPECIES)', 'lineage(VARIETAS)', 'lineage(FORMA)', 'lineage-id(all)', 'lineage-id(SUPERKINGDOM)', 'lineage-id(KINGDOM)', 'lineage-id(SUBKINGDOM)', 'lineage-id(SUPERPHYLUM)', 'lineage-id(PHYLUM)', 'lineage-id(SUBPHYLUM)', 'lineage-id(SUPERCLASS)', 'lineage-id(CLASS)', 'lineage-id(SUBCLASS)', 'lineage-id(INFRACLASS)', 'lineage-id(SUPERORDER)', 'lineage-id(ORDER)', 'lineage-id(SUBORDER)', 'lineage-id(INFRAORDER)', 'lineage-id(PARVORDER)', 'lineage-id(SUPERFAMILY)', 'lineage-id(FAMILY)', 'lineage-id(SUBFAMILY)', 'lineage-id(TRIBE)', 'lineage-id(SUBTRIBE)', 'lineage-id(GENUS)', 'lineage-id(SUBGENUS)', 'lineage-id(SPECIES GROUP)', 'lineage-id(SPECIES SUBGROUP)', 'lineage-id(SPECIES)', 'lineage-id(SUBSPECIES)', 'lineage-id(VARIETAS)', 'lineage-id(FORMA)', 'database(db_abbrev)', 'database(EMBL)']\n"
     ]
    }
   ],
   "source": [
    "print(service._valid_columns)"
   ]
  },
  {
   "cell_type": "code",
   "execution_count": 146,
   "id": "152f1e6a",
   "metadata": {},
   "outputs": [
    {
     "name": "stdout",
     "output_type": "stream",
     "text": [
      "Entry\tEntry name\tGene names  (primary )\tLength\tMass\tSequence\n",
      "P01375\tTNFA_HUMAN\tTNF\t233\t25,644\tMSTESMIRDVELAEEALPKKTGGPQGSRRCLFLSLFSFLIVAGATTLFCLLHFGVIGPQREEFPRDLSLISPLAQAVRSSSRTPSDKPVAHVVANPQAEGQLQWLNRRANALLANGVELRDNQLVVPSEGLYLIYSQVLFKGQGCPSTHVLLTHTISRIAVSYQTKVNLLSAIKSPCQRETPEGAEAKPWYEPIYLGGVFQLEKGDRLSAEINRPDYLDFAESGQVYFGIIAL\n",
      "\n"
     ]
    }
   ],
   "source": [
    "\n",
    "\n",
    "# Make a query string\n",
    "query = \"accession:P01375\"\n",
    "\n",
    "# Define a list of columns we want to retrive\n",
    "#columnlist = \"id,entry name,length,mass,go(biological process),go(molecular function), pathway,feature(TOPOLOGICAL DOMAIN),comment(DISEASE),pathway\"\n",
    "columnlist = \"id,entry name,genes(PREFERRED),length,mass,sequence\"\n",
    "\n",
    "# Run the remote search\n",
    "result = service.search(query, frmt=\"tab\", columns=columnlist)\n",
    "\n",
    "# View the result\n",
    "print(result)\n",
    "\n"
   ]
  },
  {
   "cell_type": "code",
   "execution_count": 183,
   "id": "ad4e81f7",
   "metadata": {},
   "outputs": [
    {
     "data": {
      "text/html": [
       "<div>\n",
       "<style scoped>\n",
       "    .dataframe tbody tr th:only-of-type {\n",
       "        vertical-align: middle;\n",
       "    }\n",
       "\n",
       "    .dataframe tbody tr th {\n",
       "        vertical-align: top;\n",
       "    }\n",
       "\n",
       "    .dataframe thead th {\n",
       "        text-align: right;\n",
       "    }\n",
       "</style>\n",
       "<table border=\"1\" class=\"dataframe\">\n",
       "  <thead>\n",
       "    <tr style=\"text-align: right;\">\n",
       "      <th></th>\n",
       "      <th>Entry</th>\n",
       "      <th>Entry name</th>\n",
       "      <th>Gene names  (primary )</th>\n",
       "      <th>Length</th>\n",
       "      <th>Mass</th>\n",
       "      <th>Sequence</th>\n",
       "    </tr>\n",
       "  </thead>\n",
       "  <tbody>\n",
       "    <tr>\n",
       "      <th>0</th>\n",
       "      <td>P01375</td>\n",
       "      <td>TNFA_HUMAN</td>\n",
       "      <td>TNF</td>\n",
       "      <td>233</td>\n",
       "      <td>25,644</td>\n",
       "      <td>MSTESMIRDVELAEEALPKKTGGPQGSRRCLFLSLFSFLIVAGATT...</td>\n",
       "    </tr>\n",
       "  </tbody>\n",
       "</table>\n",
       "</div>"
      ],
      "text/plain": [
       "    Entry  Entry name Gene names  (primary )  Length    Mass  \\\n",
       "0  P01375  TNFA_HUMAN                    TNF     233  25,644   \n",
       "\n",
       "                                            Sequence  \n",
       "0  MSTESMIRDVELAEEALPKKTGGPQGSRRCLFLSLFSFLIVAGATT...  "
      ]
     },
     "execution_count": 183,
     "metadata": {},
     "output_type": "execute_result"
    }
   ],
   "source": [
    "df = pd.read_table(io.StringIO(result))\n",
    "df\n",
    "#bb = list(df['Sequence'])\n",
    "#bb"
   ]
  },
  {
   "cell_type": "code",
   "execution_count": 328,
   "id": "517f8c40",
   "metadata": {},
   "outputs": [
    {
     "data": {
      "text/plain": [
       "' DISEASE: Parkinson disease 1, autosomal dominant (PARK1) [MIM:168601]: A complex neurodegenerative disorder characterized by bradykinesia, resting tremor, muscular rigidity and postural instability. Additional features are characteristic postural abnormalities, dysautonomia, dystonic cramps, and dementia. The pathology of Parkinson disease involves the loss of dopaminergic neurons in the substantia nigra and the presence of Lewy bodies (intraneuronal accumulations of aggregated proteins), in surviving neurons in various areas of the brain. The disease is progressive and usually manifests after the age of 50 years, although early-onset cases (before 50 years) are known. The majority of the cases are sporadic suggesting a multifactorial etiology based on environmental and genetic factors. However, some patients present with a positive family history for the disease. Familial forms of the disease usually begin at earlier ages and are associated with atypical clinical features. {ECO:0000269|PubMed:14755719, ECO:0000269|PubMed:23427326, ECO:0000269|PubMed:23457019, ECO:0000269|PubMed:24936070, ECO:0000269|PubMed:25561023, ECO:0000269|PubMed:9197268, ECO:0000269|PubMed:9462735}. Note=The disease is caused by variants affecting the gene represented in this entry.'"
      ]
     },
     "execution_count": 328,
     "metadata": {},
     "output_type": "execute_result"
    }
   ],
   "source": [
    "bb = df['Involvement in disease'][0].split(';')\n",
    "bb[1]"
   ]
  },
  {
   "cell_type": "code",
   "execution_count": 204,
   "id": "b55b3ffe",
   "metadata": {},
   "outputs": [
    {
     "data": {
      "text/plain": [
       "'GO:0005516]<p>'"
      ]
     },
     "execution_count": 204,
     "metadata": {},
     "output_type": "execute_result"
    }
   ],
   "source": [
    "import re\n",
    "result = re.search('GO.*',a)\n",
    "result.group(0)"
   ]
  },
  {
   "cell_type": "code",
   "execution_count": 213,
   "id": "8eb56028",
   "metadata": {},
   "outputs": [
    {
     "data": {
      "text/plain": [
       "['GO:0005516']"
      ]
     },
     "execution_count": 213,
     "metadata": {},
     "output_type": "execute_result"
    }
   ],
   "source": [
    "import re\n",
    "matches = re.findall(r'\\[(.+?)\\]',test[0])\n",
    "matches"
   ]
  },
  {
   "cell_type": "code",
   "execution_count": 214,
   "id": "7d2f4d74",
   "metadata": {},
   "outputs": [
    {
     "data": {
      "text/plain": [
       "'calmodulin binding [GO:0005516]'"
      ]
     },
     "execution_count": 214,
     "metadata": {},
     "output_type": "execute_result"
    }
   ],
   "source": [
    "test[0]"
   ]
  },
  {
   "cell_type": "code",
   "execution_count": 179,
   "id": "642be1cb",
   "metadata": {},
   "outputs": [
    {
     "data": {
      "text/plain": [
       "'<p>calmodulin binding [GO:0005516]<p>'"
      ]
     },
     "execution_count": 179,
     "metadata": {},
     "output_type": "execute_result"
    }
   ],
   "source": [
    "test = df['Gene ontology (molecular function)'][0].split('; ')\n",
    "test[0]\n",
    "a = '<p>calmodulin binding [GO:0005516]<p>'\n",
    "a"
   ]
  },
  {
   "cell_type": "code",
   "execution_count": 220,
   "id": "b2143bfd",
   "metadata": {},
   "outputs": [
    {
     "data": {
      "text/plain": [
       "'GO:0005516]'"
      ]
     },
     "execution_count": 220,
     "metadata": {},
     "output_type": "execute_result"
    }
   ],
   "source": [
    "test[0].split(' [')[1]"
   ]
  }
 ],
 "metadata": {
  "kernelspec": {
   "display_name": "Python 3 (ipykernel)",
   "language": "python",
   "name": "python3"
  },
  "language_info": {
   "codemirror_mode": {
    "name": "ipython",
    "version": 3
   },
   "file_extension": ".py",
   "mimetype": "text/x-python",
   "name": "python",
   "nbconvert_exporter": "python",
   "pygments_lexer": "ipython3",
   "version": "3.10.4"
  }
 },
 "nbformat": 4,
 "nbformat_minor": 5
}
