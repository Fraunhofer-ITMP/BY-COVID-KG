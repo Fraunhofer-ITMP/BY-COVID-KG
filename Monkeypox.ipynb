{
 "cells": [
  {
   "cell_type": "markdown",
   "id": "7178b103",
   "metadata": {},
   "source": [
    "# Monkeypox KG\n"
   ]
  },
  {
   "cell_type": "markdown",
   "id": "1321283f",
   "metadata": {},
   "source": [
    "# Package installation is required only once"
   ]
  },
  {
   "cell_type": "code",
   "execution_count": null,
   "id": "9eeabbe7",
   "metadata": {},
   "outputs": [],
   "source": [
    "#pip install -r packages.txt"
   ]
  },
  {
   "cell_type": "code",
   "execution_count": 1,
   "id": "6d8c9e89",
   "metadata": {},
   "outputs": [
    {
     "name": "stderr",
     "output_type": "stream",
     "text": [
      "C:\\Users\\reagon.karki\\Anaconda3\\envs\\bycovid_new\\lib\\site-packages\\pybel\\struct\\operations.py:8: TqdmWarning: IProgress not found. Please update jupyter and ipywidgets. See https://ipywidgets.readthedocs.io/en/stable/user_install.html\n",
      "  from tqdm.autonotebook import tqdm\n"
     ]
    }
   ],
   "source": [
    "import pybel\n",
    "from tqdm import tqdm\n",
    "import pandas as pd\n",
    "from pybel.dsl import Protein\n",
    "from pybel.dsl import Abundance\n",
    "from pybel.dsl import Pathology\n",
    "from pybel.dsl import BiologicalProcess\n",
    "from pybel.dsl import Population\n",
    "from pybel.dsl import Gene\n",
    "from pybel.dsl import Rna\n",
    "from pybel.dsl import MicroRna\n",
    "from pybel.dsl import Fragment\n",
    "import chembl_webresource_client\n",
    "import openpyxl\n",
    "import networkx as nx\n",
    "from pybel.io.jupyter import to_jupyter\n",
    "import matplotlib.pyplot as plt\n",
    "from chembl_webresource_client.new_client import new_client\n",
    "import pubchempy\n",
    "import pickle\n",
    "import re\n",
    "from ByCovidGraph import *\n",
    "import pubchempy as pcp\n",
    "import urllib\n",
    "from urllib.parse import urlparse\n",
    "import io\n"
   ]
  },
  {
   "cell_type": "code",
   "execution_count": null,
   "id": "9ec279d5",
   "metadata": {},
   "outputs": [],
   "source": [
    "# drugs against monkeypox from https://www.jglobalbiosecurity.com/articles/10.31646/gbio.12\n",
    "\n",
    "mpox = 'CHEMBL152 CHEMBL203321 CHEMBL1257073 CHEMBL220610 CHEMBL221054 CHEMBL1257073 CHEMBL375768 CHEMBL220150'.split()\n",
    "mpox"
   ]
  },
  {
   "cell_type": "code",
   "execution_count": null,
   "id": "5fcad839",
   "metadata": {},
   "outputs": [],
   "source": [
    "mpox"
   ]
  },
  {
   "cell_type": "code",
   "execution_count": null,
   "id": "bd655d4d",
   "metadata": {},
   "outputs": [],
   "source": [
    "#reading file from pubchem for monkeypox \n",
    "#https://pubchem.ncbi.nlm.nih.gov/taxonomy/10244\n",
    "\n",
    "mpox_pchem = pd.read_csv('data/normalized_data/TaxID_10244_bioactivity.csv')\n",
    "mpox_pchem_cid = mpox_pchem['cid']\n",
    "mpox_pchem_cid = list(set(mpox_pchem_cid))\n",
    "len(mpox_pchem_cid)"
   ]
  },
  {
   "cell_type": "code",
   "execution_count": null,
   "id": "e0cba719",
   "metadata": {},
   "outputs": [],
   "source": [
    "mpox_pchem_cid"
   ]
  },
  {
   "cell_type": "code",
   "execution_count": null,
   "id": "bdca7c26",
   "metadata": {},
   "outputs": [],
   "source": [
    "chembl_list = cid2chembl(mpox_pchem_cid)"
   ]
  },
  {
   "cell_type": "code",
   "execution_count": null,
   "id": "0490e354",
   "metadata": {},
   "outputs": [],
   "source": [
    "chembl_list"
   ]
  },
  {
   "cell_type": "code",
   "execution_count": null,
   "id": "969eea69",
   "metadata": {},
   "outputs": [],
   "source": [
    "#convert pubchem cids to chembl ids\n",
    "\n",
    "cid2chembl_dict = []\n",
    "\n",
    "for id in mpox_pchem_cid:\n",
    "    #if id != 'None':\n",
    "    print(id)\n",
    "    GetChembl = {}\n",
    "    c=pcp.Compound.from_cid(id)\n",
    "    #print(id)\n",
    "    syn = c.synonyms\n",
    "    for s in syn:\n",
    "        #if s.startswith('SCHEMBL'):\n",
    "            #GetChembl['SCHEMBL'] = s\n",
    "        if s.startswith('CHEMBL'):\n",
    "            print(s)\n",
    "            GetChembl['CHEMBL'] = s\n",
    "\n",
    "    cid2chembl_dict.append(GetChembl)\n",
    "        "
   ]
  },
  {
   "cell_type": "code",
   "execution_count": null,
   "id": "fbed34cc",
   "metadata": {},
   "outputs": [],
   "source": [
    "cid2chembl_dict"
   ]
  },
  {
   "cell_type": "code",
   "execution_count": null,
   "id": "2741dc45",
   "metadata": {},
   "outputs": [],
   "source": [
    "chemblid = []\n",
    "\n",
    "for id in cid2chembl_dict:\n",
    "    #chemblid.append()\n",
    "    #print(id.values())\n",
    "    chembl = list(id.values())\n",
    "    #print(chembl[0])\n",
    "    chemblid.append(chembl[0])\n",
    "    "
   ]
  },
  {
   "cell_type": "code",
   "execution_count": null,
   "id": "9db7037e",
   "metadata": {},
   "outputs": [],
   "source": [
    "chemblid = mpox+chembl_list\n",
    "len(chemblid)"
   ]
  },
  {
   "cell_type": "code",
   "execution_count": null,
   "id": "1935e705",
   "metadata": {},
   "outputs": [],
   "source": [
    "chemblid = set(chemblid)\n",
    "chemblid = list(chemblid)\n",
    "len(chemblid)"
   ]
  },
  {
   "cell_type": "code",
   "execution_count": null,
   "id": "fe1852a7",
   "metadata": {},
   "outputs": [],
   "source": [
    "pchem_mech = RetMech(chemblid)\n"
   ]
  },
  {
   "cell_type": "code",
   "execution_count": null,
   "id": "ac01b9a2",
   "metadata": {},
   "outputs": [],
   "source": [
    "pchem_dis = RetDrugInd(chemblid)"
   ]
  },
  {
   "cell_type": "code",
   "execution_count": null,
   "id": "c0467f79",
   "metadata": {},
   "outputs": [],
   "source": [
    "pchem_act = RetAct(chemblid,0)"
   ]
  },
  {
   "cell_type": "code",
   "execution_count": 123,
   "id": "01140445",
   "metadata": {
    "scrolled": true
   },
   "outputs": [
    {
     "ename": "NameError",
     "evalue": "name 'pchem_act' is not defined",
     "output_type": "error",
     "traceback": [
      "\u001b[1;31m---------------------------------------------------------------------------\u001b[0m",
      "\u001b[1;31mNameError\u001b[0m                                 Traceback (most recent call last)",
      "Input \u001b[1;32mIn [123]\u001b[0m, in \u001b[0;36m<cell line: 1>\u001b[1;34m()\u001b[0m\n\u001b[1;32m----> 1\u001b[0m chemid2 \u001b[38;5;241m=\u001b[39m Ret_chembl_protein(\u001b[43mpchem_act\u001b[49m) \u001b[38;5;241m+\u001b[39m Ret_chembl_protein(pchem_mech)\n\u001b[0;32m      2\u001b[0m chemid2\n",
      "\u001b[1;31mNameError\u001b[0m: name 'pchem_act' is not defined"
     ]
    }
   ],
   "source": [
    "chemid2 = Ret_chembl_protein(pchem_act) + Ret_chembl_protein(pchem_mech)\n",
    "chemid2"
   ]
  },
  {
   "cell_type": "code",
   "execution_count": 125,
   "id": "12d77d51",
   "metadata": {},
   "outputs": [
    {
     "data": {
      "text/plain": [
       "['CHEMBL2754', 'CHEMBL2413', 'CHEMBL614548', 'CHEMBL3091']"
      ]
     },
     "execution_count": 125,
     "metadata": {},
     "output_type": "execute_result"
    }
   ],
   "source": [
    "chemid2"
   ]
  },
  {
   "cell_type": "code",
   "execution_count": null,
   "id": "6ed43dc7",
   "metadata": {},
   "outputs": [],
   "source": [
    "chem2uni = chembl2uniprot(chemid2,0)\n",
    "chem2uni"
   ]
  },
  {
   "cell_type": "code",
   "execution_count": null,
   "id": "222d4b03",
   "metadata": {},
   "outputs": [],
   "source": [
    "chem2uni = chembl2uniprot(chemid2,0)\n",
    "chem2uni"
   ]
  },
  {
   "cell_type": "code",
   "execution_count": null,
   "id": "249612f4",
   "metadata": {},
   "outputs": [],
   "source": [
    "chem2uni"
   ]
  },
  {
   "cell_type": "code",
   "execution_count": null,
   "id": "21a7827d",
   "metadata": {},
   "outputs": [],
   "source": [
    "pchem_act_new= chembl2gene2path(chem2uni,pchem_act)\n",
    "pchem_act_new"
   ]
  },
  {
   "cell_type": "code",
   "execution_count": null,
   "id": "0121d42d",
   "metadata": {},
   "outputs": [],
   "source": [
    "pchem_act"
   ]
  },
  {
   "cell_type": "code",
   "execution_count": null,
   "id": "7634e128",
   "metadata": {},
   "outputs": [],
   "source": [
    "mpox_graph = pybel.BELGraph(name='Monkeypox Graph')"
   ]
  },
  {
   "cell_type": "code",
   "execution_count": null,
   "id": "23c70afb",
   "metadata": {},
   "outputs": [],
   "source": [
    "mpox_graph = chem2moa_rel_2(pchem_mech,mpox_graph)\n",
    "mpox_graph = chem2dis_rel(pchem_dis,mpox_graph)\n",
    "mpox_graph = chem2act_rel_2(pchem_act_new,mpox_graph)\n",
    "mpox_graph = chem2gene2path_rel(chem2uni,mpox_graph)\n",
    "to_jupyter(mpox_graph)"
   ]
  },
  {
   "cell_type": "code",
   "execution_count": null,
   "id": "0a5c3be8",
   "metadata": {},
   "outputs": [],
   "source": [
    "mpox_graph.summarize()"
   ]
  },
  {
   "cell_type": "markdown",
   "id": "87eb23b8",
   "metadata": {},
   "source": [
    "# Working with monkeypox proteins from uniprot\n"
   ]
  },
  {
   "cell_type": "code",
   "execution_count": null,
   "id": "90141bdd",
   "metadata": {},
   "outputs": [],
   "source": [
    "mpox_prot_df = pd.read_excel('data/normalized_data/uniprot-taxonomy Monkeypox+virus+[10244] -filtered-reviewed yes.xlsx')"
   ]
  },
  {
   "cell_type": "code",
   "execution_count": null,
   "id": "2c51fb9a",
   "metadata": {},
   "outputs": [],
   "source": [
    "mpox_prot= list(mpox_prot_df['Entry'])\n",
    "mpox_prot"
   ]
  },
  {
   "cell_type": "code",
   "execution_count": null,
   "id": "7370ef05",
   "metadata": {},
   "outputs": [],
   "source": [
    "mpox_prot_ext = ExtractFromUniProt(mpox_prot)"
   ]
  },
  {
   "cell_type": "code",
   "execution_count": null,
   "id": "69c9d92a",
   "metadata": {},
   "outputs": [],
   "source": [
    "mpox_prot_ext"
   ]
  },
  {
   "cell_type": "code",
   "execution_count": null,
   "id": "4a3f4ffd",
   "metadata": {},
   "outputs": [],
   "source": [
    "str(mpox_prot_ext['Q8V4S4']['Gene'])"
   ]
  },
  {
   "cell_type": "code",
   "execution_count": null,
   "id": "90c88040",
   "metadata": {},
   "outputs": [],
   "source": [
    "def uniprot_rel(named_uprotList,itmpGraph):\n",
    "    \n",
    "    for item in named_uprotList:\n",
    "        #print(named_uprotList[item]['Function'].keys())\n",
    "        fun=list(named_uprotList[item]['Function'].keys())\n",
    "        bp = list(named_uprotList[item]['BioProcess'].keys())\n",
    "        for f in fun:\n",
    "            if str(named_uprotList[item]['Gene']) != 'nan' && !isinstance(named_uprotList[item]['Gene'],dict) :\n",
    "                itmpGraph.add_association(Protein(namespace='MP',name=named_uprotList[item]['Gene']),MicroRna(namespace='Function',name=f),\n",
    "                                         citation='UniProt database',evidence='UniProt query')\n",
    "            else:\n",
    "                itmpGraph.add_association(Protein(namespace='MP',name=item),MicroRna(namespace='Function',name=f),\n",
    "                                         citation='UniProt database',evidence='UniProt query')\n",
    "                \n",
    "        \n",
    "        for b in bp:\n",
    "            if str(named_uprotList[item]['Gene']) != 'nan' && !isinstance(named_uprotList[item]['Gene'],dict):\n",
    "                itmpGraph.add_association(Protein(namespace='MP',name=named_uprotList[item]['Gene']),BiologicalProcess(namespace='BioPro',name=b),\n",
    "                                         citation='UniProt database',evidence='UniProt query')\n",
    "            else:\n",
    "                itmpGraph.add_association(Protein(namespace='MP',name=item),MicroRna(namespace='Function',name=b),\n",
    "                                         citation='UniProt database',evidence='UniProt query')\n",
    "        \n",
    "    return(itmpGraph)\n",
    "        "
   ]
  },
  {
   "cell_type": "code",
   "execution_count": null,
   "id": "d05e02ee",
   "metadata": {},
   "outputs": [],
   "source": [
    "#mpox_graph = pybel.BELGraph(name='Monkeypox Graph')"
   ]
  },
  {
   "cell_type": "code",
   "execution_count": null,
   "id": "7ce3c517",
   "metadata": {},
   "outputs": [],
   "source": [
    "mpox_graph = uniprot_rel(mpox_prot_ext,mpox_graph)"
   ]
  },
  {
   "cell_type": "code",
   "execution_count": null,
   "id": "e0e00a33",
   "metadata": {},
   "outputs": [],
   "source": [
    "mpox_graph = uniprot_rel(mcards_prot,mpox_graph)"
   ]
  },
  {
   "cell_type": "code",
   "execution_count": null,
   "id": "79a1307b",
   "metadata": {},
   "outputs": [],
   "source": []
  },
  {
   "cell_type": "code",
   "execution_count": null,
   "id": "ee50f184",
   "metadata": {},
   "outputs": [],
   "source": [
    "mpox_graph.summarize()"
   ]
  },
  {
   "cell_type": "code",
   "execution_count": null,
   "id": "e9e1ee78",
   "metadata": {},
   "outputs": [],
   "source": [
    "to_jupyter(mpox_graph)"
   ]
  },
  {
   "cell_type": "markdown",
   "id": "1d467c22",
   "metadata": {},
   "source": [
    "# Genes from Malacards\n"
   ]
  },
  {
   "cell_type": "code",
   "execution_count": null,
   "id": "da75ad86",
   "metadata": {},
   "outputs": [],
   "source": [
    "mpox_genes = 'IFNA1 C4A C4B CCL26 KLRC3 CD4 CD8A OR10G6 LINCO1285 KLRK1 CD55 CYB5R3 CD46 IRF3'.split(\" \")\n",
    "mpox_genes"
   ]
  },
  {
   "cell_type": "code",
   "execution_count": 2,
   "id": "7ce1b354",
   "metadata": {},
   "outputs": [],
   "source": [
    "mpox_genes = pd.read_excel('data/normalized_data/malacardsGenes.xlsx')"
   ]
  },
  {
   "cell_type": "code",
   "execution_count": 3,
   "id": "db15211f",
   "metadata": {},
   "outputs": [
    {
     "data": {
      "text/plain": [
       "Index(['yourlist:M20220620A084FC58F6BBA219896F365D15F2EB44516BBDJ', 'Entry',\n",
       "       'Entry name', 'Status', 'Protein names', 'Gene names', 'Organism',\n",
       "       'Gene names  (primary )'],\n",
       "      dtype='object')"
      ]
     },
     "execution_count": 3,
     "metadata": {},
     "output_type": "execute_result"
    }
   ],
   "source": [
    "mpox_genes.columns"
   ]
  },
  {
   "cell_type": "code",
   "execution_count": 4,
   "id": "f66c3762",
   "metadata": {},
   "outputs": [
    {
     "data": {
      "text/plain": [
       "['P0C0L4',\n",
       " 'P0C0L5',\n",
       " 'Q9Y258',\n",
       " 'Q07444',\n",
       " 'P01730',\n",
       " 'P01732',\n",
       " 'Q8NH81',\n",
       " 'P26718',\n",
       " 'P08174',\n",
       " 'P00387',\n",
       " 'P15529',\n",
       " 'Q14653',\n",
       " 'P01562']"
      ]
     },
     "execution_count": 4,
     "metadata": {},
     "output_type": "execute_result"
    }
   ],
   "source": [
    "mpox_prot = list(mpox_genes['Entry'])\n",
    "mpox_prot"
   ]
  },
  {
   "cell_type": "code",
   "execution_count": 5,
   "id": "3cc2f808",
   "metadata": {},
   "outputs": [
    {
     "name": "stdout",
     "output_type": "stream",
     "text": [
      "https://www.uniprot.org/uniprot/P0C0L4.txt\n",
      "P0C0L4\n",
      "https://www.uniprot.org/uniprot/P0C0L5.txt\n",
      "P0C0L5\n",
      "https://www.uniprot.org/uniprot/Q9Y258.txt\n",
      "Q9Y258\n",
      "https://www.uniprot.org/uniprot/Q07444.txt\n",
      "Q07444\n",
      "https://www.uniprot.org/uniprot/P01730.txt\n",
      "P01730\n",
      "https://www.uniprot.org/uniprot/P01732.txt\n",
      "P01732\n",
      "https://www.uniprot.org/uniprot/Q8NH81.txt\n",
      "Q8NH81\n",
      "https://www.uniprot.org/uniprot/P26718.txt\n",
      "P26718\n",
      "https://www.uniprot.org/uniprot/P08174.txt\n",
      "P08174\n",
      "https://www.uniprot.org/uniprot/P00387.txt\n",
      "P00387\n",
      "https://www.uniprot.org/uniprot/P15529.txt\n",
      "P15529\n",
      "https://www.uniprot.org/uniprot/Q14653.txt\n",
      "Q14653\n",
      "https://www.uniprot.org/uniprot/P01562.txt\n",
      "P01562\n"
     ]
    }
   ],
   "source": [
    "mcards_prot = ExtractFromUniProt(mpox_prot)"
   ]
  },
  {
   "cell_type": "code",
   "execution_count": 1,
   "id": "3a980e7c",
   "metadata": {},
   "outputs": [
    {
     "ename": "NameError",
     "evalue": "name 'ExtractFromUniProt' is not defined",
     "output_type": "error",
     "traceback": [
      "\u001b[1;31m---------------------------------------------------------------------------\u001b[0m",
      "\u001b[1;31mNameError\u001b[0m                                 Traceback (most recent call last)",
      "Input \u001b[1;32mIn [1]\u001b[0m, in \u001b[0;36m<cell line: 1>\u001b[1;34m()\u001b[0m\n\u001b[1;32m----> 1\u001b[0m mcards_prot \u001b[38;5;241m=\u001b[39m \u001b[43mExtractFromUniProt\u001b[49m(mpox_prot)\n",
      "\u001b[1;31mNameError\u001b[0m: name 'ExtractFromUniProt' is not defined"
     ]
    }
   ],
   "source": [
    "mcards_prot = ExtractFromUniProt(mpox_prot)"
   ]
  },
  {
   "cell_type": "code",
   "execution_count": null,
   "id": "59f8d7f0",
   "metadata": {},
   "outputs": [],
   "source": [
    "mcards_prot"
   ]
  },
  {
   "cell_type": "code",
   "execution_count": null,
   "id": "bd5869bf",
   "metadata": {},
   "outputs": [],
   "source": [
    "#Exporting the graph\n",
    "\n",
    "#to cytoscape compatible graphml \n",
    "pybel.to_graphml(mpox_graph,'data/normalized_data/Monkeypox_KG.graphml')\n",
    "\n",
    "#to regular BEL format\n",
    "pybel.dump(mpox_graph,'data/normalized_data/Monkeypox_KG.bel')\n",
    "\n",
    "#to neo4j\n",
    "pybel.to_csv(mpox_graph,'data/normalized_data/Monkeypox_KG.csv')\n",
    "\n",
    "#to sif\n",
    "pybel.to_sif(mpox_graph,'data/normalized_data/Monkeypox_KG.sif')"
   ]
  },
  {
   "cell_type": "markdown",
   "id": "22423b4a",
   "metadata": {},
   "source": [
    "# Convert uniprot to chembl"
   ]
  },
  {
   "cell_type": "code",
   "execution_count": null,
   "id": "346865f6",
   "metadata": {},
   "outputs": [],
   "source": [
    "from chembl_webresource_client.new_client import new_client\n",
    "\n",
    "target = new_client.target\n",
    "gene_name = 'P01730'\n",
    "res = target.filter(target_synonym__icontains=gene_name)\n",
    "for i in res:\n",
    "    print(i)"
   ]
  },
  {
   "cell_type": "code",
   "execution_count": null,
   "id": "955e1b3e",
   "metadata": {},
   "outputs": [],
   "source": [
    "query = ' '.join(mpox_prot)\n",
    "query"
   ]
  },
  {
   "cell_type": "code",
   "execution_count": null,
   "id": "f42a8d45",
   "metadata": {},
   "outputs": [],
   "source": [
    "import urllib.parse\n",
    "import urllib.request\n",
    "\n",
    "url = 'https://www.uniprot.org/uploadlists/'\n",
    "\n",
    "query = 'P0C0L4 P0C0L5 Q9Y258 Q07444 P01730 P01732 Q8NH81 P26718 P08174 P00387 P15529 Q14653 P01562'\n",
    "params = {\n",
    "'from': 'ACC+ID',\n",
    "'to': 'CHEMBL_ID',\n",
    "'format': 'tab',\n",
    "'query': query\n",
    "}\n",
    "\n",
    "data = urllib.parse.urlencode(params)\n",
    "data = data.encode('utf-8')\n",
    "req = urllib.request.Request(url, data)\n",
    "with urllib.request.urlopen(req) as f:\n",
    "   response = f.read()\n",
    "print(response.decode('utf-8'))"
   ]
  },
  {
   "cell_type": "code",
   "execution_count": null,
   "id": "506269a1",
   "metadata": {},
   "outputs": [],
   "source": [
    "query = 'P0C0L4 P0C0L5 Q9Y258 Q07444 P01730 P01732 Q8NH81 P26718 P08174 P00387 P15529 Q14653 P01562'.split(' ')\n",
    "query"
   ]
  },
  {
   "cell_type": "code",
   "execution_count": null,
   "id": "e05d2edd",
   "metadata": {},
   "outputs": [],
   "source": [
    "query = ExtractFromUniProt(query)"
   ]
  },
  {
   "cell_type": "code",
   "execution_count": null,
   "id": "b727534e",
   "metadata": {},
   "outputs": [],
   "source": [
    "query"
   ]
  },
  {
   "cell_type": "code",
   "execution_count": null,
   "id": "029f2ba7",
   "metadata": {},
   "outputs": [],
   "source": [
    "targets_api  = new_client.target\n"
   ]
  },
  {
   "cell_type": "code",
   "execution_count": 6,
   "id": "80c96b8f",
   "metadata": {},
   "outputs": [],
   "source": [
    "\n",
    "def _get_target_data(protein_list: list, organism: str):\n",
    "    \"\"\"Get chemical for target data from ChEMBL\"\"\"\n",
    "    df_data = []\n",
    "\n",
    "    target = new_client.target\n",
    "    activity = new_client.activity\n",
    "\n",
    "    for protein in protein_list:\n",
    "        if pd.isna(protein):\n",
    "            continue\n",
    "        try:\n",
    "            prot_data = [target.search(protein)[0]]\n",
    "\n",
    "            # Search for protein with same synonym\n",
    "            if prot_data == [None]:\n",
    "                prot_data = target.filter(\n",
    "                    target_synonym__icontains=protein, target_organism__istartswith=organism\n",
    "                ).only(['target_chembl_id', 'target_pref_name', 'molecule_chembl_id', 'molecule_pref_name'])\n",
    "        except HttpBadRequest:\n",
    "            print(f'Cannot search for {protein} due to chembl error')\n",
    "            continue\n",
    "\n",
    "        # No results found\n",
    "        if not prot_data:\n",
    "            continue\n",
    "\n",
    "        for prot in tqdm(prot_data, f'Analying data for {protein}'):\n",
    "            # Absence of chembl id\n",
    "            if not prot['target_chembl_id']:\n",
    "                continue\n",
    "\n",
    "            prot_activity_data = activity.filter(\n",
    "                target_chembl_id=prot['target_chembl_id'],\n",
    "                assay_type_iregex='(B|F)',\n",
    "            ).only([\n",
    "                'pchembl_value', 'molecule_chembl_id', 'activity_id', 'target_pref_name', 'molecule_pref_name'\n",
    "            ])\n",
    "\n",
    "            if len(prot_activity_data) < 1:\n",
    "                continue\n",
    "\n",
    "            for i in prot_activity_data:\n",
    "                tmp = {}\n",
    "\n",
    "                if i['pchembl_value'] is None:\n",
    "                    continue\n",
    "\n",
    "                pchembl_val = i['pchembl_value']\n",
    "\n",
    "                if float(pchembl_val) < 6:\n",
    "                    tmp['activity'] = 'inhibitor'\n",
    "                else:\n",
    "                    tmp['activity'] = 'activator'\n",
    "\n",
    "                tmp['protein_symbol'] = protein\n",
    "                tmp['protein_name'] = i['target_pref_name']\n",
    "                tmp['aid'] = str(i['activity_id'])\n",
    "                tmp['chembl_id'] = i['molecule_chembl_id']\n",
    "                tmp['compound_name'] = i['molecule_pref_name'].capitalize() if i['molecule_pref_name'] else ''\n",
    "                df_data.append(tmp)\n",
    "\n",
    "    # Merge duplicated protein-chemical entries into one\n",
    "    df = pd.DataFrame()\n",
    "\n",
    "    for idx, row in tqdm(enumerate(df_data), total=len(df_data), desc='Preparing data'):\n",
    "        if idx == 0:\n",
    "            df = df.append(row, ignore_index=True)\n",
    "        else:\n",
    "            _in_df = df.loc[\n",
    "                (df['protein_symbol'] == row['protein_symbol']) & (df['chembl_id'] == row['chembl_id'])\n",
    "            ]\n",
    "\n",
    "            if _in_df.empty:\n",
    "                df = df.append(row, ignore_index=True)\n",
    "            else:\n",
    "                row_index = _in_df.index\n",
    "\n",
    "                # Check existing citations\n",
    "                existing_assays = set(df.loc[row_index, 'aid'].values[0].split(' | '))\n",
    "                old_count = len(existing_assays)\n",
    "                existing_assays.add(row['aid'])\n",
    "                new_count = len(existing_assays)\n",
    "\n",
    "                # Check if new citation added, if yes - add respective data\n",
    "                if old_count < new_count:\n",
    "                    df.loc[row_index, 'aid'] = ' | '.join(existing_assays)\n",
    "    df = df[['activity', 'protein_symbol', 'protein_name', 'aid', 'chembl_id', 'compound_name']]\n",
    "    return df\n"
   ]
  },
  {
   "cell_type": "code",
   "execution_count": 7,
   "id": "ee5bf34a",
   "metadata": {},
   "outputs": [],
   "source": [
    "def target_list_to_chemical(\n",
    "    proteins: list,\n",
    "    organism: str = 'Homo sapiens',\n",
    "    output_dir: str = ''\n",
    ") -> None:\n",
    "    \"\"\"Extract chemical information on list of targets\n",
    "    Usage:\n",
    "    >> target_list_to_chemical(proteins=['RIPK'])\n",
    "    \"\"\"\n",
    "\n",
    "    df = _get_target_data(protein_list=proteins, organism=organism)\n",
    "    #os.makedirs(output_dir, exist_ok=True)\n",
    "    #df.to_csv(os.path.join(output_dir, 'chemical_annotated.csv'), sep='\\t', index=False)\n",
    "    return(df)\n"
   ]
  },
  {
   "cell_type": "code",
   "execution_count": 8,
   "id": "15bc168b",
   "metadata": {},
   "outputs": [
    {
     "name": "stderr",
     "output_type": "stream",
     "text": [
      "Analying data for P01730: 100%|██████████| 1/1 [00:00<00:00, 117.61it/s]\n",
      "Analying data for P00387: 100%|██████████| 1/1 [00:00<00:00, 124.96it/s]\n",
      "Analying data for Q14653: 100%|██████████| 1/1 [00:00<00:00, 166.59it/s]\n",
      "Analying data for P01562: 100%|██████████| 1/1 [00:00<00:00, 200.34it/s]\n",
      "Preparing data:   0%|          | 0/38 [00:00<?, ?it/s]C:\\Users\\reagon.karki\\AppData\\Local\\Temp\\ipykernel_780\\3358757808.py:67: FutureWarning: The frame.append method is deprecated and will be removed from pandas in a future version. Use pandas.concat instead.\n",
      "  df = df.append(row, ignore_index=True)\n",
      "Preparing data:   3%|▎         | 1/38 [00:00<00:14,  2.64it/s]C:\\Users\\reagon.karki\\AppData\\Local\\Temp\\ipykernel_780\\3358757808.py:74: FutureWarning: The frame.append method is deprecated and will be removed from pandas in a future version. Use pandas.concat instead.\n",
      "  df = df.append(row, ignore_index=True)\n",
      "C:\\Users\\reagon.karki\\AppData\\Local\\Temp\\ipykernel_780\\3358757808.py:74: FutureWarning: The frame.append method is deprecated and will be removed from pandas in a future version. Use pandas.concat instead.\n",
      "  df = df.append(row, ignore_index=True)\n",
      "C:\\Users\\reagon.karki\\AppData\\Local\\Temp\\ipykernel_780\\3358757808.py:74: FutureWarning: The frame.append method is deprecated and will be removed from pandas in a future version. Use pandas.concat instead.\n",
      "  df = df.append(row, ignore_index=True)\n",
      "C:\\Users\\reagon.karki\\AppData\\Local\\Temp\\ipykernel_780\\3358757808.py:74: FutureWarning: The frame.append method is deprecated and will be removed from pandas in a future version. Use pandas.concat instead.\n",
      "  df = df.append(row, ignore_index=True)\n",
      "C:\\Users\\reagon.karki\\AppData\\Local\\Temp\\ipykernel_780\\3358757808.py:74: FutureWarning: The frame.append method is deprecated and will be removed from pandas in a future version. Use pandas.concat instead.\n",
      "  df = df.append(row, ignore_index=True)\n",
      "C:\\Users\\reagon.karki\\AppData\\Local\\Temp\\ipykernel_780\\3358757808.py:74: FutureWarning: The frame.append method is deprecated and will be removed from pandas in a future version. Use pandas.concat instead.\n",
      "  df = df.append(row, ignore_index=True)\n",
      "C:\\Users\\reagon.karki\\AppData\\Local\\Temp\\ipykernel_780\\3358757808.py:74: FutureWarning: The frame.append method is deprecated and will be removed from pandas in a future version. Use pandas.concat instead.\n",
      "  df = df.append(row, ignore_index=True)\n",
      "C:\\Users\\reagon.karki\\AppData\\Local\\Temp\\ipykernel_780\\3358757808.py:74: FutureWarning: The frame.append method is deprecated and will be removed from pandas in a future version. Use pandas.concat instead.\n",
      "  df = df.append(row, ignore_index=True)\n",
      "Preparing data:  24%|██▎       | 9/38 [00:00<00:01, 23.16it/s]C:\\Users\\reagon.karki\\AppData\\Local\\Temp\\ipykernel_780\\3358757808.py:74: FutureWarning: The frame.append method is deprecated and will be removed from pandas in a future version. Use pandas.concat instead.\n",
      "  df = df.append(row, ignore_index=True)\n",
      "C:\\Users\\reagon.karki\\AppData\\Local\\Temp\\ipykernel_780\\3358757808.py:74: FutureWarning: The frame.append method is deprecated and will be removed from pandas in a future version. Use pandas.concat instead.\n",
      "  df = df.append(row, ignore_index=True)\n",
      "C:\\Users\\reagon.karki\\AppData\\Local\\Temp\\ipykernel_780\\3358757808.py:74: FutureWarning: The frame.append method is deprecated and will be removed from pandas in a future version. Use pandas.concat instead.\n",
      "  df = df.append(row, ignore_index=True)\n",
      "C:\\Users\\reagon.karki\\AppData\\Local\\Temp\\ipykernel_780\\3358757808.py:74: FutureWarning: The frame.append method is deprecated and will be removed from pandas in a future version. Use pandas.concat instead.\n",
      "  df = df.append(row, ignore_index=True)\n",
      "C:\\Users\\reagon.karki\\AppData\\Local\\Temp\\ipykernel_780\\3358757808.py:74: FutureWarning: The frame.append method is deprecated and will be removed from pandas in a future version. Use pandas.concat instead.\n",
      "  df = df.append(row, ignore_index=True)\n",
      "C:\\Users\\reagon.karki\\AppData\\Local\\Temp\\ipykernel_780\\3358757808.py:74: FutureWarning: The frame.append method is deprecated and will be removed from pandas in a future version. Use pandas.concat instead.\n",
      "  df = df.append(row, ignore_index=True)\n",
      "C:\\Users\\reagon.karki\\AppData\\Local\\Temp\\ipykernel_780\\3358757808.py:74: FutureWarning: The frame.append method is deprecated and will be removed from pandas in a future version. Use pandas.concat instead.\n",
      "  df = df.append(row, ignore_index=True)\n",
      "C:\\Users\\reagon.karki\\AppData\\Local\\Temp\\ipykernel_780\\3358757808.py:74: FutureWarning: The frame.append method is deprecated and will be removed from pandas in a future version. Use pandas.concat instead.\n",
      "  df = df.append(row, ignore_index=True)\n",
      "Preparing data:  45%|████▍     | 17/38 [00:00<00:00, 37.83it/s]C:\\Users\\reagon.karki\\AppData\\Local\\Temp\\ipykernel_780\\3358757808.py:74: FutureWarning: The frame.append method is deprecated and will be removed from pandas in a future version. Use pandas.concat instead.\n",
      "  df = df.append(row, ignore_index=True)\n",
      "C:\\Users\\reagon.karki\\AppData\\Local\\Temp\\ipykernel_780\\3358757808.py:74: FutureWarning: The frame.append method is deprecated and will be removed from pandas in a future version. Use pandas.concat instead.\n",
      "  df = df.append(row, ignore_index=True)\n",
      "C:\\Users\\reagon.karki\\AppData\\Local\\Temp\\ipykernel_780\\3358757808.py:74: FutureWarning: The frame.append method is deprecated and will be removed from pandas in a future version. Use pandas.concat instead.\n",
      "  df = df.append(row, ignore_index=True)\n",
      "C:\\Users\\reagon.karki\\AppData\\Local\\Temp\\ipykernel_780\\3358757808.py:74: FutureWarning: The frame.append method is deprecated and will be removed from pandas in a future version. Use pandas.concat instead.\n",
      "  df = df.append(row, ignore_index=True)\n",
      "C:\\Users\\reagon.karki\\AppData\\Local\\Temp\\ipykernel_780\\3358757808.py:74: FutureWarning: The frame.append method is deprecated and will be removed from pandas in a future version. Use pandas.concat instead.\n",
      "  df = df.append(row, ignore_index=True)\n",
      "C:\\Users\\reagon.karki\\AppData\\Local\\Temp\\ipykernel_780\\3358757808.py:74: FutureWarning: The frame.append method is deprecated and will be removed from pandas in a future version. Use pandas.concat instead.\n",
      "  df = df.append(row, ignore_index=True)\n",
      "C:\\Users\\reagon.karki\\AppData\\Local\\Temp\\ipykernel_780\\3358757808.py:74: FutureWarning: The frame.append method is deprecated and will be removed from pandas in a future version. Use pandas.concat instead.\n",
      "  df = df.append(row, ignore_index=True)\n",
      "C:\\Users\\reagon.karki\\AppData\\Local\\Temp\\ipykernel_780\\3358757808.py:74: FutureWarning: The frame.append method is deprecated and will be removed from pandas in a future version. Use pandas.concat instead.\n",
      "  df = df.append(row, ignore_index=True)\n",
      "Preparing data:  66%|██████▌   | 25/38 [00:00<00:00, 48.25it/s]C:\\Users\\reagon.karki\\AppData\\Local\\Temp\\ipykernel_780\\3358757808.py:74: FutureWarning: The frame.append method is deprecated and will be removed from pandas in a future version. Use pandas.concat instead.\n",
      "  df = df.append(row, ignore_index=True)\n",
      "C:\\Users\\reagon.karki\\AppData\\Local\\Temp\\ipykernel_780\\3358757808.py:74: FutureWarning: The frame.append method is deprecated and will be removed from pandas in a future version. Use pandas.concat instead.\n",
      "  df = df.append(row, ignore_index=True)\n",
      "C:\\Users\\reagon.karki\\AppData\\Local\\Temp\\ipykernel_780\\3358757808.py:74: FutureWarning: The frame.append method is deprecated and will be removed from pandas in a future version. Use pandas.concat instead.\n",
      "  df = df.append(row, ignore_index=True)\n",
      "C:\\Users\\reagon.karki\\AppData\\Local\\Temp\\ipykernel_780\\3358757808.py:74: FutureWarning: The frame.append method is deprecated and will be removed from pandas in a future version. Use pandas.concat instead.\n",
      "  df = df.append(row, ignore_index=True)\n",
      "C:\\Users\\reagon.karki\\AppData\\Local\\Temp\\ipykernel_780\\3358757808.py:74: FutureWarning: The frame.append method is deprecated and will be removed from pandas in a future version. Use pandas.concat instead.\n",
      "  df = df.append(row, ignore_index=True)\n",
      "C:\\Users\\reagon.karki\\AppData\\Local\\Temp\\ipykernel_780\\3358757808.py:74: FutureWarning: The frame.append method is deprecated and will be removed from pandas in a future version. Use pandas.concat instead.\n",
      "  df = df.append(row, ignore_index=True)\n"
     ]
    },
    {
     "name": "stderr",
     "output_type": "stream",
     "text": [
      "C:\\Users\\reagon.karki\\AppData\\Local\\Temp\\ipykernel_780\\3358757808.py:74: FutureWarning: The frame.append method is deprecated and will be removed from pandas in a future version. Use pandas.concat instead.\n",
      "  df = df.append(row, ignore_index=True)\n",
      "C:\\Users\\reagon.karki\\AppData\\Local\\Temp\\ipykernel_780\\3358757808.py:74: FutureWarning: The frame.append method is deprecated and will be removed from pandas in a future version. Use pandas.concat instead.\n",
      "  df = df.append(row, ignore_index=True)\n",
      "Preparing data:  87%|████████▋ | 33/38 [00:00<00:00, 55.62it/s]C:\\Users\\reagon.karki\\AppData\\Local\\Temp\\ipykernel_780\\3358757808.py:74: FutureWarning: The frame.append method is deprecated and will be removed from pandas in a future version. Use pandas.concat instead.\n",
      "  df = df.append(row, ignore_index=True)\n",
      "C:\\Users\\reagon.karki\\AppData\\Local\\Temp\\ipykernel_780\\3358757808.py:74: FutureWarning: The frame.append method is deprecated and will be removed from pandas in a future version. Use pandas.concat instead.\n",
      "  df = df.append(row, ignore_index=True)\n",
      "C:\\Users\\reagon.karki\\AppData\\Local\\Temp\\ipykernel_780\\3358757808.py:74: FutureWarning: The frame.append method is deprecated and will be removed from pandas in a future version. Use pandas.concat instead.\n",
      "  df = df.append(row, ignore_index=True)\n",
      "C:\\Users\\reagon.karki\\AppData\\Local\\Temp\\ipykernel_780\\3358757808.py:74: FutureWarning: The frame.append method is deprecated and will be removed from pandas in a future version. Use pandas.concat instead.\n",
      "  df = df.append(row, ignore_index=True)\n",
      "C:\\Users\\reagon.karki\\AppData\\Local\\Temp\\ipykernel_780\\3358757808.py:74: FutureWarning: The frame.append method is deprecated and will be removed from pandas in a future version. Use pandas.concat instead.\n",
      "  df = df.append(row, ignore_index=True)\n",
      "Preparing data: 100%|██████████| 38/38 [00:00<00:00, 42.60it/s]\n"
     ]
    }
   ],
   "source": [
    "tar2chem = target_list_to_chemical(mpox_prot)"
   ]
  },
  {
   "cell_type": "code",
   "execution_count": null,
   "id": "df5a8197",
   "metadata": {},
   "outputs": [],
   "source": [
    "tar2chem"
   ]
  },
  {
   "cell_type": "code",
   "execution_count": 9,
   "id": "d89cdbaa",
   "metadata": {},
   "outputs": [
    {
     "data": {
      "text/plain": [
       "['CHEMBL506605',\n",
       " 'CHEMBL525803',\n",
       " 'CHEMBL3143464',\n",
       " 'CHEMBL3138360',\n",
       " 'CHEMBL3138345',\n",
       " 'CHEMBL3138187',\n",
       " 'CHEMBL3138374',\n",
       " 'CHEMBL3138095',\n",
       " 'CHEMBL3138378',\n",
       " 'CHEMBL3138119',\n",
       " 'CHEMBL231224',\n",
       " 'CHEMBL267655',\n",
       " 'CHEMBL388209',\n",
       " 'CHEMBL230799',\n",
       " 'CHEMBL267658',\n",
       " 'CHEMBL388208',\n",
       " 'CHEMBL267657',\n",
       " 'CHEMBL230798',\n",
       " 'CHEMBL388207',\n",
       " 'CHEMBL230796',\n",
       " 'CHEMBL1852155',\n",
       " 'CHEMBL1819181',\n",
       " 'CHEMBL4783030',\n",
       " 'CHEMBL4755141',\n",
       " 'CHEMBL4783761',\n",
       " 'CHEMBL4750160',\n",
       " 'CHEMBL4743003',\n",
       " 'CHEMBL4782080',\n",
       " 'CHEMBL4746252',\n",
       " 'CHEMBL4747494',\n",
       " 'CHEMBL4758659',\n",
       " 'CHEMBL4750983',\n",
       " 'CHEMBL4786809',\n",
       " 'CHEMBL4748787',\n",
       " 'CHEMBL4785236',\n",
       " 'CHEMBL4791666',\n",
       " 'CHEMBL4525466',\n",
       " 'CHEMBL4471585']"
      ]
     },
     "execution_count": 9,
     "metadata": {},
     "output_type": "execute_result"
    }
   ],
   "source": [
    "list(tar2chem['chembl_id'])"
   ]
  },
  {
   "cell_type": "code",
   "execution_count": 10,
   "id": "9a351a59",
   "metadata": {},
   "outputs": [
    {
     "name": "stdout",
     "output_type": "stream",
     "text": [
      "1\n",
      "[{'assay_chembl_id': 'CHEMBL655882', 'assay_type': 'B', 'bao_label': 'single protein format', 'pchembl_value': '6.89', 'target_chembl_id': 'CHEMBL2754', 'target_organism': 'Homo sapiens', 'type': 'IC50', 'value': '0.13'}]\n",
      "2\n",
      "[{'assay_chembl_id': 'CHEMBL655882', 'assay_type': 'B', 'bao_label': 'single protein format', 'pchembl_value': '6.89', 'target_chembl_id': 'CHEMBL2754', 'target_organism': 'Homo sapiens', 'type': 'IC50', 'value': '0.13'}]\n",
      "3\n",
      "[{'assay_chembl_id': 'CHEMBL655882', 'assay_type': 'B', 'bao_label': 'single protein format', 'pchembl_value': '6.89', 'target_chembl_id': 'CHEMBL2754', 'target_organism': 'Homo sapiens', 'type': 'IC50', 'value': '0.13'}]\n",
      "4\n",
      "[]\n",
      "5\n",
      "[{'assay_chembl_id': 'CHEMBL659225', 'assay_type': 'F', 'bao_label': 'cell-based format', 'pchembl_value': '6.30', 'target_chembl_id': 'CHEMBL614548', 'target_organism': 'Homo sapiens', 'type': 'EC50', 'value': '0.5'}, {'assay_chembl_id': 'CHEMBL659282', 'assay_type': 'F', 'bao_label': 'cell-based format', 'pchembl_value': '6.26', 'target_chembl_id': 'CHEMBL614548', 'target_organism': 'Homo sapiens', 'type': 'EC50', 'value': '0.55'}, {'assay_chembl_id': 'CHEMBL653198', 'assay_type': 'F', 'bao_label': 'cell-based format', 'pchembl_value': '6.30', 'target_chembl_id': 'CHEMBL614548', 'target_organism': 'Homo sapiens', 'type': 'EC50', 'value': '0.5'}]\n",
      "6\n",
      "[{'assay_chembl_id': 'CHEMBL651917', 'assay_type': 'F', 'bao_label': 'assay format', 'pchembl_value': '6.58', 'target_chembl_id': 'CHEMBL2413', 'target_organism': 'Homo sapiens', 'type': 'IC50', 'value': '0.26'}]\n",
      "7\n",
      "[]\n",
      "8\n",
      "[]\n",
      "9\n",
      "[]\n",
      "10\n",
      "[]\n",
      "11\n",
      "[]\n",
      "12\n",
      "[]\n",
      "13\n",
      "[]\n",
      "14\n",
      "[]\n",
      "15\n",
      "[]\n",
      "16\n",
      "[]\n",
      "17\n",
      "[]\n",
      "18\n",
      "[]\n",
      "19\n",
      "[]\n",
      "20\n",
      "[]\n",
      "21\n",
      "[{'assay_chembl_id': 'CHEMBL4629041', 'assay_type': 'B', 'bao_label': 'cell-based format', 'pchembl_value': '6.42', 'target_chembl_id': 'CHEMBL3091', 'target_organism': 'Homo sapiens', 'type': 'IC50', 'value': '0.38'}, {'assay_chembl_id': 'CHEMBL4629040', 'assay_type': 'B', 'bao_label': 'cell-based format', 'pchembl_value': '6.68', 'target_chembl_id': 'CHEMBL2754', 'target_organism': 'Homo sapiens', 'type': 'IC50', 'value': '0.21'}]\n",
      "22\n",
      "[{'assay_chembl_id': 'CHEMBL4677392', 'assay_type': 'B', 'bao_label': 'cell-based format', 'pchembl_value': '6.48', 'target_chembl_id': 'CHEMBL2754', 'target_organism': 'Homo sapiens', 'type': 'IC50', 'value': '0.33'}]\n",
      "23\n",
      "[]\n",
      "24\n",
      "[{'assay_chembl_id': 'CHEMBL4677392', 'assay_type': 'B', 'bao_label': 'cell-based format', 'pchembl_value': '6.07', 'target_chembl_id': 'CHEMBL2754', 'target_organism': 'Homo sapiens', 'type': 'IC50', 'value': '0.86'}]\n",
      "25\n",
      "[{'assay_chembl_id': 'CHEMBL4677392', 'assay_type': 'B', 'bao_label': 'cell-based format', 'pchembl_value': '6.02', 'target_chembl_id': 'CHEMBL2754', 'target_organism': 'Homo sapiens', 'type': 'IC50', 'value': '0.95'}]\n",
      "26\n",
      "[]\n",
      "27\n",
      "[]\n",
      "28\n",
      "[]\n",
      "29\n",
      "[{'assay_chembl_id': 'CHEMBL4677392', 'assay_type': 'B', 'bao_label': 'cell-based format', 'pchembl_value': '6.38', 'target_chembl_id': 'CHEMBL2754', 'target_organism': 'Homo sapiens', 'type': 'IC50', 'value': '0.42'}]\n",
      "30\n",
      "[{'assay_chembl_id': 'CHEMBL4677392', 'assay_type': 'B', 'bao_label': 'cell-based format', 'pchembl_value': '6.89', 'target_chembl_id': 'CHEMBL2754', 'target_organism': 'Homo sapiens', 'type': 'IC50', 'value': '0.13'}]\n",
      "31\n",
      "[{'assay_chembl_id': 'CHEMBL4677392', 'assay_type': 'B', 'bao_label': 'cell-based format', 'pchembl_value': '6.08', 'target_chembl_id': 'CHEMBL2754', 'target_organism': 'Homo sapiens', 'type': 'IC50', 'value': '0.83'}]\n",
      "32\n",
      "[{'assay_chembl_id': 'CHEMBL4677392', 'assay_type': 'B', 'bao_label': 'cell-based format', 'pchembl_value': '6.27', 'target_chembl_id': 'CHEMBL2754', 'target_organism': 'Homo sapiens', 'type': 'IC50', 'value': '0.54'}]\n",
      "33\n",
      "[{'assay_chembl_id': 'CHEMBL4677392', 'assay_type': 'B', 'bao_label': 'cell-based format', 'pchembl_value': '6.18', 'target_chembl_id': 'CHEMBL2754', 'target_organism': 'Homo sapiens', 'type': 'IC50', 'value': '0.66'}]\n",
      "34\n",
      "[{'assay_chembl_id': 'CHEMBL4677392', 'assay_type': 'B', 'bao_label': 'cell-based format', 'pchembl_value': '6.13', 'target_chembl_id': 'CHEMBL2754', 'target_organism': 'Homo sapiens', 'type': 'IC50', 'value': '0.74'}]\n",
      "35\n",
      "[]\n",
      "36\n",
      "[{'assay_chembl_id': 'CHEMBL4677392', 'assay_type': 'B', 'bao_label': 'cell-based format', 'pchembl_value': '6.66', 'target_chembl_id': 'CHEMBL2754', 'target_organism': 'Homo sapiens', 'type': 'IC50', 'value': '0.22'}]\n",
      "37\n",
      "[]\n",
      "38\n",
      "[]\n"
     ]
    }
   ],
   "source": [
    "tar2chem_act = RetAct(list(tar2chem['chembl_id']),0)"
   ]
  },
  {
   "cell_type": "code",
   "execution_count": 12,
   "id": "d9878564",
   "metadata": {},
   "outputs": [
    {
     "name": "stdout",
     "output_type": "stream",
     "text": [
      "[]\n",
      "[]\n",
      "[]\n",
      "[]\n",
      "[]\n",
      "[]\n",
      "[]\n",
      "[]\n",
      "[]\n",
      "[]\n",
      "[]\n",
      "[]\n",
      "[]\n",
      "[]\n",
      "[]\n",
      "[]\n",
      "[]\n",
      "[]\n",
      "[]\n",
      "[]\n",
      "[]\n",
      "[]\n",
      "[]\n",
      "[]\n",
      "[]\n",
      "[]\n",
      "[]\n",
      "[]\n",
      "[]\n",
      "[]\n",
      "[]\n",
      "[]\n",
      "[]\n",
      "[]\n",
      "[]\n",
      "[]\n",
      "[]\n",
      "[]\n"
     ]
    }
   ],
   "source": [
    "tar2chem_mech = RetMech(list(tar2chem['chembl_id']))"
   ]
  },
  {
   "cell_type": "code",
   "execution_count": 11,
   "id": "8e3c55a8",
   "metadata": {},
   "outputs": [
    {
     "name": "stdout",
     "output_type": "stream",
     "text": [
      "[]\n",
      "[]\n",
      "[]\n",
      "[]\n",
      "[]\n",
      "[]\n",
      "[]\n",
      "[]\n",
      "[]\n",
      "[]\n",
      "[]\n",
      "[]\n",
      "[]\n",
      "[]\n",
      "[]\n",
      "[]\n",
      "[]\n",
      "[]\n",
      "[]\n",
      "[]\n",
      "[]\n",
      "[]\n",
      "[]\n",
      "[]\n",
      "[]\n",
      "[]\n",
      "[]\n",
      "[]\n",
      "[]\n",
      "[]\n",
      "[]\n",
      "[]\n",
      "[]\n",
      "[]\n",
      "[]\n",
      "[]\n",
      "[]\n",
      "[]\n"
     ]
    }
   ],
   "source": [
    "tar2chem_dis = RetDrugInd(list(tar2chem['chembl_id']))"
   ]
  },
  {
   "cell_type": "code",
   "execution_count": 13,
   "id": "5d024819",
   "metadata": {},
   "outputs": [],
   "source": [
    "chemid2 = Ret_chembl_protein(tar2chem_act) + Ret_chembl_protein(tar2chem_mech)"
   ]
  },
  {
   "cell_type": "code",
   "execution_count": 14,
   "id": "184d340b",
   "metadata": {},
   "outputs": [
    {
     "name": "stdout",
     "output_type": "stream",
     "text": [
      "old 3\n",
      "newLen 3\n",
      "0\n"
     ]
    }
   ],
   "source": [
    "chem2uni = chembl2uniprot(chemid2,0)"
   ]
  },
  {
   "cell_type": "code",
   "execution_count": 99,
   "id": "3707a1e4",
   "metadata": {},
   "outputs": [
    {
     "data": {
      "text/plain": [
       "{'CHEMBL2754': [{'xref_id': 'R-HSA-1462054',\n",
       "   'xref_name': 'Alpha-defensins.',\n",
       "   'xref_src_db': 'Reactome'},\n",
       "  {'xref_id': 'R-HSA-167590',\n",
       "   'xref_name': 'Nef Mediated CD4 Down-regulation.',\n",
       "   'xref_src_db': 'Reactome'},\n",
       "  {'xref_id': 'R-HSA-173107',\n",
       "   'xref_name': 'Binding and entry of HIV virion.',\n",
       "   'xref_src_db': 'Reactome'},\n",
       "  {'xref_id': 'R-HSA-180534',\n",
       "   'xref_name': 'Vpu mediated degradation of CD4.',\n",
       "   'xref_src_db': 'Reactome'},\n",
       "  {'xref_id': 'R-HSA-202424',\n",
       "   'xref_name': 'Downstream TCR signaling.',\n",
       "   'xref_src_db': 'Reactome'},\n",
       "  {'xref_id': 'R-HSA-202427',\n",
       "   'xref_name': 'Phosphorylation of CD3 and TCR zeta chains.',\n",
       "   'xref_src_db': 'Reactome'},\n",
       "  {'xref_id': 'R-HSA-202430',\n",
       "   'xref_name': 'Translocation of ZAP-70 to Immunological synapse.',\n",
       "   'xref_src_db': 'Reactome'},\n",
       "  {'xref_id': 'R-HSA-202433',\n",
       "   'xref_name': 'Generation of second messenger molecules.',\n",
       "   'xref_src_db': 'Reactome'},\n",
       "  {'xref_id': 'R-HSA-389948',\n",
       "   'xref_name': 'PD-1 signaling.',\n",
       "   'xref_src_db': 'Reactome'},\n",
       "  {'xref_id': 'R-HSA-449836',\n",
       "   'xref_name': 'Other interleukin signaling.',\n",
       "   'xref_src_db': 'Reactome'},\n",
       "  {'xref_id': 'R-HSA-8856825',\n",
       "   'xref_name': 'Cargo recognition for clathrin-mediated endocytosis.',\n",
       "   'xref_src_db': 'Reactome'},\n",
       "  {'xref_id': 'R-HSA-8856828',\n",
       "   'xref_name': 'Clathrin-mediated endocytosis.',\n",
       "   'xref_src_db': 'Reactome'},\n",
       "  {'accession': 'P01730'},\n",
       "  {'component_synonym': 'CD4', 'syn_type': 'GENE_SYMBOL'}],\n",
       " 'CHEMBL2413': [{'xref_id': 'R-HSA-380108',\n",
       "   'xref_name': 'Chemokine receptors bind chemokines.',\n",
       "   'xref_src_db': 'Reactome'},\n",
       "  {'xref_id': 'R-HSA-418594',\n",
       "   'xref_name': 'G alpha (i) signalling events.',\n",
       "   'xref_src_db': 'Reactome'},\n",
       "  {'xref_id': 'R-HSA-6783783',\n",
       "   'xref_name': 'Interleukin-10 signaling.',\n",
       "   'xref_src_db': 'Reactome'},\n",
       "  {'accession': 'P32246'},\n",
       "  {'component_synonym': 'CCR1', 'syn_type': 'GENE_SYMBOL'}],\n",
       " 'CHEMBL3091': [{'xref_id': 'R-HSA-432722',\n",
       "   'xref_name': 'Golgi Associated Vesicle Biogenesis.',\n",
       "   'xref_src_db': 'Reactome'},\n",
       "  {'accession': 'Q99523'},\n",
       "  {'component_synonym': 'SORT1', 'syn_type': 'GENE_SYMBOL'}]}"
      ]
     },
     "execution_count": 99,
     "metadata": {},
     "output_type": "execute_result"
    }
   ],
   "source": [
    "chem2uni"
   ]
  },
  {
   "cell_type": "code",
   "execution_count": 103,
   "id": "270d24b3",
   "metadata": {},
   "outputs": [
    {
     "name": "stdout",
     "output_type": "stream",
     "text": [
      "P01730\n"
     ]
    }
   ],
   "source": [
    "protList = []\n",
    "for item in chem2uni['CHEMBL2754']:\n",
    "    #print(type(item))\n",
    "    if 'accession' in item:\n",
    "        print(item['accession'])"
   ]
  },
  {
   "cell_type": "code",
   "execution_count": 118,
   "id": "5d796286",
   "metadata": {},
   "outputs": [],
   "source": [
    "protList = []\n",
    "for key in chem2uni.keys():\n",
    "    #print(chem2uni[key])\n",
    "    for item in chem2uni[key]:\n",
    "        if 'accession' in item:\n",
    "            protList.append(item['accession'])\n",
    "            #print(item['accession'])"
   ]
  },
  {
   "cell_type": "code",
   "execution_count": 119,
   "id": "bc8cc136",
   "metadata": {},
   "outputs": [
    {
     "data": {
      "text/plain": [
       "['P01730', 'P32246', 'Q99523']"
      ]
     },
     "execution_count": 119,
     "metadata": {},
     "output_type": "execute_result"
    }
   ],
   "source": [
    "protList "
   ]
  },
  {
   "cell_type": "code",
   "execution_count": 121,
   "id": "1f4183dd",
   "metadata": {},
   "outputs": [
    {
     "name": "stdout",
     "output_type": "stream",
     "text": [
      "https://www.uniprot.org/uniprot/P01730.txt\n",
      "P01730\n",
      "https://www.uniprot.org/uniprot/P32246.txt\n",
      "P32246\n",
      "https://www.uniprot.org/uniprot/Q99523.txt\n",
      "Q99523\n"
     ]
    }
   ],
   "source": [
    "protList = ExtractFromUniProt(protList)"
   ]
  },
  {
   "cell_type": "code",
   "execution_count": 122,
   "id": "6b952b79",
   "metadata": {},
   "outputs": [
    {
     "data": {
      "text/plain": [
       "{'P01730': {'Disease': {'Immunodeficiency 79 (IMD79)': '619238'},\n",
       "  'Reactome': {'Alpha-defensins': 'R-HSA-1462054',\n",
       "   'Nef Mediated CD4 Down-regulation': 'R-HSA-167590',\n",
       "   'Binding and entry of HIV virion': 'R-HSA-173107',\n",
       "   'Vpu mediated degradation of CD4': 'R-HSA-180534',\n",
       "   'Downstream TCR signaling': 'R-HSA-202424',\n",
       "   'Phosphorylation of CD3 and TCR zeta chains': 'R-HSA-202427',\n",
       "   'Translocation of ZAP-70 to Immunological synapse': 'R-HSA-202430',\n",
       "   'Generation of second messenger molecules': 'R-HSA-202433',\n",
       "   'PD-1 signaling': 'R-HSA-389948',\n",
       "   'Other interleukin signaling': 'R-HSA-449836',\n",
       "   'Cargo recognition for clathrin-mediated endocytosis': 'R-HSA-8856825',\n",
       "   'Clathrin-mediated endocytosis': 'R-HSA-8856828'},\n",
       "  'Function': {'coreceptor activity': 'GO:0015026',\n",
       "   'enzyme binding': 'GO:0019899',\n",
       "   'extracellular matrix structural constituent': 'GO:0005201',\n",
       "   'identical protein binding': 'GO:0042802',\n",
       "   'interleukin-16 binding': 'GO:0042011'},\n",
       "  'BioProcess': {'adaptive immune response': 'GO:0002250',\n",
       "   'cell adhesion': 'GO:0007155',\n",
       "   'cell surface receptor signaling pathway': 'GO:0007166',\n",
       "   'cellular response to granulocyte macrophage colony-stimulating factor stimulus': 'GO:0097011',\n",
       "   'defense response to Gram-negative bacterium': 'GO:0050829'},\n",
       "  'Gene': 'CD4',\n",
       "  'Length': 458,\n",
       "  'Mass': 51111,\n",
       "  'Sequence': 'MNRGVPFRHLLLVLQLALLPAATQGKKVVLGKKGDTVELTCTASQKKSIQFHWKNSNQIKILGNQGSFLTKGPSKLNDRADSRRSLWDQGNFPLIIKNLKIEDSDTYICEVEDQKEEVQLLVFGLTANSDTHLLQGQSLTLTLESPPGSSPSVQCRSPRGKNIQGGKTLSVSQLELQDSGTWTCTVLQNQKKVEFKIDIVVLAFQKASSIVYKKEGEQVEFSFPLAFTVEKLTGSGELWWQAERASSSKSWITFDLKNKEVSVKRVTQDPKLQMGKKLPLHLTLPQALPQYAGSGNLTLALEAKTGKLHQEVNLVVMRATQLQKNLTCEVWGPTSPKLMLSLKLENKEAKVSKREKAVWVLNPEAGMWQCLLSDSGQVLLESNIKVLPTWSTPVQPMALIVLGGVAGLLLFIGLGIFFCVRCRHRRRQAERMSQIKRLLSEKKTCQCPHRFQKTCSPI'},\n",
       " 'P32246': {'Disease': {},\n",
       "  'Reactome': {'Chemokine receptors bind chemokines': 'R-HSA-380108',\n",
       "   'G alpha (i) signalling events': 'R-HSA-418594',\n",
       "   'Interleukin-10 signaling': 'R-HSA-6783783'},\n",
       "  'Function': {'C-C chemokine binding': 'GO:0019957',\n",
       "   'C-C chemokine receptor activity': 'GO:0016493',\n",
       "   'chemokine (C-C motif) ligand 5 binding': 'GO:0071791',\n",
       "   'chemokine (C-C motif) ligand 7 binding': 'GO:0035717',\n",
       "   'chemokine receptor activity': 'GO:0004950'},\n",
       "  'BioProcess': {'calcium ion transport': 'GO:0006816',\n",
       "   'calcium-mediated signaling': 'GO:0019722',\n",
       "   'cell adhesion': 'GO:0007155',\n",
       "   'cell chemotaxis': 'GO:0060326',\n",
       "   'cell surface receptor signaling pathway': 'GO:0007166'},\n",
       "  'Gene': 'CCR1',\n",
       "  'Length': 355,\n",
       "  'Mass': 41173,\n",
       "  'Sequence': 'METPNTTEDYDTTTEFDYGDATPCQKVNERAFGAQLLPPLYSLVFVIGLVGNILVVLVLVQYKRLKNMTSIYLLNLAISDLLFLFTLPFWIDYKLKDDWVFGDAMCKILSGFYYTGLYSEIFFIILLTIDRYLAIVHAVFALRARTVTFGVITSIIIWALAILASMPGLYFSKTQWEFTHHTCSLHFPHESLREWKLFQALKLNLFGLVLPLLVMIICYTGIIKILLRRPNEKKSKAVRLIFVIMIIFFLFWTPYNLTILISVFQDFLFTHECEQSRHLDLAVQVTEVIAYTHCCVNPVIYAFVGERFRKYLRQLFHRRVAVHLVKWLPFLSVDRLERVSSTSPSTGEHELSAGF'},\n",
       " 'Q99523': {'Disease': {},\n",
       "  'Reactome': {'Golgi Associated Vesicle Biogenesis': 'R-HSA-432722'},\n",
       "  'Function': {'enzyme binding': 'GO:0019899',\n",
       "   'nerve growth factor binding': 'GO:0048406',\n",
       "   'nerve growth factor receptor activity': 'GO:0010465',\n",
       "   'neurotensin receptor activity, non-G protein-coupled': 'GO:0030379',\n",
       "   'retromer complex binding': 'GO:1905394'},\n",
       "  'BioProcess': {'endocytosis': 'GO:0006897',\n",
       "   'endosome to lysosome transport': 'GO:0008333',\n",
       "   'endosome transport via multivesicular body sorting pathway': 'GO:0032509',\n",
       "   'extrinsic apoptotic signaling pathway via death domain receptors': 'GO:0008625',\n",
       "   'G protein-coupled receptor signaling pathway': 'GO:0007186'},\n",
       "  'Gene': 'SORT1',\n",
       "  'Length': 831,\n",
       "  'Mass': 92068,\n",
       "  'Sequence': 'MERPWGAADGLSRWPHGLGLLLLLQLLPPSTLSQDRLDAPPPPAAPLPRWSGPIGVSWGLRAAAAGGAFPRGGRWRRSAPGEDEECGRVRDFVAKLANNTHQHVFDDLRGSVSLSWVGDSTGVILVLTTFHVPLVIMTFGQSKLYRSEDYGKNFKDITDLINNTFIRTEFGMAIGPENSGKVVLTAEVSGGSRGGRIFRSSDFAKNFVQTDLPFHPLTQMMYSPQNSDYLLALSTENGLWVSKNFGGKWEEIHKAVCLAKWGSDNTIFFTTYANGSCKADLGALELWRTSDLGKSFKTIGVKIYSFGLGGRFLFASVMADKDTTRRIHVSTDQGDTWSMAQLPSVGQEQFYSILAANDDMVFMHVDEPGDTGFGTIFTSDDRGIVYSKSLDRHLYTTTGGETDFTNVTSLRGVYITSVLSEDNSIQTMITFDQGGRWTHLRKPENSECDATAKNKNECSLHIHASYSISQKLNVPMAPLSEPNAVGIVIAHGSVGDAISVMVPDVYISDDGGYSWTKMLEGPHYYTILDSGGIIVAIEHSSRPINVIKFSTDEGQCWQTYTFTRDPIYFTGLASEPGARSMNISIWGFTESFLTSQWVSYTIDFKDILERNCEEKDYTIWLAHSTDPEDYEDGCILGYKEQFLRLRKSSVCQNGRDYVVTKQPSICLCSLEDFLCDFGYYRPENDSKCVEQPELKGHDLEFCLYGREEHLTTNGYRKIPGDKCQGGVNPVREVKDLKKKCTSNFLSPEKQNSKSNSVPIILAIVGLMLVTVVAGVLIVKKYVCGGRFLVHRYSVLQQHAEANGVDGVDALDTASHTNKSGYHDDSDEDLLE'}}"
      ]
     },
     "execution_count": 122,
     "metadata": {},
     "output_type": "execute_result"
    }
   ],
   "source": [
    "protList"
   ]
  },
  {
   "cell_type": "code",
   "execution_count": 98,
   "id": "87df1615",
   "metadata": {},
   "outputs": [
    {
     "data": {
      "text/plain": [
       "True"
      ]
     },
     "execution_count": 98,
     "metadata": {},
     "output_type": "execute_result"
    }
   ],
   "source": [
    "'accession' in chem2uni['CHEMBL2754']"
   ]
  },
  {
   "cell_type": "code",
   "execution_count": 47,
   "id": "e8d2da86",
   "metadata": {},
   "outputs": [
    {
     "data": {
      "text/plain": [
       "False"
      ]
     },
     "execution_count": 47,
     "metadata": {},
     "output_type": "execute_result"
    }
   ],
   "source": [
    "'accession' in chem2uni['CHEMBL2754']"
   ]
  },
  {
   "cell_type": "code",
   "execution_count": 16,
   "id": "7f950b6b",
   "metadata": {},
   "outputs": [],
   "source": [
    "pchem_act_new= chembl2gene2path(chem2uni,tar2chem_act)"
   ]
  },
  {
   "cell_type": "code",
   "execution_count": 18,
   "id": "07950570",
   "metadata": {},
   "outputs": [
    {
     "data": {
      "text/plain": [
       "{'CHEMBL506605': [{'assay_chembl_id': 'CHEMBL655882',\n",
       "   'assay_type': 'B',\n",
       "   'bao_label': 'single protein format',\n",
       "   'pchembl_value': '6.89',\n",
       "   'target_chembl_id': 'CHEMBL2754',\n",
       "   'target_organism': 'Homo sapiens',\n",
       "   'type': 'IC50',\n",
       "   'value': '0.13',\n",
       "   'Protein': 'CD4'}],\n",
       " 'CHEMBL525803': [{'assay_chembl_id': 'CHEMBL655882',\n",
       "   'assay_type': 'B',\n",
       "   'bao_label': 'single protein format',\n",
       "   'pchembl_value': '6.89',\n",
       "   'target_chembl_id': 'CHEMBL2754',\n",
       "   'target_organism': 'Homo sapiens',\n",
       "   'type': 'IC50',\n",
       "   'value': '0.13',\n",
       "   'Protein': 'CD4'}],\n",
       " 'CHEMBL3143464': [{'assay_chembl_id': 'CHEMBL655882',\n",
       "   'assay_type': 'B',\n",
       "   'bao_label': 'single protein format',\n",
       "   'pchembl_value': '6.89',\n",
       "   'target_chembl_id': 'CHEMBL2754',\n",
       "   'target_organism': 'Homo sapiens',\n",
       "   'type': 'IC50',\n",
       "   'value': '0.13',\n",
       "   'Protein': 'CD4'}],\n",
       " 'CHEMBL3138345': [{'assay_chembl_id': 'CHEMBL659225',\n",
       "   'assay_type': 'F',\n",
       "   'bao_label': 'cell-based format',\n",
       "   'pchembl_value': '6.30',\n",
       "   'target_chembl_id': 'CHEMBL614548',\n",
       "   'target_organism': 'Homo sapiens',\n",
       "   'type': 'EC50',\n",
       "   'value': '0.5'},\n",
       "  {'assay_chembl_id': 'CHEMBL659282',\n",
       "   'assay_type': 'F',\n",
       "   'bao_label': 'cell-based format',\n",
       "   'pchembl_value': '6.26',\n",
       "   'target_chembl_id': 'CHEMBL614548',\n",
       "   'target_organism': 'Homo sapiens',\n",
       "   'type': 'EC50',\n",
       "   'value': '0.55'},\n",
       "  {'assay_chembl_id': 'CHEMBL653198',\n",
       "   'assay_type': 'F',\n",
       "   'bao_label': 'cell-based format',\n",
       "   'pchembl_value': '6.30',\n",
       "   'target_chembl_id': 'CHEMBL614548',\n",
       "   'target_organism': 'Homo sapiens',\n",
       "   'type': 'EC50',\n",
       "   'value': '0.5'}],\n",
       " 'CHEMBL3138187': [{'assay_chembl_id': 'CHEMBL651917',\n",
       "   'assay_type': 'F',\n",
       "   'bao_label': 'assay format',\n",
       "   'pchembl_value': '6.58',\n",
       "   'target_chembl_id': 'CHEMBL2413',\n",
       "   'target_organism': 'Homo sapiens',\n",
       "   'type': 'IC50',\n",
       "   'value': '0.26',\n",
       "   'Protein': 'CCR1'}],\n",
       " 'CHEMBL1852155': [{'assay_chembl_id': 'CHEMBL4629041',\n",
       "   'assay_type': 'B',\n",
       "   'bao_label': 'cell-based format',\n",
       "   'pchembl_value': '6.42',\n",
       "   'target_chembl_id': 'CHEMBL3091',\n",
       "   'target_organism': 'Homo sapiens',\n",
       "   'type': 'IC50',\n",
       "   'value': '0.38',\n",
       "   'Protein': 'SORT1'},\n",
       "  {'assay_chembl_id': 'CHEMBL4629040',\n",
       "   'assay_type': 'B',\n",
       "   'bao_label': 'cell-based format',\n",
       "   'pchembl_value': '6.68',\n",
       "   'target_chembl_id': 'CHEMBL2754',\n",
       "   'target_organism': 'Homo sapiens',\n",
       "   'type': 'IC50',\n",
       "   'value': '0.21',\n",
       "   'Protein': 'CD4'}],\n",
       " 'CHEMBL1819181': [{'assay_chembl_id': 'CHEMBL4677392',\n",
       "   'assay_type': 'B',\n",
       "   'bao_label': 'cell-based format',\n",
       "   'pchembl_value': '6.48',\n",
       "   'target_chembl_id': 'CHEMBL2754',\n",
       "   'target_organism': 'Homo sapiens',\n",
       "   'type': 'IC50',\n",
       "   'value': '0.33',\n",
       "   'Protein': 'CD4'}],\n",
       " 'CHEMBL4755141': [{'assay_chembl_id': 'CHEMBL4677392',\n",
       "   'assay_type': 'B',\n",
       "   'bao_label': 'cell-based format',\n",
       "   'pchembl_value': '6.07',\n",
       "   'target_chembl_id': 'CHEMBL2754',\n",
       "   'target_organism': 'Homo sapiens',\n",
       "   'type': 'IC50',\n",
       "   'value': '0.86',\n",
       "   'Protein': 'CD4'}],\n",
       " 'CHEMBL4783761': [{'assay_chembl_id': 'CHEMBL4677392',\n",
       "   'assay_type': 'B',\n",
       "   'bao_label': 'cell-based format',\n",
       "   'pchembl_value': '6.02',\n",
       "   'target_chembl_id': 'CHEMBL2754',\n",
       "   'target_organism': 'Homo sapiens',\n",
       "   'type': 'IC50',\n",
       "   'value': '0.95',\n",
       "   'Protein': 'CD4'}],\n",
       " 'CHEMBL4746252': [{'assay_chembl_id': 'CHEMBL4677392',\n",
       "   'assay_type': 'B',\n",
       "   'bao_label': 'cell-based format',\n",
       "   'pchembl_value': '6.38',\n",
       "   'target_chembl_id': 'CHEMBL2754',\n",
       "   'target_organism': 'Homo sapiens',\n",
       "   'type': 'IC50',\n",
       "   'value': '0.42',\n",
       "   'Protein': 'CD4'}],\n",
       " 'CHEMBL4747494': [{'assay_chembl_id': 'CHEMBL4677392',\n",
       "   'assay_type': 'B',\n",
       "   'bao_label': 'cell-based format',\n",
       "   'pchembl_value': '6.89',\n",
       "   'target_chembl_id': 'CHEMBL2754',\n",
       "   'target_organism': 'Homo sapiens',\n",
       "   'type': 'IC50',\n",
       "   'value': '0.13',\n",
       "   'Protein': 'CD4'}],\n",
       " 'CHEMBL4758659': [{'assay_chembl_id': 'CHEMBL4677392',\n",
       "   'assay_type': 'B',\n",
       "   'bao_label': 'cell-based format',\n",
       "   'pchembl_value': '6.08',\n",
       "   'target_chembl_id': 'CHEMBL2754',\n",
       "   'target_organism': 'Homo sapiens',\n",
       "   'type': 'IC50',\n",
       "   'value': '0.83',\n",
       "   'Protein': 'CD4'}],\n",
       " 'CHEMBL4750983': [{'assay_chembl_id': 'CHEMBL4677392',\n",
       "   'assay_type': 'B',\n",
       "   'bao_label': 'cell-based format',\n",
       "   'pchembl_value': '6.27',\n",
       "   'target_chembl_id': 'CHEMBL2754',\n",
       "   'target_organism': 'Homo sapiens',\n",
       "   'type': 'IC50',\n",
       "   'value': '0.54',\n",
       "   'Protein': 'CD4'}],\n",
       " 'CHEMBL4786809': [{'assay_chembl_id': 'CHEMBL4677392',\n",
       "   'assay_type': 'B',\n",
       "   'bao_label': 'cell-based format',\n",
       "   'pchembl_value': '6.18',\n",
       "   'target_chembl_id': 'CHEMBL2754',\n",
       "   'target_organism': 'Homo sapiens',\n",
       "   'type': 'IC50',\n",
       "   'value': '0.66',\n",
       "   'Protein': 'CD4'}],\n",
       " 'CHEMBL4748787': [{'assay_chembl_id': 'CHEMBL4677392',\n",
       "   'assay_type': 'B',\n",
       "   'bao_label': 'cell-based format',\n",
       "   'pchembl_value': '6.13',\n",
       "   'target_chembl_id': 'CHEMBL2754',\n",
       "   'target_organism': 'Homo sapiens',\n",
       "   'type': 'IC50',\n",
       "   'value': '0.74',\n",
       "   'Protein': 'CD4'}],\n",
       " 'CHEMBL4791666': [{'assay_chembl_id': 'CHEMBL4677392',\n",
       "   'assay_type': 'B',\n",
       "   'bao_label': 'cell-based format',\n",
       "   'pchembl_value': '6.66',\n",
       "   'target_chembl_id': 'CHEMBL2754',\n",
       "   'target_organism': 'Homo sapiens',\n",
       "   'type': 'IC50',\n",
       "   'value': '0.22',\n",
       "   'Protein': 'CD4'}]}"
      ]
     },
     "execution_count": 18,
     "metadata": {},
     "output_type": "execute_result"
    }
   ],
   "source": [
    "pchem_act_new"
   ]
  },
  {
   "cell_type": "code",
   "execution_count": 19,
   "id": "7a597958",
   "metadata": {},
   "outputs": [
    {
     "ename": "NameError",
     "evalue": "name 'mpox_graph' is not defined",
     "output_type": "error",
     "traceback": [
      "\u001b[1;31m---------------------------------------------------------------------------\u001b[0m",
      "\u001b[1;31mNameError\u001b[0m                                 Traceback (most recent call last)",
      "Input \u001b[1;32mIn [19]\u001b[0m, in \u001b[0;36m<cell line: 3>\u001b[1;34m()\u001b[0m\n\u001b[0;32m      1\u001b[0m \u001b[38;5;66;03m#mpox_graph = chem2moa_rel_2(pchem_mech,mpox_graph)\u001b[39;00m\n\u001b[0;32m      2\u001b[0m \u001b[38;5;66;03m#mpox_graph = chem2dis_rel(pchem_dis,mpox_graph)\u001b[39;00m\n\u001b[1;32m----> 3\u001b[0m mpox_graph \u001b[38;5;241m=\u001b[39m chem2act_rel_2(pchem_act_new,\u001b[43mmpox_graph\u001b[49m)\n\u001b[0;32m      4\u001b[0m mpox_graph \u001b[38;5;241m=\u001b[39m chem2gene2path_rel(chem2uni,mpox_graph)\n\u001b[0;32m      5\u001b[0m to_jupyter(mpox_graph)\n",
      "\u001b[1;31mNameError\u001b[0m: name 'mpox_graph' is not defined"
     ]
    }
   ],
   "source": [
    "#mpox_graph = chem2moa_rel_2(pchem_mech,mpox_graph)\n",
    "#mpox_graph = chem2dis_rel(pchem_dis,mpox_graph)\n",
    "mpox_graph = chem2act_rel_2(pchem_act_new,mpox_graph)\n",
    "mpox_graph = chem2gene2path_rel(chem2uni,mpox_graph)\n",
    "to_jupyter(mpox_graph)"
   ]
  },
  {
   "cell_type": "code",
   "execution_count": null,
   "id": "79e7ca7a",
   "metadata": {},
   "outputs": [],
   "source": [
    "# Get target information from ChEMBL but restrict it to specified values only\n",
    "\n",
    "#uniprot_id = \"P01562\"\n",
    "targets = targets_api.get(target_components__accession=\"Q14653\").only(\n",
    "    \"target_chembl_id\", \"organism\", \"pref_name\", \"target_type\"\n",
    ")\n",
    "\n",
    "targets[0]"
   ]
  },
  {
   "cell_type": "code",
   "execution_count": null,
   "id": "70408ba3",
   "metadata": {},
   "outputs": [],
   "source": [
    "mpox_prot2chembl = []\n",
    "for item in mpox_prot:\n",
    "    targets = targets_api.get(target_components__accession=item).only(\n",
    "    \"target_chembl_id\", \"organism\", \"pref_name\", \"target_type\")\n",
    "    mpox_prot2chembl.append(targets[0])"
   ]
  },
  {
   "cell_type": "code",
   "execution_count": null,
   "id": "e0ae301b",
   "metadata": {},
   "outputs": [],
   "source": [
    "mpox_prot2chembl"
   ]
  },
  {
   "cell_type": "code",
   "execution_count": null,
   "id": "616ac559",
   "metadata": {},
   "outputs": [],
   "source": [
    "named_mpox_prot2chembl = dict(zip(mpox_prot,mpox_prot2chembl))"
   ]
  },
  {
   "cell_type": "code",
   "execution_count": null,
   "id": "7c432bb8",
   "metadata": {},
   "outputs": [],
   "source": [
    "named_mpox_prot2chembl = {k: v for k, v in named_mpox_prot2chembl.items() if v}"
   ]
  },
  {
   "cell_type": "code",
   "execution_count": null,
   "id": "3be9ab89",
   "metadata": {},
   "outputs": [],
   "source": [
    "named_mpox_prot2chembl"
   ]
  },
  {
   "cell_type": "code",
   "execution_count": null,
   "id": "a7ff2eea",
   "metadata": {},
   "outputs": [],
   "source": [
    "getchem = []\n",
    "for item in named_mpox_prot2chembl:\n",
    "    getchem.append(named_mpox_prot2chembl[item]['target_chembl_id'])\n",
    "getchem"
   ]
  },
  {
   "cell_type": "code",
   "execution_count": null,
   "id": "304d9515",
   "metadata": {},
   "outputs": [],
   "source": [
    "RetAct(getchem,0)"
   ]
  },
  {
   "cell_type": "code",
   "execution_count": null,
   "id": "975e24dd",
   "metadata": {},
   "outputs": [],
   "source": [
    "bioactivities = bioactivities_api.filter(\n",
    "    target_chembl_id='CHEMBL3713007', type=\"IC50\", relation=\"=\", assay_type=\"B|F\"\n",
    ").only(\n",
    "    \"activity_id\",\n",
    "    \"assay_chembl_id\",\n",
    "    \"assay_description\",\n",
    "    \"assay_type\",\n",
    "    \"molecule_chembl_id\",\n",
    "    \"type\",\n",
    "    \"standard_units\",\n",
    "    \"relation\",\n",
    "    \"standard_value\",\n",
    "    \"target_chembl_id\",\n",
    "    \"target_organism\",\n",
    ")"
   ]
  },
  {
   "cell_type": "code",
   "execution_count": null,
   "id": "9f336367",
   "metadata": {},
   "outputs": [],
   "source": [
    "bioactivities"
   ]
  },
  {
   "cell_type": "code",
   "execution_count": null,
   "id": "f8a5f128",
   "metadata": {},
   "outputs": [],
   "source": [
    "test = chembl2uniprot(getchem,0)"
   ]
  },
  {
   "cell_type": "markdown",
   "id": "7f01ce9c",
   "metadata": {},
   "source": [
    "# Philip\n"
   ]
  },
  {
   "cell_type": "code",
   "execution_count": null,
   "id": "4308d892",
   "metadata": {},
   "outputs": [],
   "source": [
    "chem = ['58-74-2','486-47-5','14009-24-6']"
   ]
  },
  {
   "cell_type": "code",
   "execution_count": null,
   "id": "08914251",
   "metadata": {},
   "outputs": [],
   "source": [
    "def cas2cid(cas):\n",
    "    cid_clean = []\n",
    "    #cid = [pcp.get_compounds(id,'name') for id in cas]\n",
    "    for id in cas:\n",
    "        print(id)\n",
    "        #retrieves cid for given cas \n",
    "        cid = pcp.get_compounds(id,'name')\n",
    "        print(cid)\n",
    "        #strip unwanted strings to get cid \n",
    "        filter_cid = re.findall('\\((.+?)\\)',str(cid))\n",
    "        #print(filter_cid[0])\n",
    "        if len(filter_cid) > 0:\n",
    "            cid_clean.append(filter_cid[0])\n",
    "        else:\n",
    "            cid_clean.append('None')\n",
    "\n",
    "    return(cid_clean)"
   ]
  },
  {
   "cell_type": "code",
   "execution_count": null,
   "id": "8375449f",
   "metadata": {},
   "outputs": [],
   "source": [
    "chem2cid = cas2cid(chem)\n"
   ]
  },
  {
   "cell_type": "code",
   "execution_count": null,
   "id": "009830a5",
   "metadata": {},
   "outputs": [],
   "source": [
    "chem2cid"
   ]
  },
  {
   "cell_type": "code",
   "execution_count": null,
   "id": "b91c6e06",
   "metadata": {},
   "outputs": [],
   "source": [
    "\n",
    "cid2chembl_dict = []\n",
    "i=0\n",
    "for id in chem2cid:\n",
    "    #if id != 'None':\n",
    "    print(id)\n",
    "    GetChembl = {}\n",
    "    c=pcp.Compound.from_cid(id)\n",
    "    print(\"working with:\"+id)\n",
    "    syn = c.synonyms\n",
    "    for s in syn:\n",
    "\n",
    "        if s.startswith('SCHEMBL'):\n",
    "            GetChembl['SCHEMBL'] = s\n",
    "        if s.startswith('CHEMBL'):\n",
    "            GetChembl['CHEMBL'] = s\n",
    "            \n",
    "    i=i+1\n",
    "    print(i)\n",
    "\n",
    "    cid2chembl_dict.append(GetChembl)\n",
    "        "
   ]
  },
  {
   "cell_type": "code",
   "execution_count": null,
   "id": "f5fe5b33",
   "metadata": {},
   "outputs": [],
   "source": [
    "cid2chembl_dict"
   ]
  },
  {
   "cell_type": "code",
   "execution_count": null,
   "id": "a56c8580",
   "metadata": {},
   "outputs": [],
   "source": []
  },
  {
   "cell_type": "code",
   "execution_count": null,
   "id": "a69a80a4",
   "metadata": {},
   "outputs": [],
   "source": [
    "cid2chembl_dict = dict(zip(list(chem2cid), cid2chembl_dict))\n",
    "cid2chembl_dict"
   ]
  },
  {
   "cell_type": "code",
   "execution_count": null,
   "id": "44e5e005",
   "metadata": {},
   "outputs": [],
   "source": [
    "cid_prop = []\n",
    "i=0\n",
    "for id in chem2cid:\n",
    "    propOfInt = ['canonical_smiles','exact_mass','h_bond_acceptor_count','h_bond_donor_count','xlogp','rotatable_bond_count',\n",
    "            'tpsa','heavy_atom_count','inchi','inchikey','isomeric_smiles','molecular_formula','molecular_weight']\n",
    "    c = pcp.Compound.from_cid(id)\n",
    "    i+=1\n",
    "    print(i)\n",
    "    c = c.to_dict(properties=propOfInt)\n",
    "    cid_prop.append(c)"
   ]
  },
  {
   "cell_type": "code",
   "execution_count": null,
   "id": "b3813868",
   "metadata": {},
   "outputs": [],
   "source": [
    "cid_prop"
   ]
  },
  {
   "cell_type": "code",
   "execution_count": null,
   "id": "b34a8a3f",
   "metadata": {},
   "outputs": [],
   "source": [
    "for k in cid2chembl_dict:\n",
    "     cid2chembl_dict[k].update(cid_prop.get(k, {}))"
   ]
  },
  {
   "cell_type": "code",
   "execution_count": null,
   "id": "f5a5d7d2",
   "metadata": {},
   "outputs": [],
   "source": [
    "chembl = ['CHEMBL19224','CHEMBL1555736','CHEMBL551978']"
   ]
  },
  {
   "cell_type": "code",
   "execution_count": null,
   "id": "cf2386f9",
   "metadata": {},
   "outputs": [],
   "source": [
    "getAct = RetAct(chembl,0)"
   ]
  },
  {
   "cell_type": "code",
   "execution_count": null,
   "id": "dd39b107",
   "metadata": {},
   "outputs": [],
   "source": [
    "getMech = RetMech(chembl)"
   ]
  },
  {
   "cell_type": "code",
   "execution_count": null,
   "id": "8dc0bab5",
   "metadata": {},
   "outputs": [],
   "source": [
    "getDis = RetDrugInd(chembl)"
   ]
  },
  {
   "cell_type": "code",
   "execution_count": null,
   "id": "b75dc405",
   "metadata": {},
   "outputs": [],
   "source": [
    "chemid2 = Ret_chembl_protein(getAct) + Ret_chembl_protein(getMech)"
   ]
  },
  {
   "cell_type": "code",
   "execution_count": null,
   "id": "1e83ed94",
   "metadata": {},
   "outputs": [],
   "source": [
    "chemid2"
   ]
  },
  {
   "cell_type": "code",
   "execution_count": null,
   "id": "2733f75e",
   "metadata": {},
   "outputs": [],
   "source": [
    "chem2uni = chembl2uniprot(chemid2,0)"
   ]
  },
  {
   "cell_type": "code",
   "execution_count": null,
   "id": "8847dd4f",
   "metadata": {},
   "outputs": [],
   "source": [
    "pchem_act_new= chembl2gene2path(chem2uni,getAct)"
   ]
  },
  {
   "cell_type": "code",
   "execution_count": null,
   "id": "2ae3d03f",
   "metadata": {},
   "outputs": [],
   "source": [
    "pchem_act_new"
   ]
  },
  {
   "cell_type": "code",
   "execution_count": null,
   "id": "1b1cd733",
   "metadata": {},
   "outputs": [],
   "source": [
    "mpox_graph = pybel.BELGraph(name='Test Graph')"
   ]
  },
  {
   "cell_type": "code",
   "execution_count": null,
   "id": "7794385b",
   "metadata": {},
   "outputs": [],
   "source": [
    "mpox_graph = chem2moa_rel_2(getMech,mpox_graph)\n",
    "mpox_graph = chem2dis_rel(getDis,mpox_graph)\n",
    "mpox_graph = chem2act_rel_2(pchem_act_new,mpox_graph)\n",
    "mpox_graph = chem2gene2path_rel(chem2uni,mpox_graph)\n",
    "to_jupyter(mpox_graph)"
   ]
  }
 ],
 "metadata": {
  "kernelspec": {
   "display_name": "Python 3 (ipykernel)",
   "language": "python",
   "name": "python3"
  },
  "language_info": {
   "codemirror_mode": {
    "name": "ipython",
    "version": 3
   },
   "file_extension": ".py",
   "mimetype": "text/x-python",
   "name": "python",
   "nbconvert_exporter": "python",
   "pygments_lexer": "ipython3",
   "version": "3.10.4"
  }
 },
 "nbformat": 4,
 "nbformat_minor": 5
}
