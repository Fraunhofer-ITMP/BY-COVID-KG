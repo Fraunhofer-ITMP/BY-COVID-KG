{
 "cells": [
  {
   "cell_type": "code",
   "execution_count": 7,
   "id": "faa7efb5",
   "metadata": {},
   "outputs": [],
   "source": [
    "import pybel\n",
    "from pybel.io.jupyter import to_jupyter\n",
    "from utils import *\n",
    "import seaborn as sns"
   ]
  },
  {
   "cell_type": "code",
   "execution_count": 2,
   "id": "6b327410",
   "metadata": {},
   "outputs": [],
   "source": [
    "itmp_chem = pd.read_csv('C:\\\\Users\\\\reagon.karki\\\\Documents\\\\ITMP\\\\EOSC Future\\\\ITMP ChEMBL data\\\\CHEMBL4495564.csv',sep=';',usecols=['ChEMBL ID'])"
   ]
  },
  {
   "cell_type": "code",
   "execution_count": 3,
   "id": "cfc7793f",
   "metadata": {},
   "outputs": [],
   "source": [
    "itmp_chem = list(itmp_chem['ChEMBL ID'])"
   ]
  },
  {
   "cell_type": "code",
   "execution_count": null,
   "id": "de9ca28f",
   "metadata": {},
   "outputs": [],
   "source": [
    "len(itmp_chem)"
   ]
  },
  {
   "cell_type": "code",
   "execution_count": null,
   "id": "6b0c3d74",
   "metadata": {},
   "outputs": [],
   "source": [
    "itmp_dis = RetDrugInd(itmp_chem)"
   ]
  },
  {
   "cell_type": "code",
   "execution_count": null,
   "id": "8fdab82a",
   "metadata": {},
   "outputs": [],
   "source": [
    "# filename = ('data/normalized_data/bycovid_Aug.pkl')\n",
    "# outfile = open(filename,'wb')\n",
    "# pickle.dump(itmp_dis,outfile)"
   ]
  },
  {
   "cell_type": "code",
   "execution_count": null,
   "id": "9f113052",
   "metadata": {},
   "outputs": [],
   "source": [
    "itmp_dis = RetMech(itmp_chem)"
   ]
  },
  {
   "cell_type": "code",
   "execution_count": null,
   "id": "448f3551",
   "metadata": {},
   "outputs": [],
   "source": [
    "# filename = ('data/normalized_data/bycovid_itmpMech_Aug.pkl')\n",
    "# outfile = open(filename,'wb')\n",
    "# pickle.dump(itmp_dis,outfile)"
   ]
  },
  {
   "cell_type": "code",
   "execution_count": null,
   "id": "e3677996",
   "metadata": {},
   "outputs": [],
   "source": [
    "itmp_act = RetAct(itmp_chem)"
   ]
  },
  {
   "cell_type": "code",
   "execution_count": null,
   "id": "22838552",
   "metadata": {},
   "outputs": [],
   "source": [
    "len(itmp_act)"
   ]
  },
  {
   "cell_type": "code",
   "execution_count": null,
   "id": "11f4b7f1",
   "metadata": {},
   "outputs": [],
   "source": [
    "# filename = ('data/normalized_data/bycovid_itmpAct_Aug.pkl')\n",
    "# outfile = open(filename,'wb')\n",
    "# pickle.dump(itmp_act,outfile)"
   ]
  },
  {
   "cell_type": "code",
   "execution_count": 13,
   "id": "4835429b",
   "metadata": {},
   "outputs": [],
   "source": [
    "infile = open('data/normalized_data/bycovid_itmpMech_Aug.pkl','rb')\n",
    "itmp_mech = pickle.load(infile)\n",
    "infile.close()"
   ]
  },
  {
   "cell_type": "code",
   "execution_count": 14,
   "id": "24c359dd",
   "metadata": {},
   "outputs": [],
   "source": [
    "infile = open('data/normalized_data/bycovid_Aug.pkl','rb')\n",
    "itmp_dis = pickle.load(infile)\n",
    "infile.close()"
   ]
  },
  {
   "cell_type": "code",
   "execution_count": 15,
   "id": "e1efd720",
   "metadata": {},
   "outputs": [],
   "source": [
    "infile = open('data/normalized_data/bycovid_itmpAct_Aug.pkl','rb')\n",
    "itmp_act = pickle.load(infile)\n",
    "infile.close()"
   ]
  },
  {
   "cell_type": "code",
   "execution_count": 16,
   "id": "4a12ad1f",
   "metadata": {},
   "outputs": [],
   "source": [
    "prot_actMech = Ret_chembl_protein(itmp_act) + Ret_chembl_protein(itmp_mech)\n",
    "prot_actMech = set(prot_actMech)\n",
    "prot_actMech = list(prot_actMech)"
   ]
  },
  {
   "cell_type": "code",
   "execution_count": 17,
   "id": "b1117409",
   "metadata": {},
   "outputs": [
    {
     "name": "stderr",
     "output_type": "stream",
     "text": [
      "Filtering UniProt proteins from ChEMBL: 100%|██████████| 1470/1470 [00:04<00:00, 314.25it/s]\n",
      "Filtering human proteins from ChEMBL: 100%|██████████| 1436/1436 [00:04<00:00, 322.61it/s]\n",
      "Populating ChEMBL data for human proteins: 100%|██████████| 1419/1419 [00:04<00:00, 323.49it/s]\n"
     ]
    }
   ],
   "source": [
    "actMech2uprot = chembl2uniprot(prot_actMech)"
   ]
  },
  {
   "cell_type": "code",
   "execution_count": 18,
   "id": "58ab1a12",
   "metadata": {},
   "outputs": [],
   "source": [
    "uprot = Ret_uprotid(actMech2uprot)"
   ]
  },
  {
   "cell_type": "code",
   "execution_count": 19,
   "id": "47c8a207",
   "metadata": {},
   "outputs": [
    {
     "name": "stderr",
     "output_type": "stream",
     "text": [
      "reading uprot ids: 100%|██████████| 1419/1419 [05:09<00:00,  4.59it/s]\n"
     ]
    }
   ],
   "source": [
    "uprot_ext = ExtractFromUniProt(uprot)"
   ]
  },
  {
   "cell_type": "code",
   "execution_count": 20,
   "id": "4234aa92",
   "metadata": {},
   "outputs": [],
   "source": [
    "# filename = ('data/normalized_data/bycovid_uprotExt_Aug.pkl')\n",
    "# outfile = open(filename,'wb')\n",
    "# pickle.dump(uprot_ext,outfile)"
   ]
  },
  {
   "cell_type": "code",
   "execution_count": null,
   "id": "bc2ec5ed",
   "metadata": {},
   "outputs": [],
   "source": [
    "infile = open('data/normalized_data/bycovid_uprotExt_Aug.pkl','rb')\n",
    "uprot_ext = pickle.load(infile)\n",
    "infile.close()"
   ]
  },
  {
   "cell_type": "code",
   "execution_count": null,
   "id": "7e70a959",
   "metadata": {},
   "outputs": [],
   "source": [
    "itmp_act"
   ]
  },
  {
   "cell_type": "code",
   "execution_count": 21,
   "id": "946b4744",
   "metadata": {},
   "outputs": [],
   "source": [
    "itmp_act = chembl2gene2path(actMech2uprot,itmp_act)\n",
    "itmp_mech = chembl2gene2path(actMech2uprot,itmp_mech)"
   ]
  },
  {
   "cell_type": "code",
   "execution_count": 22,
   "id": "2b9cb155",
   "metadata": {},
   "outputs": [],
   "source": [
    "itmp_graph = pybel.BELGraph(name='ITMP Graph', version=\"0.0.1\")"
   ]
  },
  {
   "cell_type": "code",
   "execution_count": 23,
   "id": "f78da6ea",
   "metadata": {},
   "outputs": [
    {
     "name": "stderr",
     "output_type": "stream",
     "text": [
      "Populating Chemical-MoA edges: 100%|██████████| 1787/1787 [00:00<00:00, 2317.76it/s]\n",
      "Populating Drug-Indication edges: 100%|██████████| 2451/2451 [00:04<00:00, 581.19it/s]\n",
      "Adding bioassay edges to BEL: 100%|██████████| 2494/2494 [00:09<00:00, 274.65it/s]\n"
     ]
    }
   ],
   "source": [
    "itmp_graph = chem2moa_rel(itmp_mech,'HGNC',itmp_graph)\n",
    "itmp_graph = chem2dis_rel(itmp_dis,itmp_graph)\n",
    "itmp_graph = chem2act_rel(itmp_act,'HGNC',itmp_graph)\n",
    "itmp_graph = gene2path_rel(actMech2uprot,'HGNC',itmp_graph)\n",
    "itmp_graph = uniprot_rel(uprot_ext,'HGNC',itmp_graph)"
   ]
  },
  {
   "cell_type": "code",
   "execution_count": 52,
   "id": "0cfd504a",
   "metadata": {},
   "outputs": [],
   "source": [
    "#Extract chembl ids from graph\n",
    "chembls = getNodeList('ChEMBL',itmp_graph)"
   ]
  },
  {
   "cell_type": "code",
   "execution_count": 54,
   "id": "7d99982e",
   "metadata": {},
   "outputs": [],
   "source": [
    "#add relation: chembl to side effects from opentargets platform\n",
    "itmp_graph = chembl2rxn_rel(ChEMBLids,itmp_graph)"
   ]
  },
  {
   "cell_type": "code",
   "execution_count": 58,
   "id": "cfd91368",
   "metadata": {},
   "outputs": [],
   "source": [
    "# filename = ('data/normalized_data/bycovid_itmpGraph.pkl')\n",
    "# outfile = open(filename,'wb')\n",
    "# pickle.dump(itmp_graph,outfile)"
   ]
  },
  {
   "cell_type": "code",
   "execution_count": null,
   "id": "a1dddfb2",
   "metadata": {},
   "outputs": [],
   "source": [
    "infile = open('data/normalized_data/bycovid_itmpGraph.pkl','rb')\n",
    "itmp_graph = pickle.load(infile)\n",
    "infile.close()"
   ]
  },
  {
   "cell_type": "code",
   "execution_count": 55,
   "id": "68ae19ce",
   "metadata": {},
   "outputs": [
    {
     "data": {
      "text/html": [
       "            <h2>Metadata</h2>\n",
       "            <table>\n",
       "<tbody>\n",
       "<tr><td>Name   </td><td>ITMP Graph</td></tr>\n",
       "<tr><td>Version</td><td>0.0.1     </td></tr>\n",
       "</tbody>\n",
       "</table>\n",
       "            <h2>Statistics</h2>\n",
       "            <table>\n",
       "<tbody>\n",
       "<tr><td>Nodes          </td><td style=\"text-align: right;\"> 35952       </td></tr>\n",
       "<tr><td>Namespaces     </td><td style=\"text-align: right;\">     9       </td></tr>\n",
       "<tr><td>Edges          </td><td style=\"text-align: right;\">279462       </td></tr>\n",
       "<tr><td>Annotations    </td><td style=\"text-align: right;\">     0       </td></tr>\n",
       "<tr><td>Citations      </td><td style=\"text-align: right;\">     3       </td></tr>\n",
       "<tr><td>Authors        </td><td style=\"text-align: right;\">     0       </td></tr>\n",
       "<tr><td>Components     </td><td style=\"text-align: right;\">     1       </td></tr>\n",
       "<tr><td>Warnings       </td><td style=\"text-align: right;\">     0       </td></tr>\n",
       "<tr><td>Network Density</td><td style=\"text-align: right;\">     0.000216</td></tr>\n",
       "</tbody>\n",
       "</table>\n",
       "            <h2>Nodes</h2>\n",
       "            <table>\n",
       "<thead>\n",
       "<tr><th>Type             </th><th style=\"text-align: right;\">  Count</th><th>Example                       </th></tr>\n",
       "</thead>\n",
       "<tbody>\n",
       "<tr><td>Abundance        </td><td style=\"text-align: right;\">  19931</td><td>a(ChEMBLAssay:CHEMBL4341379)  </td></tr>\n",
       "<tr><td>Pathology        </td><td style=\"text-align: right;\">   9005</td><td>path(SideEffect:paraesthesia) </td></tr>\n",
       "<tr><td>BiologicalProcess</td><td style=\"text-align: right;\">   5669</td><td>bp(GOBP:&quot;apical constriction&quot;)</td></tr>\n",
       "<tr><td>Protein          </td><td style=\"text-align: right;\">   1347</td><td>p(HGNC:CCR9)                  </td></tr>\n",
       "</tbody>\n",
       "</table>\n",
       "            <h2>Namespaces</h2>\n",
       "            <table>\n",
       "<thead>\n",
       "<tr><th>Prefix     </th><th>Name                            </th><th style=\"text-align: right;\">  Count</th><th>Example                                                      </th></tr>\n",
       "</thead>\n",
       "<tbody>\n",
       "<tr><td>ChEMBLAssay</td><td>                                </td><td style=\"text-align: right;\">  15835</td><td>a(ChEMBLAssay:CHEMBL960125)                                  </td></tr>\n",
       "<tr><td>SideEffect </td><td>                                </td><td style=\"text-align: right;\">   7420</td><td>path(SideEffect:&quot;soft tissue haemorrhage&quot;)                   </td></tr>\n",
       "<tr><td>ChEMBL     </td><td>ChEMBL                          </td><td style=\"text-align: right;\">   4096</td><td>a(ChEMBL:CHEMBL254328)                                       </td></tr>\n",
       "<tr><td>GOBP       </td><td>Gene Ontology                   </td><td style=\"text-align: right;\">   2085</td><td>bp(GOBP:&quot;&#x27;de novo&#x27; NAD biosynthetic process from tryptophan&quot;)</td></tr>\n",
       "<tr><td>Disease    </td><td>                                </td><td style=\"text-align: right;\">   1585</td><td>path(Disease:Vulvovaginitis)                                 </td></tr>\n",
       "<tr><td>Reactome   </td><td>Reactome                        </td><td style=\"text-align: right;\">   1513</td><td>bp(Reactome:&quot;DCC mediated attractive signaling. [P06241-1]&quot;) </td></tr>\n",
       "<tr><td>HGNC       </td><td>HUGO Gene Nomenclature Committee</td><td style=\"text-align: right;\">   1347</td><td>p(HGNC:RAB2A)                                                </td></tr>\n",
       "<tr><td>GOMF       </td><td>Gene Ontology                   </td><td style=\"text-align: right;\">   1332</td><td>bp(GOMF:&quot;potassium channel activity&quot;)                        </td></tr>\n",
       "<tr><td>MOA        </td><td>                                </td><td style=\"text-align: right;\">    739</td><td>bp(MOA:&quot;Phosphodiesterase 10A inhibitor&quot;)                    </td></tr>\n",
       "</tbody>\n",
       "</table>\n",
       "            <h2>Edges</h2>\n",
       "            <table>\n",
       "<thead>\n",
       "<tr><th>Edge Type                              </th><th style=\"text-align: right;\">  Count</th><th>Example                                                                                                                    </th></tr>\n",
       "</thead>\n",
       "<tbody>\n",
       "<tr><td>Pathology association Abundance        </td><td style=\"text-align: right;\">  73309</td><td>path(SideEffect:&quot;pulmonary arterial hypertension&quot;) association a(ChEMBL:CHEMBL779)                                         </td></tr>\n",
       "<tr><td>Protein association Abundance          </td><td style=\"text-align: right;\">  18083</td><td>p(HGNC:ERBB2) association a(ChEMBL:CHEMBL1201179)                                                                          </td></tr>\n",
       "<tr><td>Protein association BiologicalProcess  </td><td style=\"text-align: right;\">  17838</td><td>p(HGNC:VEGFA) association bp(Reactome:&quot;TFAP2 (AP-2) family regulates transcription of growth factors and their receptors.&quot;)</td></tr>\n",
       "<tr><td>BiologicalProcess association Abundance</td><td style=\"text-align: right;\">   2368</td><td>bp(MOA:&quot;C-C chemokine receptor type 2 antagonist&quot;) association a(ChEMBL:CHEMBL2110727)                                     </td></tr>\n",
       "</tbody>\n",
       "</table>\n"
      ],
      "text/plain": [
       "<pybel.struct.graph.SummarizeDispatch at 0x2a190a46530>"
      ]
     },
     "execution_count": 55,
     "metadata": {},
     "output_type": "execute_result"
    }
   ],
   "source": [
    "itmp_graph.summarize"
   ]
  },
  {
   "cell_type": "code",
   "execution_count": 56,
   "id": "04ffd9c3",
   "metadata": {},
   "outputs": [
    {
     "data": {
      "text/plain": [
       "[Text(0.5, 0, 'Node'),\n",
       " Text(0, 0.5, 'Number'),\n",
       " Text(0.5, 1.0, 'KG nodes in numbers (Total=35952)')]"
      ]
     },
     "execution_count": 56,
     "metadata": {},
     "output_type": "execute_result"
    },
    {
     "data": {
      "image/png": "[encoded data removed]",
      "text/plain": [
       "<Figure size 432x288 with 1 Axes>"
      ]
     },
     "metadata": {
      "needs_background": "light"
     },
     "output_type": "display_data"
    }
   ],
   "source": [
    "node_data = {'Node':['Pathology','BiologicalProcess','Abundance','Protein'],\n",
    "       'Number':[9005,5669,19931,1347]}\n",
    "node = pd.DataFrame(node_data)\n",
    "a = sns.barplot(x=\"Node\", y=\"Number\", data=node)\n",
    "a.set(xlabel='Node',ylabel='Number',title= 'KG nodes in numbers (Total=35952)')"
   ]
  },
  {
   "cell_type": "code",
   "execution_count": 57,
   "id": "3b0b95f3",
   "metadata": {},
   "outputs": [
    {
     "data": {
      "text/plain": [
       "[Text(0.5, 0, 'Number'),\n",
       " Text(0, 0.5, 'Namespace'),\n",
       " Text(0.5, 1.0, 'KG Namespace in numbers')]"
      ]
     },
     "execution_count": 57,
     "metadata": {},
     "output_type": "execute_result"
    },
    {
     "data": {
      "image/png": "[encoded data removed]",
      "text/plain": [
       "<Figure size 432x288 with 1 Axes>"
      ]
     },
     "metadata": {
      "needs_background": "light"
     },
     "output_type": "display_data"
    }
   ],
   "source": [
    "nspace_data = {'Namespace':['ChEMBLAssay','ChEMBL','GOBP','GOMF','HGNC','Disease','SideEffect','Reactome','MOA'],\n",
    "       'Number':[15835,4096,2085,1332,1347,1585,7420,1513,739]}\n",
    "nspace = pd.DataFrame(nspace_data)\n",
    "a = sns.barplot(x=\"Number\", y=\"Namespace\", data=nspace_data)\n",
    "a.set(xlabel='Number',ylabel='Namespace',title= 'KG Namespace in numbers')"
   ]
  },
  {
   "cell_type": "code",
   "execution_count": 60,
   "id": "db746c14",
   "metadata": {},
   "outputs": [],
   "source": [
    "#to cytoscape compatible graphml \n",
    "pybel.to_graphml(itmp_graph,'data/export//bycovidgraph_2ndSep.graphml')\n",
    "\n",
    "#to regular BEL format\n",
    "pybel.dump(itmp_graph,'data/export//bycovidgraph_2ndSep.bel')\n",
    "\n",
    "#to neo4j\n",
    "pybel.to_csv(itmp_graph,'data/export//bycovidgraph_2ndSep.csv')\n",
    "\n",
    "#to sif\n",
    "pybel.to_sif(itmp_graph,'data/export//bycovidgraph_2ndSep.sif')"
   ]
  },
  {
   "cell_type": "code",
   "execution_count": null,
   "id": "5d3b2344",
   "metadata": {},
   "outputs": [],
   "source": []
  }
 ],
 "metadata": {
  "kernelspec": {
   "display_name": "Python 3 (ipykernel)",
   "language": "python",
   "name": "python3"
  },
  "language_info": {
   "codemirror_mode": {
    "name": "ipython",
    "version": 3
   },
   "file_extension": ".py",
   "mimetype": "text/x-python",
   "name": "python",
   "nbconvert_exporter": "python",
   "pygments_lexer": "ipython3",
   "version": "3.10.4"
  }
 },
 "nbformat": 4,
 "nbformat_minor": 5
}
